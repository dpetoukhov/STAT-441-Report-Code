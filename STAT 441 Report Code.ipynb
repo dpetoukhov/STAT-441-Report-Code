{
 "cells": [
  {
   "cell_type": "code",
   "execution_count": 2,
   "metadata": {},
   "outputs": [],
   "source": [
    "from IPython.core.interactiveshell import InteractiveShell\n",
    "InteractiveShell.ast_node_interactivity = \"all\""
   ]
  },
  {
   "cell_type": "code",
   "execution_count": 3,
   "metadata": {},
   "outputs": [],
   "source": [
    "%matplotlib inline"
   ]
  },
  {
   "cell_type": "code",
   "execution_count": 4,
   "metadata": {
    "scrolled": true
   },
   "outputs": [
    {
     "data": {
      "text/plain": [
       "'/Users/daniel/anaconda3/bin/python'"
      ]
     },
     "execution_count": 4,
     "metadata": {},
     "output_type": "execute_result"
    }
   ],
   "source": [
    "import sys\n",
    "sys.executable"
   ]
  },
  {
   "cell_type": "code",
   "execution_count": 5,
   "metadata": {},
   "outputs": [],
   "source": [
    "import quandl\n",
    "import datetime as dt\n",
    "import numpy as np\n",
    "import pandas as pd"
   ]
  },
  {
   "cell_type": "code",
   "execution_count": 6,
   "metadata": {},
   "outputs": [],
   "source": [
    "quandl.ApiConfig.api_key=\"MahdHLBnn64NQinuLxfz\""
   ]
  },
  {
   "cell_type": "code",
   "execution_count": 7,
   "metadata": {},
   "outputs": [],
   "source": [
    "tickers = pd.read_csv('sharadar_ticker_list.csv')\n",
    "tickers = pd.DataFrame(tickers)"
   ]
  },
  {
   "cell_type": "code",
   "execution_count": 8,
   "metadata": {},
   "outputs": [],
   "source": [
    "biz_services = tickers.famaindustry=='Business Services'\n",
    "banking = tickers.famaindustry=='Banking'\n",
    "pharma = tickers.famaindustry=='Pharmaceutical Products'"
   ]
  },
  {
   "cell_type": "code",
   "execution_count": 9,
   "metadata": {},
   "outputs": [],
   "source": [
    "cap_sizes = tickers.scalemarketcap\n",
    "biz_services = pd.Series(np.logical_and(biz_services, \n",
    "                                      cap_sizes != '1 - Nano'))\n",
    "biz_services = pd.Series(np.logical_and(biz_services, \n",
    "                                      cap_sizes != '2 - Micro'))\n",
    "tickers_biz_services = tickers.ticker[biz_services].tolist()\n",
    "\n",
    "banking = pd.Series(np.logical_and(banking, \n",
    "                                      cap_sizes != '1 - Nano'))\n",
    "banking = pd.Series(np.logical_and(banking, \n",
    "                                      cap_sizes != '2 - Micro'))\n",
    "tickers_banking = tickers.ticker[banking].tolist()\n",
    "\n",
    "\n",
    "pharma = pd.Series(np.logical_and(pharma, \n",
    "                                      cap_sizes != '1 - Nano'))\n",
    "pharma = pd.Series(np.logical_and(pharma, \n",
    "                                      cap_sizes != '2 - Micro'))\n",
    "tickers_pharma = tickers.ticker[pharma].tolist()"
   ]
  },
  {
   "cell_type": "code",
   "execution_count": 13,
   "metadata": {},
   "outputs": [],
   "source": [
    "tickers_large_cap = pd.read_csv(\"tickers.csv\")\n",
    "tickers_large_cap = tickers_large_cap.large_cap.tolist()"
   ]
  },
  {
   "cell_type": "code",
   "execution_count": 14,
   "metadata": {},
   "outputs": [],
   "source": [
    "features={\"columns\":['ticker','datekey', 'price', 'revenue',\n",
    "                    'bvps', 'assetturnover', 'cashnequsd',\n",
    "                    'de', 'debtusd', 'divyield',\n",
    "                    'dps', 'ebitdamargin', 'epsusd', 'ev', 'evebit',\n",
    "                    'evebitda', 'fcfps', 'grossmargin', 'intangibles',\n",
    "                    'netmargin', 'payoutratio', 'pb', 'pe', 'pe1',\n",
    "                    'ps', 'ps1', 'revenueusd', 'roa', 'roe',\n",
    "                    'roic', 'ros', 'sharefactor', 'sps', 'tbvps']}"
   ]
  },
  {
   "cell_type": "code",
   "execution_count": 15,
   "metadata": {},
   "outputs": [],
   "source": [
    "t = quandl.get_table('SHARADAR/SF1', qopts=features,\n",
    "                       paginate=True)"
   ]
  },
  {
   "cell_type": "code",
   "execution_count": 16,
   "metadata": {},
   "outputs": [],
   "source": [
    "tickers_av = t['ticker'].tolist()"
   ]
  },
  {
   "cell_type": "code",
   "execution_count": 17,
   "metadata": {},
   "outputs": [],
   "source": [
    "ticks_large_cap = list()\n",
    "ticks_biz = list()\n",
    "ticks_bank = list()\n",
    "ticks_pharma = list()\n",
    "for tik in tickers_large_cap:\n",
    "    if tik in tickers_av:\n",
    "        ticks_large_cap.append(tik)\n",
    "for tik in tickers_biz_services:\n",
    "    if tik in tickers_av:\n",
    "        ticks_biz.append(tik)\n",
    "for tik in tickers_banking:\n",
    "    if tik in tickers_av:\n",
    "        ticks_bank.append(tik)\n",
    "for tik in tickers_pharma:\n",
    "    if tik in tickers_av:\n",
    "        ticks_pharma.append(tik)"
   ]
  },
  {
   "cell_type": "code",
   "execution_count": 19,
   "metadata": {},
   "outputs": [],
   "source": [
    "t1_large_cap = quandl.get_table('SHARADAR/SF1', qopts=features, \n",
    "                      dimension='MRY', ticker=ticks_large_cap[0:300], \n",
    "                      paginate=True)\n",
    "t2_large_cap = quandl.get_table('SHARADAR/SF1', qopts=features, \n",
    "                      dimension='MRY', ticker=ticks_large_cap[300:600], \n",
    "                      paginate=True)\n",
    "t3_large_cap = quandl.get_table('SHARADAR/SF1', qopts=features, \n",
    "                      dimension='MRY', ticker=ticks_large_cap[600:900], \n",
    "                      paginate=True)\n",
    "t4_large_cap = quandl.get_table('SHARADAR/SF1', qopts=features, \n",
    "                      dimension='MRY', ticker=ticks_large_cap[900:], \n",
    "                      paginate=True)\n",
    "\n",
    "t1_biz = quandl.get_table('SHARADAR/SF1', qopts=features, \n",
    "                      dimension='MRY', ticker=ticks_biz[0:300], \n",
    "                      paginate=True)\n",
    "t2_biz = quandl.get_table('SHARADAR/SF1', qopts=features, \n",
    "                      dimension='MRY', ticker=ticks_biz[300:600], \n",
    "                      paginate=True)\n",
    "t3_biz = quandl.get_table('SHARADAR/SF1', qopts=features, \n",
    "                      dimension='MRY', ticker=ticks_biz[600:], \n",
    "                      paginate=True)\n",
    "\n",
    "t1_bank = quandl.get_table('SHARADAR/SF1', qopts=features, \n",
    "                      dimension='MRY', ticker=ticks_bank[0:300], \n",
    "                      paginate=True)\n",
    "t2_bank = quandl.get_table('SHARADAR/SF1', qopts=features, \n",
    "                      dimension='MRY', ticker=ticks_bank[300:], \n",
    "                      paginate=True)\n",
    "\n",
    "t1_pharma = quandl.get_table('SHARADAR/SF1', qopts=features, \n",
    "                      dimension='MRY', ticker=ticks_pharma[0:300], \n",
    "                      paginate=True)\n",
    "t2_pharma = quandl.get_table('SHARADAR/SF1', qopts=features, \n",
    "                      dimension='MRY', ticker=ticks_pharma[300:], \n",
    "                      paginate=True)"
   ]
  },
  {
   "cell_type": "code",
   "execution_count": 20,
   "metadata": {},
   "outputs": [],
   "source": [
    "all_data_large_cap = pd.concat([t1_large_cap, t2_large_cap, \n",
    "                               t3_large_cap, t4_large_cap])\n",
    "all_data_biz = pd.concat([t1_biz, t2_biz, t3_biz])\n",
    "all_data_bank = pd.concat([t1_bank, t2_bank])\n",
    "all_data_pharma = pd.concat([t1_pharma, t2_pharma])"
   ]
  },
  {
   "cell_type": "code",
   "execution_count": 21,
   "metadata": {},
   "outputs": [],
   "source": [
    "all_data_large_cap = all_data_large_cap.dropna(axis=0)\n",
    "all_data_biz = all_data_biz.dropna(axis=0)\n",
    "all_data_bank = all_data_bank.dropna(axis=0)\n",
    "all_data_pharma = all_data_pharma.dropna(axis=0)"
   ]
  },
  {
   "cell_type": "code",
   "execution_count": 22,
   "metadata": {},
   "outputs": [],
   "source": [
    "all_data_large_cap.index = list(range(all_data_large_cap.shape[0]))\n",
    "all_data_biz.index = list(range(all_data_biz.shape[0]))\n",
    "all_data_bank.index = list(range(all_data_bank.shape[0]))\n",
    "all_data_pharma.index = list(range(all_data_pharma.shape[0]))"
   ]
  },
  {
   "cell_type": "code",
   "execution_count": 23,
   "metadata": {},
   "outputs": [
    {
     "name": "stdout",
     "output_type": "stream",
     "text": [
      "done large_cap\n",
      "done biz\n",
      "done bank\n",
      "done pharma\n"
     ]
    }
   ],
   "source": [
    "count = 0\n",
    "for i in range(all_data_large_cap.shape[0] - 1):\n",
    "    if all_data_large_cap.ticker[i] == all_data_large_cap.ticker[i+1]:\n",
    "        if count == 0:\n",
    "            all_data_large_cap.loc[i, 'price_change'] = np.nan\n",
    "            all_data_large_cap.loc[i, 'price_change%'] = np.nan\n",
    "            count += 1\n",
    "        if (all_data_large_cap.datekey[i] - all_data_large_cap.datekey[i+1]).days > 0:\n",
    "            price_change = all_data_large_cap.price[i] - all_data_large_cap.price[i+1]\n",
    "            if (price_change > 0) and ((price_change / all_data_large_cap.price[i+1]) > 0.105):\n",
    "                all_data_large_cap.loc[i+1, 'price_change'] = 1\n",
    "                all_data_large_cap.loc[i+1, 'price_change%'] = (price_change / all_data_large_cap.price[i+1])\n",
    "            else:\n",
    "                all_data_large_cap.loc[i+1, 'price_change'] = -1\n",
    "                all_data_large_cap.loc[i+1, 'price_change%'] = (price_change / all_data_large_cap.price[i+1])\n",
    "        else:\n",
    "            print('error')\n",
    "            break\n",
    "    else:\n",
    "        count = 0\n",
    "        continue\n",
    "print('done large_cap')\n",
    "\n",
    "count = 0\n",
    "for i in range(all_data_biz.shape[0] - 1):\n",
    "    if all_data_biz.ticker[i] == all_data_biz.ticker[i+1]:\n",
    "        if count == 0:\n",
    "            all_data_biz.loc[i, 'price_change'] = np.nan\n",
    "            all_data_biz.loc[i, 'price_change%'] = np.nan\n",
    "            count += 1\n",
    "        if (all_data_biz.datekey[i] - all_data_biz.datekey[i+1]).days > 0:\n",
    "            price_change = all_data_biz.price[i] - all_data_biz.price[i+1]\n",
    "            if (price_change > 0) and ((price_change / all_data_biz.price[i+1]) > 0.105):\n",
    "                all_data_biz.loc[i+1, 'price_change'] = 1\n",
    "                all_data_biz.loc[i+1, 'price_change%'] = (price_change / all_data_biz.price[i+1])\n",
    "            else:\n",
    "                all_data_biz.loc[i+1, 'price_change'] = -1\n",
    "                all_data_biz.loc[i+1, 'price_change%'] = (price_change / all_data_biz.price[i+1])\n",
    "        else:\n",
    "            print('error')\n",
    "            break\n",
    "    else:\n",
    "        count = 0\n",
    "        continue\n",
    "print('done biz')\n",
    "\n",
    "\n",
    "count = 0\n",
    "for i in range(all_data_bank.shape[0] - 1):\n",
    "    if all_data_bank.ticker[i] == all_data_bank.ticker[i+1]:\n",
    "        if count == 0:\n",
    "            all_data_bank.loc[i, 'price_change'] = np.nan\n",
    "            all_data_bank.loc[i, 'price_change%'] = np.nan\n",
    "            count += 1\n",
    "        if (all_data_bank.datekey[i] - all_data_bank.datekey[i+1]).days > 0:\n",
    "            price_change = all_data_bank.price[i] - all_data_bank.price[i+1]\n",
    "            if (price_change > 0) and ((price_change / all_data_bank.price[i+1]) > 0.105):\n",
    "                all_data_bank.loc[i+1, 'price_change'] = 1\n",
    "                all_data_bank.loc[i+1, 'price_change%'] = (price_change / all_data_bank.price[i+1])\n",
    "            else:\n",
    "                all_data_bank.loc[i+1, 'price_change'] = -1\n",
    "                all_data_bank.loc[i+1, 'price_change%'] = (price_change / all_data_bank.price[i+1])\n",
    "        else:\n",
    "            print('error')\n",
    "            break\n",
    "    else:\n",
    "        count = 0\n",
    "        continue\n",
    "print('done bank')\n",
    "        \n",
    "count = 0\n",
    "for i in range(all_data_pharma.shape[0] - 1):\n",
    "    if all_data_pharma.ticker[i] == all_data_pharma.ticker[i+1]:\n",
    "        if count == 0:\n",
    "            all_data_pharma.loc[i, 'price_change'] = np.nan\n",
    "            all_data_pharma.loc[i, 'price_change%'] = np.nan\n",
    "            count += 1\n",
    "        if (all_data_pharma.datekey[i] - all_data_pharma.datekey[i+1]).days > 0:\n",
    "            price_change = all_data_pharma.price[i] - all_data_pharma.price[i+1]\n",
    "            if (price_change > 0) and ((price_change / all_data_pharma.price[i+1]) > 0.105):\n",
    "                all_data_pharma.loc[i+1, 'price_change'] = 1\n",
    "                all_data_pharma.loc[i+1, 'price_change%'] = (price_change / all_data_pharma.price[i+1])\n",
    "            else:\n",
    "                all_data_pharma.loc[i+1, 'price_change'] = -1\n",
    "                all_data_pharma.loc[i+1, 'price_change%'] = (price_change / all_data_pharma.price[i+1])\n",
    "        else:\n",
    "            print('error')\n",
    "            break\n",
    "    else:\n",
    "        count = 0\n",
    "        continue\n",
    "print('done pharma')"
   ]
  },
  {
   "cell_type": "code",
   "execution_count": 24,
   "metadata": {},
   "outputs": [],
   "source": [
    "all_data_large_cap = all_data_large_cap.dropna(axis=0)\n",
    "all_data_biz = all_data_biz.dropna(axis=0)\n",
    "all_data_bank = all_data_bank.dropna(axis=0)\n",
    "all_data_pharma = all_data_pharma.dropna(axis=0)"
   ]
  },
  {
   "cell_type": "code",
   "execution_count": 25,
   "metadata": {},
   "outputs": [],
   "source": [
    "all_data_large_cap_trimmed = all_data_large_cap.drop(columns=['ticker',\n",
    "                                                    'datekey', \n",
    "                                                    'revenue', 'price_change%'])\n",
    "all_data_biz_trimmed = all_data_biz.drop(columns=['ticker',\n",
    "                                                    'datekey', \n",
    "                                                    'revenue', 'price_change%'])\n",
    "all_data_bank_trimmed = all_data_bank.drop(columns=['ticker', \n",
    "                                                    'datekey', \n",
    "                                                    'revenue', 'price_change%'])\n",
    "all_data_pharma_trimmed = all_data_pharma.drop(columns=['ticker', \n",
    "                                                    'datekey', \n",
    "                                                    'revenue', 'price_change%'])"
   ]
  },
  {
   "cell_type": "code",
   "execution_count": 26,
   "metadata": {},
   "outputs": [],
   "source": [
    "past_2016 = all_data_large_cap.datekey > dt.datetime(2016, 1, 1)"
   ]
  },
  {
   "cell_type": "code",
   "execution_count": 27,
   "metadata": {},
   "outputs": [],
   "source": [
    "large_cap_past_2016 = all_data_large_cap.datekey > dt.datetime(2016, 1, 1)\n",
    "biz_past_2016 = all_data_biz.datekey > dt.datetime(2016, 1, 1)\n",
    "bank_past_2016 = all_data_bank.datekey > dt.datetime(2016, 1, 1)\n",
    "pharma_past_2016 = all_data_pharma.datekey > dt.datetime(2016, 1, 1)\n",
    "\n",
    "train_set_large_cap = all_data_large_cap_trimmed[-large_cap_past_2016]\n",
    "train_labels_large_cap = train_set_large_cap.price_change\n",
    "train_set_large_cap = train_set_large_cap.drop(columns='price_change')\n",
    "test_set_large_cap = all_data_large_cap_trimmed[large_cap_past_2016]\n",
    "test_labels_large_cap = test_set_large_cap.price_change\n",
    "test_set_large_cap = test_set_large_cap.drop(columns='price_change')\n",
    "\n",
    "train_set_biz = all_data_biz_trimmed[-biz_past_2016]\n",
    "train_labels_biz = train_set_biz.price_change\n",
    "train_set_biz = train_set_biz.drop(columns='price_change')\n",
    "test_set_biz = all_data_biz_trimmed[biz_past_2016]\n",
    "test_labels_biz = test_set_biz.price_change\n",
    "test_set_biz = test_set_biz.drop(columns='price_change')\n",
    "\n",
    "train_set_bank = all_data_bank_trimmed[-bank_past_2016]\n",
    "train_labels_bank = train_set_bank.price_change\n",
    "train_set_bank = train_set_bank.drop(columns='price_change')\n",
    "test_set_bank = all_data_bank_trimmed[bank_past_2016]\n",
    "test_labels_bank = test_set_bank.price_change\n",
    "test_set_bank = test_set_bank.drop(columns='price_change')\n",
    "\n",
    "train_set_pharma = all_data_pharma_trimmed[-pharma_past_2016]\n",
    "train_labels_pharma = train_set_pharma.price_change\n",
    "train_set_pharma = train_set_pharma.drop(columns='price_change')\n",
    "test_set_pharma = all_data_pharma_trimmed[pharma_past_2016]\n",
    "test_labels_pharma = test_set_pharma.price_change\n",
    "test_set_pharma = test_set_pharma.drop(columns='price_change')"
   ]
  },
  {
   "cell_type": "code",
   "execution_count": 28,
   "metadata": {},
   "outputs": [],
   "source": [
    "X_large_cap = train_set_large_cap.apply(pd.to_numeric)\n",
    "y_large_cap = train_labels_large_cap\n",
    "X_test_large_cap = test_set_large_cap.apply(pd.to_numeric)\n",
    "y_test_large_cap = test_labels_large_cap\n",
    "\n",
    "X_biz = train_set_biz.apply(pd.to_numeric)\n",
    "y_biz = train_labels_biz\n",
    "X_test_biz = test_set_biz.apply(pd.to_numeric)\n",
    "y_test_biz = test_labels_biz\n",
    "\n",
    "X_bank = train_set_bank.apply(pd.to_numeric)\n",
    "y_bank = train_labels_bank\n",
    "X_test_bank = test_set_bank.apply(pd.to_numeric)\n",
    "y_test_bank = test_labels_bank\n",
    "\n",
    "X_pharma = train_set_pharma.apply(pd.to_numeric)\n",
    "y_pharma = train_labels_pharma\n",
    "X_test_pharma = test_set_pharma.apply(pd.to_numeric)\n",
    "y_test_pharma = test_labels_pharma"
   ]
  },
  {
   "cell_type": "markdown",
   "metadata": {},
   "source": [
    "# We now have all of our data, with the response being the variable 'price_change'. We take it through a transformation pipeline."
   ]
  },
  {
   "cell_type": "code",
   "execution_count": 29,
   "metadata": {},
   "outputs": [],
   "source": [
    "from sklearn.model_selection import train_test_split\n",
    "from sklearn.model_selection import StratifiedShuffleSplit"
   ]
  },
  {
   "cell_type": "code",
   "execution_count": 30,
   "metadata": {},
   "outputs": [],
   "source": [
    "from pandas.plotting import scatter_matrix"
   ]
  },
  {
   "cell_type": "code",
   "execution_count": 31,
   "metadata": {},
   "outputs": [],
   "source": [
    "from sklearn.pipeline import Pipeline\n",
    "from sklearn.preprocessing import StandardScaler"
   ]
  },
  {
   "cell_type": "code",
   "execution_count": 32,
   "metadata": {},
   "outputs": [],
   "source": [
    "from sklearn.metrics import mean_squared_error\n",
    "from sklearn.svm import LinearSVC\n",
    "from sklearn.preprocessing import PolynomialFeatures\n",
    "from sklearn.model_selection import GridSearchCV"
   ]
  },
  {
   "cell_type": "code",
   "execution_count": 33,
   "metadata": {},
   "outputs": [],
   "source": [
    "from sklearn.metrics import confusion_matrix"
   ]
  },
  {
   "cell_type": "markdown",
   "metadata": {},
   "source": [
    "# We try a random forest"
   ]
  },
  {
   "cell_type": "code",
   "execution_count": 34,
   "metadata": {},
   "outputs": [],
   "source": [
    "import sklearn as sk"
   ]
  },
  {
   "cell_type": "code",
   "execution_count": 35,
   "metadata": {},
   "outputs": [],
   "source": [
    "from sklearn.ensemble import RandomForestClassifier"
   ]
  },
  {
   "cell_type": "code",
   "execution_count": 36,
   "metadata": {},
   "outputs": [],
   "source": [
    "from sklearn.metrics import make_scorer, precision_score, recall_score, accuracy_score"
   ]
  },
  {
   "cell_type": "code",
   "execution_count": 37,
   "metadata": {},
   "outputs": [],
   "source": [
    "import optunity\n",
    "import optunity.metrics"
   ]
  },
  {
   "cell_type": "code",
   "execution_count": 38,
   "metadata": {},
   "outputs": [],
   "source": [
    "from sklearn.model_selection import cross_val_score"
   ]
  },
  {
   "cell_type": "code",
   "execution_count": 39,
   "metadata": {},
   "outputs": [],
   "source": [
    "def informedness_score(y, y_pred):\n",
    "    confusion = confusion_matrix(y_true=y, y_pred=y_pred,\n",
    "                                labels=[1.0, -1.0])\n",
    "    tn = confusion[1,1]\n",
    "    tp = confusion[0,0]\n",
    "    fn = confusion[0,1]\n",
    "    fp = confusion[1,0]\n",
    "    inverse_recall = tn / (fp + tn)\n",
    "    TPR = tp / (tp + fn)\n",
    "    FPR = fp / (fp + tn)\n",
    "    informed = TPR - FPR\n",
    "    return informed\n",
    "\n",
    "\n",
    "\n",
    "def informedness(y, y_pred):\n",
    "    confusion = confusion_matrix(y_true=y, y_pred=y_pred,\n",
    "                                labels=[1.0, -1.0])\n",
    "    tn = confusion[1,1]\n",
    "    tp = confusion[0,0]\n",
    "    fn = confusion[0,1]\n",
    "    fp = confusion[1,0]\n",
    "    inverse_recall = tn / (fp + tn)\n",
    "    TPR = tp / (tp + fn)\n",
    "    FPR = fp / (fp + tn)\n",
    "    informed = TPR - FPR\n",
    "    return informed\n",
    "\n",
    "informedness = make_scorer(informedness)\n",
    "\n",
    "def markedness_score(y, y_pred):\n",
    "    confusion = confusion_matrix(y_true=y, y_pred=y_pred)\n",
    "    tn = confusion[0,0]\n",
    "    fn = confusion[1,0]\n",
    "    inverse_precision = tn / (tn + fn)\n",
    "    mark = precision_score(y_true=y, y_pred=y_pred) + inverse_precision - 1\n",
    "    return mark\n",
    "\n",
    "def markedness(y, y_pred):\n",
    "    confusion = confusion_matrix(y_true=y, y_pred=y_pred)\n",
    "    tn = confusion[0,0]\n",
    "    fn = confusion[1,0]\n",
    "    inverse_precision = tn / (tn + fn)\n",
    "    mark = precision_score(y_true=y, y_pred=y_pred) + inverse_precision - 1\n",
    "    return mark\n",
    "\n",
    "markedness = make_scorer(markedness)"
   ]
  },
  {
   "cell_type": "code",
   "execution_count": 62,
   "metadata": {},
   "outputs": [],
   "source": [
    "constraints = {\n",
    "    'depth': 1, 'min_leaf':1, 'min_split':1, 'n_trees':1\n",
    "}\n",
    "\n",
    "\n",
    "@optunity.cross_validated(x=X_large_cap.values, y=y_large_cap.values, num_folds=5)\n",
    "def forest_cv_validation_cap(x_train, y_train, x_test, y_test, n_trees, depth, min_leaf, min_split):\n",
    "    forest_pipe = Pipeline([\n",
    "    ('scaler', StandardScaler()),\n",
    "    ('forest', RandomForestClassifier(bootstrap=True, oob_score=True,\n",
    "                                     n_jobs=-1, random_state=42,\n",
    "                                     n_estimators=int(n_trees), max_depth=int(depth), \n",
    "                                     min_samples_leaf=int(min_leaf),\n",
    "                                     min_samples_split=int(min_split)))\n",
    "    ])\n",
    "    model = forest_pipe.fit(x_train, y_train)\n",
    "    decision_values = model.predict(x_test)\n",
    "    model_precision = precision_score(y_true=y_test, y_pred=decision_values)\n",
    "    model_informedness = informedness_score(y=y_test, y_pred=decision_values)\n",
    "    return model_informedness\n",
    "\n",
    "forest_cv_validation_cap = optunity.wrap_constraints(forest_cv_validation_cap, default=0, lb_o=constraints)"
   ]
  },
  {
   "cell_type": "code",
   "execution_count": 63,
   "metadata": {},
   "outputs": [],
   "source": [
    "solver = optunity.solvers.ParticleSwarm(num_particles=20, num_generations=10, n_trees=[100, 500], \n",
    "                                        depth=[5, 20], min_leaf=[25, 75], min_split=[6, 10])"
   ]
  },
  {
   "cell_type": "code",
   "execution_count": 64,
   "metadata": {
    "scrolled": true
   },
   "outputs": [
    {
     "name": "stdout",
     "output_type": "stream",
     "text": [
      "done\n",
      "CPU times: user 50min 6s, sys: 1min 4s, total: 51min 11s\n",
      "Wall time: 30min 44s\n"
     ]
    }
   ],
   "source": [
    "%%time\n",
    "optimal_forest_cap_params, optimal_forest_cap_info = solver.maximize(forest_cv_validation_cap)\n",
    "\n",
    "print('done')"
   ]
  },
  {
   "cell_type": "code",
   "execution_count": 65,
   "metadata": {},
   "outputs": [],
   "source": [
    "constraints = {\n",
    "    'depth': 1, 'min_leaf':1, 'min_split':1, 'n_trees':1\n",
    "}\n",
    "\n",
    "\n",
    "@optunity.cross_validated(x=X_biz.values, y=y_biz.values, num_folds=5)\n",
    "def forest_cv_validation_biz(x_train, y_train, x_test, y_test, n_trees, depth, min_leaf, min_split):\n",
    "    forest_pipe = Pipeline([\n",
    "    ('scaler', StandardScaler()),\n",
    "    ('forest', RandomForestClassifier(bootstrap=True, oob_score=True,\n",
    "                                     n_jobs=-1, random_state=42,\n",
    "                                     n_estimators=int(n_trees), max_depth=int(depth), \n",
    "                                     min_samples_leaf=int(min_leaf),\n",
    "                                     min_samples_split=int(min_split)))\n",
    "    ])\n",
    "    model = forest_pipe.fit(x_train, y_train)\n",
    "    decision_values = model.predict(x_test)\n",
    "    model_precision = precision_score(y_true=y_test, y_pred=decision_values)\n",
    "    model_informedness = informedness_score(y=y_test, y_pred=decision_values)\n",
    "    return model_informedness\n",
    "\n",
    "forest_cv_validation_biz = optunity.wrap_constraints(forest_cv_validation_biz, default=0, lb_o=constraints)"
   ]
  },
  {
   "cell_type": "code",
   "execution_count": 66,
   "metadata": {},
   "outputs": [
    {
     "name": "stdout",
     "output_type": "stream",
     "text": [
      "done\n",
      "CPU times: user 15min 25s, sys: 55.8 s, total: 16min 21s\n",
      "Wall time: 13min 45s\n"
     ]
    }
   ],
   "source": [
    "%%time\n",
    "optimal_forest_biz_params, optimal_forest_biz_info = solver.maximize(forest_cv_validation_biz)\n",
    "\n",
    "print('done')"
   ]
  },
  {
   "cell_type": "code",
   "execution_count": 67,
   "metadata": {},
   "outputs": [],
   "source": [
    "@optunity.cross_validated(x=X_bank.values, y=y_bank.values, num_folds=5)\n",
    "def forest_cv_validation_bank(x_train, y_train, x_test, y_test, n_trees, depth, min_leaf, min_split):\n",
    "    forest_pipe = Pipeline([\n",
    "    ('scaler', StandardScaler()),\n",
    "    ('forest', RandomForestClassifier(bootstrap=True, oob_score=True,\n",
    "                                     n_jobs=-1, random_state=42,\n",
    "                                     n_estimators=int(n_trees), max_depth=int(depth), \n",
    "                                     min_samples_leaf=int(min_leaf),\n",
    "                                     min_samples_split=int(min_split)))\n",
    "    ])\n",
    "    model = forest_pipe.fit(x_train, y_train)\n",
    "    decision_values = model.predict(x_test)\n",
    "    model_precision = precision_score(y_true=y_test, y_pred=decision_values)\n",
    "    model_informedness = informedness_score(y=y_test, y_pred=decision_values)\n",
    "    return model_informedness\n",
    "\n",
    "forest_cv_validation_bank = optunity.wrap_constraints(forest_cv_validation_bank, default=0, lb_o=constraints)"
   ]
  },
  {
   "cell_type": "code",
   "execution_count": 68,
   "metadata": {},
   "outputs": [
    {
     "name": "stdout",
     "output_type": "stream",
     "text": [
      "done\n",
      "CPU times: user 22min 56s, sys: 1min 28s, total: 24min 24s\n",
      "Wall time: 21min 4s\n"
     ]
    }
   ],
   "source": [
    "%%time\n",
    "optimal_forest_bank_params, optimal_forest_bank_info = solver.maximize(forest_cv_validation_bank)\n",
    "\n",
    "print('done')"
   ]
  },
  {
   "cell_type": "code",
   "execution_count": 69,
   "metadata": {},
   "outputs": [],
   "source": [
    "@optunity.cross_validated(x=X_pharma.values, y=y_pharma.values, num_folds=5)\n",
    "def forest_cv_validation_pharma(x_train, y_train, x_test, y_test, n_trees, depth, min_leaf, min_split):\n",
    "    forest_pipe = Pipeline([\n",
    "    ('scaler', StandardScaler()),\n",
    "    ('forest', RandomForestClassifier(bootstrap=True, oob_score=True,\n",
    "                                     n_jobs=-1, random_state=42,\n",
    "                                     n_estimators=int(n_trees), max_depth=int(depth), \n",
    "                                     min_samples_leaf=int(min_leaf),\n",
    "                                     min_samples_split=int(min_split)))\n",
    "    ])\n",
    "    model = forest_pipe.fit(x_train, y_train)\n",
    "    decision_values = model.predict(x_test)\n",
    "    model_precision = precision_score(y_true=y_test, y_pred=decision_values)\n",
    "    model_informedness = informedness_score(y=y_test, y_pred=decision_values)\n",
    "    return model_informedness\n",
    "\n",
    "forest_cv_validation_pharma = optunity.wrap_constraints(forest_cv_validation_pharma, default=0, lb_o=constraints)"
   ]
  },
  {
   "cell_type": "code",
   "execution_count": 70,
   "metadata": {},
   "outputs": [
    {
     "name": "stdout",
     "output_type": "stream",
     "text": [
      "done\n",
      "CPU times: user 15min 14s, sys: 1min 24s, total: 16min 39s\n",
      "Wall time: 16min 2s\n"
     ]
    }
   ],
   "source": [
    "%%time\n",
    "optimal_forest_pharma_params, optimal_forest_pharma_info = solver.maximize(forest_cv_validation_pharma)\n",
    "\n",
    "print('done')"
   ]
  },
  {
   "cell_type": "code",
   "execution_count": 238,
   "metadata": {},
   "outputs": [
    {
     "data": {
      "text/plain": [
       "{'n_trees': 296.3828125,\n",
       " 'depth': 10.517193763520748,\n",
       " 'min_leaf': 29.2545755416967,\n",
       " 'min_split': 7.280546875}"
      ]
     },
     "execution_count": 238,
     "metadata": {},
     "output_type": "execute_result"
    },
    {
     "data": {
      "text/plain": [
       "{'n_trees': 141.29838983226753,\n",
       " 'depth': 14.839112308306898,\n",
       " 'min_leaf': 52.61445710135788,\n",
       " 'min_split': 6.600060109074332}"
      ]
     },
     "execution_count": 238,
     "metadata": {},
     "output_type": "execute_result"
    },
    {
     "data": {
      "text/plain": [
       "{'n_trees': 308.8203125,\n",
       " 'depth': 15.341175449205972,\n",
       " 'min_leaf': 16.873671381194917,\n",
       " 'min_split': 7.823671875}"
      ]
     },
     "execution_count": 238,
     "metadata": {},
     "output_type": "execute_result"
    },
    {
     "data": {
      "text/plain": [
       "{'n_trees': 371.4550272376997,\n",
       " 'depth': 15.451901351316222,\n",
       " 'min_leaf': 29.48494039665839,\n",
       " 'min_split': 6.891704687155587}"
      ]
     },
     "execution_count": 238,
     "metadata": {},
     "output_type": "execute_result"
    }
   ],
   "source": [
    "optimal_forest_cap_params\n",
    "optimal_forest_biz_params\n",
    "optimal_forest_bank_params\n",
    "optimal_forest_pharma_params"
   ]
  },
  {
   "cell_type": "code",
   "execution_count": 394,
   "metadata": {
    "scrolled": true
   },
   "outputs": [],
   "source": [
    "%%capture\n",
    "optimal_forest_pipe_cap = Pipeline([\n",
    "    ('scaler', StandardScaler()),\n",
    "    ('forest', RandomForestClassifier(bootstrap=True, oob_score=True,\n",
    "                                     n_jobs=-1, random_state=42,\n",
    "                                     n_estimators=int(optimal_forest_cap_params['n_trees']), \n",
    "                                      max_depth=int(optimal_forest_cap_params['depth']), \n",
    "                                     min_samples_leaf=int(optimal_forest_cap_params['min_leaf']),\n",
    "                                     min_samples_split=int(optimal_forest_cap_params['min_split'])))\n",
    "])\n",
    "\n",
    "optimal_forest_cap = optimal_forest_pipe_cap.fit(X_large_cap, y_large_cap)\n",
    "\n",
    "train_pred_cap = optimal_forest_cap.predict(X_large_cap)\n",
    "test_pred_cap = optimal_forest_cap.predict(X_test_large_cap)"
   ]
  },
  {
   "cell_type": "code",
   "execution_count": 395,
   "metadata": {},
   "outputs": [],
   "source": [
    "%%capture\n",
    "optimal_forest_cap_cv_inform = cross_val_score(optimal_forest_cap, X=X_large_cap, y=y_large_cap, cv=5,\n",
    "                                              scoring=informedness)\n",
    "optimal_forest_cap_cv_precision = cross_val_score(optimal_forest_cap, X=X_large_cap, y=y_large_cap, cv=5,\n",
    "                                              scoring=make_scorer(precision_score))\n",
    "optimal_forest_cap_cv_recall = cross_val_score(optimal_forest_cap, X=X_large_cap, y=y_large_cap, cv=5,\n",
    "                                              scoring=make_scorer(recall_score))\n",
    "optimal_forest_cap_cv_accuracy = cross_val_score(optimal_forest_cap, X=X_large_cap, y=y_large_cap, cv=5,\n",
    "                                              scoring=make_scorer(accuracy_score))"
   ]
  },
  {
   "cell_type": "code",
   "execution_count": 396,
   "metadata": {},
   "outputs": [
    {
     "data": {
      "text/plain": [
       "0.15621241203837152"
      ]
     },
     "execution_count": 396,
     "metadata": {},
     "output_type": "execute_result"
    },
    {
     "data": {
      "text/plain": [
       "0.5855620164811365"
      ]
     },
     "execution_count": 396,
     "metadata": {},
     "output_type": "execute_result"
    },
    {
     "data": {
      "text/plain": [
       "0.5938931065897358"
      ]
     },
     "execution_count": 396,
     "metadata": {},
     "output_type": "execute_result"
    },
    {
     "data": {
      "text/plain": [
       "0.5783331783799064"
      ]
     },
     "execution_count": 396,
     "metadata": {},
     "output_type": "execute_result"
    },
    {
     "data": {
      "text/plain": [
       "0.535303776683087"
      ]
     },
     "execution_count": 396,
     "metadata": {},
     "output_type": "execute_result"
    },
    {
     "data": {
      "text/plain": [
       "0.4393530997304582"
      ]
     },
     "execution_count": 396,
     "metadata": {},
     "output_type": "execute_result"
    },
    {
     "data": {
      "text/plain": [
       "0.5791691751956652"
      ]
     },
     "execution_count": 396,
     "metadata": {},
     "output_type": "execute_result"
    },
    {
     "data": {
      "text/plain": [
       "0.13140968297311328"
      ]
     },
     "execution_count": 396,
     "metadata": {},
     "output_type": "execute_result"
    },
    {
     "data": {
      "text/plain": [
       "array([[326, 416],\n",
       "       [283, 636]])"
      ]
     },
     "execution_count": 396,
     "metadata": {},
     "output_type": "execute_result"
    }
   ],
   "source": [
    "np.mean(optimal_forest_cap_cv_inform)\n",
    "np.mean(optimal_forest_cap_cv_precision)\n",
    "np.mean(optimal_forest_cap_cv_recall)\n",
    "np.mean(optimal_forest_cap_cv_accuracy)\n",
    "precision_score(y_true=y_test_large_cap, y_pred=test_pred_cap)\n",
    "recall_score(y_true=y_test_large_cap, y_pred=test_pred_cap)\n",
    "accuracy_score(y_true=y_test_large_cap, y_pred=test_pred_cap)\n",
    "informedness_score(y=y_test_large_cap, y_pred=test_pred_cap)\n",
    "confusion_matrix(y_true=y_test_large_cap, y_pred=test_pred_cap, labels=[1,-1])"
   ]
  },
  {
   "cell_type": "code",
   "execution_count": 397,
   "metadata": {},
   "outputs": [],
   "source": [
    "optimal_forest_pipe_biz = Pipeline([\n",
    "    ('scaler', StandardScaler()),\n",
    "    ('forest', RandomForestClassifier(bootstrap=True, oob_score=True,\n",
    "                                     n_jobs=-1, random_state=42,\n",
    "                                     n_estimators=int(optimal_forest_biz_params['n_trees']), \n",
    "                                      max_depth=int(optimal_forest_biz_params['depth']), \n",
    "                                     min_samples_leaf=int(optimal_forest_biz_params['min_leaf']),\n",
    "                                     min_samples_split=int(optimal_forest_biz_params['min_split'])))\n",
    "])\n",
    "\n",
    "optimal_forest_biz = optimal_forest_pipe_cap.fit(X_biz, y_biz)\n",
    "\n",
    "train_pred_biz = optimal_forest_biz.predict(X_biz)\n",
    "test_pred_biz = optimal_forest_biz.predict(X_test_biz)"
   ]
  },
  {
   "cell_type": "code",
   "execution_count": 398,
   "metadata": {},
   "outputs": [],
   "source": [
    "%%capture\n",
    "optimal_forest_biz_cv_inform = cross_val_score(optimal_forest_biz, X=X_biz, y=y_biz, cv=5,\n",
    "                                              scoring=informedness)\n",
    "optimal_forest_biz_cv_precision = cross_val_score(optimal_forest_biz, X=X_biz, y=y_biz, cv=5,\n",
    "                                              scoring=make_scorer(precision_score))\n",
    "optimal_forest_biz_cv_recall = cross_val_score(optimal_forest_biz, X=X_biz, y=y_biz, cv=5,\n",
    "                                              scoring=make_scorer(recall_score))\n",
    "optimal_forest_biz_cv_accuracy = cross_val_score(optimal_forest_biz, X=X_biz, y=y_biz, cv=5,\n",
    "                                              scoring=make_scorer(accuracy_score))"
   ]
  },
  {
   "cell_type": "code",
   "execution_count": 399,
   "metadata": {},
   "outputs": [
    {
     "data": {
      "text/plain": [
       "0.07347073920957266"
      ]
     },
     "execution_count": 399,
     "metadata": {},
     "output_type": "execute_result"
    },
    {
     "data": {
      "text/plain": [
       "0.5134433506690185"
      ]
     },
     "execution_count": 399,
     "metadata": {},
     "output_type": "execute_result"
    },
    {
     "data": {
      "text/plain": [
       "0.38179391682184977"
      ]
     },
     "execution_count": 399,
     "metadata": {},
     "output_type": "execute_result"
    },
    {
     "data": {
      "text/plain": [
       "0.5487338661509431"
      ]
     },
     "execution_count": 399,
     "metadata": {},
     "output_type": "execute_result"
    },
    {
     "data": {
      "text/plain": [
       "0.5"
      ]
     },
     "execution_count": 399,
     "metadata": {},
     "output_type": "execute_result"
    },
    {
     "data": {
      "text/plain": [
       "0.1867007672634271"
      ]
     },
     "execution_count": 399,
     "metadata": {},
     "output_type": "execute_result"
    },
    {
     "data": {
      "text/plain": [
       "0.45314685314685316"
      ]
     },
     "execution_count": 399,
     "metadata": {},
     "output_type": "execute_result"
    },
    {
     "data": {
      "text/plain": [
       "-0.03860787471188154"
      ]
     },
     "execution_count": 399,
     "metadata": {},
     "output_type": "execute_result"
    },
    {
     "data": {
      "text/plain": [
       "array([[ 73, 318],\n",
       "       [ 73, 251]])"
      ]
     },
     "execution_count": 399,
     "metadata": {},
     "output_type": "execute_result"
    }
   ],
   "source": [
    "np.mean(optimal_forest_biz_cv_inform)\n",
    "np.mean(optimal_forest_biz_cv_precision)\n",
    "np.mean(optimal_forest_biz_cv_recall)\n",
    "np.mean(optimal_forest_biz_cv_accuracy)\n",
    "precision_score(y_true=y_test_biz, y_pred=test_pred_biz)\n",
    "recall_score(y_true=y_test_biz, y_pred=test_pred_biz)\n",
    "accuracy_score(y_true=y_test_biz, y_pred=test_pred_biz)\n",
    "informedness_score(y=y_test_biz, y_pred=test_pred_biz)\n",
    "confusion_matrix(y_true=y_test_biz, y_pred=test_pred_biz, labels=[1,-1])"
   ]
  },
  {
   "cell_type": "code",
   "execution_count": 400,
   "metadata": {},
   "outputs": [],
   "source": [
    "%%capture\n",
    "optimal_forest_pipe_bank = Pipeline([\n",
    "    ('scaler', StandardScaler()),\n",
    "    ('forest', RandomForestClassifier(bootstrap=True, oob_score=True,\n",
    "                                     n_jobs=-1, random_state=42,\n",
    "                                     n_estimators=int(optimal_forest_bank_params['n_trees']), \n",
    "                                      max_depth=int(optimal_forest_bank_params['depth']), \n",
    "                                     min_samples_leaf=int(optimal_forest_bank_params['min_leaf']),\n",
    "                                     min_samples_split=int(optimal_forest_bank_params['min_split'])))\n",
    "])\n",
    "\n",
    "optimal_forest_bank = optimal_forest_pipe_bank.fit(X_bank, y_bank)\n",
    "\n",
    "train_pred_bank = optimal_forest_bank.predict(X_bank)\n",
    "test_pred_bank = optimal_forest_bank.predict(X_test_bank)"
   ]
  },
  {
   "cell_type": "code",
   "execution_count": 401,
   "metadata": {},
   "outputs": [],
   "source": [
    "%%capture\n",
    "optimal_forest_bank_cv_inform = cross_val_score(optimal_forest_bank, X=X_bank, y=y_bank, cv=5,\n",
    "                                              scoring=informedness)\n",
    "optimal_forest_bank_cv_precision = cross_val_score(optimal_forest_bank, X=X_bank, y=y_bank, cv=5,\n",
    "                                              scoring=make_scorer(precision_score))\n",
    "optimal_forest_bank_cv_recall = cross_val_score(optimal_forest_bank, X=X_bank, y=y_bank, cv=5,\n",
    "                                              scoring=make_scorer(recall_score))\n",
    "optimal_forest_bank_cv_accuracy = cross_val_score(optimal_forest_bank, X=X_bank, y=y_bank, cv=5,\n",
    "                                              scoring=make_scorer(accuracy_score))"
   ]
  },
  {
   "cell_type": "code",
   "execution_count": 402,
   "metadata": {},
   "outputs": [
    {
     "data": {
      "text/plain": [
       "0.21140169459299352"
      ]
     },
     "execution_count": 402,
     "metadata": {},
     "output_type": "execute_result"
    },
    {
     "data": {
      "text/plain": [
       "0.6575971700369618"
      ]
     },
     "execution_count": 402,
     "metadata": {},
     "output_type": "execute_result"
    },
    {
     "data": {
      "text/plain": [
       "0.7988426563791677"
      ]
     },
     "execution_count": 402,
     "metadata": {},
     "output_type": "execute_result"
    },
    {
     "data": {
      "text/plain": [
       "0.6377176948586056"
      ]
     },
     "execution_count": 402,
     "metadata": {},
     "output_type": "execute_result"
    },
    {
     "data": {
      "text/plain": [
       "0.3059360730593607"
      ]
     },
     "execution_count": 402,
     "metadata": {},
     "output_type": "execute_result"
    },
    {
     "data": {
      "text/plain": [
       "0.4557823129251701"
      ]
     },
     "execution_count": 402,
     "metadata": {},
     "output_type": "execute_result"
    },
    {
     "data": {
      "text/plain": [
       "0.6100840336134454"
      ]
     },
     "execution_count": 402,
     "metadata": {},
     "output_type": "execute_result"
    },
    {
     "data": {
      "text/plain": [
       "0.11649659863945577"
      ]
     },
     "execution_count": 402,
     "metadata": {},
     "output_type": "execute_result"
    },
    {
     "data": {
      "text/plain": [
       "array([[ 67,  80],\n",
       "       [152, 296]])"
      ]
     },
     "execution_count": 402,
     "metadata": {},
     "output_type": "execute_result"
    }
   ],
   "source": [
    "np.mean(optimal_forest_bank_cv_inform)\n",
    "np.mean(optimal_forest_bank_cv_precision)\n",
    "np.mean(optimal_forest_bank_cv_recall)\n",
    "np.mean(optimal_forest_bank_cv_accuracy)\n",
    "precision_score(y_true=y_test_bank, y_pred=test_pred_bank)\n",
    "recall_score(y_true=y_test_bank, y_pred=test_pred_bank)\n",
    "accuracy_score(y_true=y_test_bank, y_pred=test_pred_bank)\n",
    "informedness_score(y=y_test_bank, y_pred=test_pred_bank)\n",
    "confusion_matrix(y_true=y_test_bank, y_pred=test_pred_bank, labels=[1,-1])"
   ]
  },
  {
   "cell_type": "code",
   "execution_count": 403,
   "metadata": {},
   "outputs": [],
   "source": [
    "%%capture\n",
    "optimal_forest_pipe_pharma = Pipeline([\n",
    "    ('scaler', StandardScaler()),\n",
    "    ('forest', RandomForestClassifier(bootstrap=True, oob_score=True,\n",
    "                                     n_jobs=-1, random_state=42,\n",
    "                                     n_estimators=int(optimal_forest_pharma_params['n_trees']), \n",
    "                                      max_depth=int(optimal_forest_pharma_params['depth']), \n",
    "                                     min_samples_leaf=int(optimal_forest_pharma_params['min_leaf']),\n",
    "                                     min_samples_split=int(optimal_forest_pharma_params['min_split'])))\n",
    "])\n",
    "\n",
    "optimal_forest_pharma = optimal_forest_pipe_pharma.fit(X_pharma, y_pharma)\n",
    "\n",
    "train_pred_pharma = optimal_forest_pharma.predict(X_pharma)\n",
    "test_pred_pharma = optimal_forest_pharma.predict(X_test_pharma)"
   ]
  },
  {
   "cell_type": "code",
   "execution_count": 404,
   "metadata": {},
   "outputs": [],
   "source": [
    "%%capture\n",
    "optimal_forest_pharma_cv_inform = cross_val_score(optimal_forest_pharma, X=X_pharma, y=y_pharma, cv=5,\n",
    "                                              scoring=informedness)\n",
    "optimal_forest_pharma_cv_precision = cross_val_score(optimal_forest_pharma, X=X_pharma, y=y_pharma, cv=5,\n",
    "                                              scoring=make_scorer(precision_score))\n",
    "optimal_forest_pharma_cv_recall = cross_val_score(optimal_forest_pharma, X=X_pharma, y=y_pharma, cv=5,\n",
    "                                              scoring=make_scorer(recall_score))\n",
    "optimal_forest_pharma_cv_accuracy = cross_val_score(optimal_forest_pharma, X=X_pharma, y=y_pharma, cv=5,\n",
    "                                              scoring=make_scorer(accuracy_score))"
   ]
  },
  {
   "cell_type": "code",
   "execution_count": 405,
   "metadata": {},
   "outputs": [
    {
     "data": {
      "text/plain": [
       "0.12739030416631164"
      ]
     },
     "execution_count": 405,
     "metadata": {},
     "output_type": "execute_result"
    },
    {
     "data": {
      "text/plain": [
       "0.5311725095872211"
      ]
     },
     "execution_count": 405,
     "metadata": {},
     "output_type": "execute_result"
    },
    {
     "data": {
      "text/plain": [
       "0.44475945017182134"
      ]
     },
     "execution_count": 405,
     "metadata": {},
     "output_type": "execute_result"
    },
    {
     "data": {
      "text/plain": [
       "0.5770615973856577"
      ]
     },
     "execution_count": 405,
     "metadata": {},
     "output_type": "execute_result"
    },
    {
     "data": {
      "text/plain": [
       "0.4294117647058823"
      ]
     },
     "execution_count": 405,
     "metadata": {},
     "output_type": "execute_result"
    },
    {
     "data": {
      "text/plain": [
       "0.3882978723404255"
      ]
     },
     "execution_count": 405,
     "metadata": {},
     "output_type": "execute_result"
    },
    {
     "data": {
      "text/plain": [
       "0.5793650793650794"
      ]
     },
     "execution_count": 405,
     "metadata": {},
     "output_type": "execute_result"
    },
    {
     "data": {
      "text/plain": [
       "0.08133584702396979"
      ]
     },
     "execution_count": 405,
     "metadata": {},
     "output_type": "execute_result"
    },
    {
     "data": {
      "text/plain": [
       "array([[ 73, 115],\n",
       "       [ 97, 219]])"
      ]
     },
     "execution_count": 405,
     "metadata": {},
     "output_type": "execute_result"
    }
   ],
   "source": [
    "np.mean(optimal_forest_pharma_cv_inform)\n",
    "np.mean(optimal_forest_pharma_cv_precision)\n",
    "np.mean(optimal_forest_pharma_cv_recall)\n",
    "np.mean(optimal_forest_pharma_cv_accuracy)\n",
    "precision_score(y_true=y_test_pharma, y_pred=test_pred_pharma)\n",
    "recall_score(y_true=y_test_pharma, y_pred=test_pred_pharma)\n",
    "accuracy_score(y_true=y_test_pharma, y_pred=test_pred_pharma)\n",
    "informedness_score(y=y_test_pharma, y_pred=test_pred_pharma)\n",
    "confusion_matrix(y_true=y_test_pharma, y_pred=test_pred_pharma, labels=[1,-1])"
   ]
  },
  {
   "cell_type": "code",
   "execution_count": null,
   "metadata": {},
   "outputs": [],
   "source": []
  },
  {
   "cell_type": "code",
   "execution_count": null,
   "metadata": {},
   "outputs": [],
   "source": []
  },
  {
   "cell_type": "code",
   "execution_count": null,
   "metadata": {},
   "outputs": [],
   "source": [
    "test_optimal_forest_pipe = Pipeline([\n",
    "    ('scaler', StandardScaler()),\n",
    "    ('forest', RandomForestClassifier(bootstrap=True, oob_score=True,\n",
    "                                     n_jobs=-1, random_state=42,\n",
    "                                     n_estimators=int(253.11001641746455), max_depth=int(13.273655394661036), \n",
    "                                     min_samples_leaf=int(36.75644090766637),\n",
    "                                     min_samples_split=int(8.709377882566423)))\n",
    "])\n",
    "\n",
    "optimal_forest = test_optimal_forest_pipe.fit(X_large_cap, y_large_cap)\n",
    "\n",
    "train_pred = optimal_forest.predict(X_large_cap)\n",
    "test_pred = optimal_forest.predict(X_test_large_cap)\n",
    "\n",
    "precision_score(y_true=y_test_large_cap, y_pred=test_pred)\n",
    "accuracy_score(y_true=y_test_large_cap, y_pred=test_pred)\n",
    "balanced_accuracy_score(y_true=y_test_large_cap, y_pred=test_pred)"
   ]
  },
  {
   "cell_type": "code",
   "execution_count": null,
   "metadata": {},
   "outputs": [],
   "source": [
    "confusion_matrix(y_true=y_test_large_cap, y_pred=test_pred)"
   ]
  },
  {
   "cell_type": "code",
   "execution_count": null,
   "metadata": {},
   "outputs": [],
   "source": [
    "solver_2 = optunity.solvers.ParticleSwarm(num_particles=10, num_generations=15, n_trees=[200, 500], \n",
    "                                        depth=[5, 100], min_leaf=[2, 200], min_split=[5, 50])"
   ]
  },
  {
   "cell_type": "code",
   "execution_count": null,
   "metadata": {},
   "outputs": [],
   "source": [
    "%%time\n",
    "optimal_forest2, info2 = solver_2.maximize(forest_cv_validation)\n",
    "\n",
    "print('done')"
   ]
  },
  {
   "cell_type": "code",
   "execution_count": null,
   "metadata": {},
   "outputs": [],
   "source": [
    "optimal_forest2"
   ]
  },
  {
   "cell_type": "code",
   "execution_count": null,
   "metadata": {},
   "outputs": [],
   "source": [
    "test_optimal_forest_pipe2 = Pipeline([\n",
    "    ('scaler', StandardScaler()),\n",
    "    ('forest', RandomForestClassifier(bootstrap=True, oob_score=True,\n",
    "                                     n_jobs=-1, random_state=42,\n",
    "                                     n_estimators=int(311.67144987558544), max_depth=int(40.28400571798756), \n",
    "                                     min_samples_leaf=int(3.1176171875000165),\n",
    "                                     min_samples_split=int(25.218066406250003)))\n",
    "])\n",
    "\n",
    "optimal_forest2 = test_optimal_forest_pipe2.fit(X_bank, y_bank)\n",
    "\n",
    "train_pred2 = optimal_forest2.predict(X_bank)\n",
    "test_pred2 = optimal_forest2.predict(X_test_bank)\n",
    "\n",
    "precision_score(y_true=y_test_bank, y_pred=test_pred2)\n",
    "accuracy_score(y_true=y_test_bank, y_pred=test_pred2)\n",
    "balanced_accuracy_score(y_true=y_test_bank, y_pred=test_pred2)"
   ]
  },
  {
   "cell_type": "code",
   "execution_count": null,
   "metadata": {},
   "outputs": [],
   "source": [
    "%%time\n",
    "optimal_forest_pars, info, _ = optunity.maximize(forest_cv_validation, \n",
    "                                                 solver_name=\"particle swarm\",\n",
    "                                                 n_trees=[100, 500], depth=[5, 20], \n",
    "                                                 min_leaf=[25, 75], min_split=[6, 10])\n",
    "print(\"Optimal parameters: \" + str(optimal_forest_pars))\n",
    "print(\"Precision of tuned Random Forest: %1.6f\" % info.optimum)"
   ]
  },
  {
   "cell_type": "markdown",
   "metadata": {},
   "source": [
    "# Boosting Algorithm"
   ]
  },
  {
   "cell_type": "code",
   "execution_count": 40,
   "metadata": {},
   "outputs": [],
   "source": [
    "from sklearn.ensemble import GradientBoostingClassifier"
   ]
  },
  {
   "cell_type": "code",
   "execution_count": null,
   "metadata": {},
   "outputs": [],
   "source": [
    "boosting_test_pipe = Pipeline([\n",
    "    ('scaler', StandardScaler()),\n",
    "    ('forest', GradientBoostingClassifier(loss='deviance',\n",
    "                                          n_estimators=250,\n",
    "                                          random_state=42))])"
   ]
  },
  {
   "cell_type": "code",
   "execution_count": null,
   "metadata": {
    "scrolled": false
   },
   "outputs": [],
   "source": [
    "boosting_fit_tst = boosting_test_pipe.fit(X_large_cap, y_large_cap)"
   ]
  },
  {
   "cell_type": "code",
   "execution_count": null,
   "metadata": {},
   "outputs": [],
   "source": [
    "pred_boost_tst = boosting_fit_tst.predict(X_test_large_cap)"
   ]
  },
  {
   "cell_type": "code",
   "execution_count": null,
   "metadata": {},
   "outputs": [],
   "source": [
    "accuracy_score(y_true=y_test_large_cap, y_pred=pred_boost_tst)"
   ]
  },
  {
   "cell_type": "code",
   "execution_count": null,
   "metadata": {},
   "outputs": [],
   "source": [
    "confusion_matrix(y_true=y_test_large_cap, y_pred=pred_boost_tst)"
   ]
  },
  {
   "cell_type": "code",
   "execution_count": null,
   "metadata": {},
   "outputs": [],
   "source": [
    "boost_tst = GradientBoostingClassifier(loss='deviance',\n",
    "                                          n_estimators=250,\n",
    "                                          random_state=42)\n",
    "tst_fit =boost_tst.fit(pd.DataFrame(StandardScaler().fit_transform(X_large_cap)), y_large_cap)"
   ]
  },
  {
   "cell_type": "code",
   "execution_count": null,
   "metadata": {},
   "outputs": [],
   "source": [
    "tst_importance = tst_fit.feature_importances_\n",
    "tst_importance = 100.0 * (tst_importance / tst_importance.max())\n",
    "sorted_tst_importance = np.argsort(tst_importance)\n",
    "pos = np.arange(sorted_tst_importance.shape[0]) + .5\n",
    "plt.subplot(1, 2, 2)\n",
    "plt.barh(pos, tst_importance[sorted_tst_importance], align='center')\n",
    "plt.yticks(pos, X_large_cap.columns[sorted_tst_importance])\n",
    "plt.xlabel('Relative Importance')\n",
    "plt.title('Variable Importance')\n",
    "plt.show()"
   ]
  },
  {
   "cell_type": "code",
   "execution_count": null,
   "metadata": {},
   "outputs": [],
   "source": []
  },
  {
   "cell_type": "code",
   "execution_count": null,
   "metadata": {},
   "outputs": [],
   "source": [
    "gradient_boost_pipe = Pipeline([\n",
    "    ('scaler', StandardScaler()),\n",
    "    ('gb', GradientBoostingClassifier(loss='deviance',\n",
    "                                          max_features='sqrt',\n",
    "                                          min_samples_split=int(0.005 * X_large_cap.shape[0]),\n",
    "                                          random_state=42))\n",
    "    ])"
   ]
  },
  {
   "cell_type": "code",
   "execution_count": 72,
   "metadata": {},
   "outputs": [],
   "source": [
    "scores_gb = {'accuracy': make_scorer(accuracy_score, greater_is_better=True),\n",
    " 'precision': make_scorer(precision_score, greater_is_better=True),\n",
    " 'recall': make_scorer(recall_score, greater_is_better=True),\n",
    " 'informedness': informedness}"
   ]
  },
  {
   "cell_type": "code",
   "execution_count": 73,
   "metadata": {},
   "outputs": [],
   "source": [
    "learning_rate_grid = [0.0001, 0.001, 0.01, 0.1]\n",
    "subsample_grid = [0.5, 0.8, 1]\n",
    "max_depth_grid = [4, 5, 6, 7, 8]\n",
    "n_estimators_grid = [40, 50, 60, 70, 80]\n",
    "min_samples_leaf_grid = [0.005, 0.01]\n",
    "gb_param_grid = [\n",
    "    {'gb__learning_rate': learning_rate_grid,\n",
    "     'gb__subsample': subsample_grid,\n",
    "     'gb__max_depth': max_depth_grid,\n",
    "     'gb__n_estimators': n_estimators_grid,\n",
    "     'gb__min_samples_leaf': min_samples_leaf_grid\n",
    "    }\n",
    "]"
   ]
  },
  {
   "cell_type": "code",
   "execution_count": null,
   "metadata": {},
   "outputs": [],
   "source": [
    "gb_cv_gridsearch_cap = GridSearchCV(gradient_boost_pipe, \n",
    "                                    gb_param_grid, \n",
    "                                    cv=5, scoring=scores_gb,\n",
    "                                    return_train_score=True,\n",
    "                                    refit='informedness'\n",
    "                                    )\n",
    "gb_cv_gridsearch_biz = GridSearchCV(gradient_boost_pipe, \n",
    "                                    gb_param_grid, \n",
    "                                    cv=5, scoring=scores_gb,\n",
    "                                    return_train_score=True,\n",
    "                                    refit='informedness'\n",
    "                                    )\n",
    "gb_cv_gridsearch_bank = GridSearchCV(gradient_boost_pipe, \n",
    "                                    gb_param_grid, \n",
    "                                    cv=5, scoring=scores_gb,\n",
    "                                    return_train_score=True,\n",
    "                                    refit='informedness'\n",
    "                                    )\n",
    "gb_cv_gridsearch_pharma = GridSearchCV(gradient_boost_pipe, \n",
    "                                    gb_param_grid, \n",
    "                                    cv=5, scoring=scores_gb,\n",
    "                                    return_train_score=True,\n",
    "                                    refit='informedness'\n",
    "                                    )"
   ]
  },
  {
   "cell_type": "code",
   "execution_count": null,
   "metadata": {
    "scrolled": false
   },
   "outputs": [],
   "source": [
    "%%capture\n",
    "gb_gridsearch_fit_cap = gb_cv_gridsearch_cap.fit(X_large_cap, y_large_cap)"
   ]
  },
  {
   "cell_type": "code",
   "execution_count": null,
   "metadata": {},
   "outputs": [],
   "source": [
    "%%capture\n",
    "gb_gridsearch_fit_biz = gb_cv_gridsearch_biz.fit(X_biz, y_biz)\n",
    "gb_gridsearch_fit_bank = gb_cv_gridsearch_bank.fit(X_bank, y_bank)\n",
    "gb_gridsearch_fit_pharma = gb_cv_gridsearch_pharma.fit(X_pharma, y_pharma)"
   ]
  },
  {
   "cell_type": "code",
   "execution_count": null,
   "metadata": {},
   "outputs": [],
   "source": []
  },
  {
   "cell_type": "code",
   "execution_count": 246,
   "metadata": {},
   "outputs": [],
   "source": [
    "constraints_lb_o = {\n",
    "    'learning_rate':0.00000001,\n",
    "    'max_depth': 0,\n",
    "    'min_leaf': 0\n",
    "}\n",
    "\n",
    "constraints_range_oc = {\n",
    "    'subsample':[0,1]\n",
    "}\n",
    "\n",
    "@optunity.cross_validated(x=X_large_cap.values, y=y_large_cap.values, num_folds=10)\n",
    "def gradient_boosting_cv_validation_cap(x_train, y_train, x_test, y_test, learning_rate, depth, min_leaf,\n",
    "                                       n_trees, subsample):\n",
    "    gradient_boost_pipe = Pipeline([\n",
    "    ('scaler', StandardScaler()),\n",
    "    ('forest', GradientBoostingClassifier(loss='deviance', learning_rate=learning_rate,\n",
    "                                          subsample=subsample, max_depth=depth,\n",
    "                                          max_features='sqrt', n_estimators=int(n_trees),\n",
    "                                          min_samples_split=int(0.005 * X_large_cap.shape[0]),\n",
    "                                          min_samples_leaf=min_leaf,\n",
    "                                          random_state=42))\n",
    "    ])\n",
    "    model = gradient_boost_pipe.fit(x_train, y_train)\n",
    "    decision_values = model.predict(x_test)\n",
    "    model_precision = precision_score(y_true=y_test, y_pred=decision_values)\n",
    "    model_informedness = informedness_score(y=y_test, y_pred=decision_values)\n",
    "    return model_informedness"
   ]
  },
  {
   "cell_type": "code",
   "execution_count": null,
   "metadata": {},
   "outputs": [],
   "source": []
  },
  {
   "cell_type": "code",
   "execution_count": 247,
   "metadata": {},
   "outputs": [],
   "source": [
    "optimal_gradient_boost_cap, info_gb_cap, info2_gb_cap = optunity.maximize(gradient_boosting_cv_validation_cap, \n",
    "                                                                          num_evals = 300, \n",
    "                                                                          solver_name='particle swarm', \n",
    "                                                                          learning_rate=[0.001, 0.1], \n",
    "                                                                          depth=[6, 10], \n",
    "                                                                          min_leaf=[0.01, 0.03],\n",
    "                                                                         n_trees=[30, 70],\n",
    "                                                                         subsample=[0.5, 0.9])"
   ]
  },
  {
   "cell_type": "code",
   "execution_count": 75,
   "metadata": {},
   "outputs": [],
   "source": [
    "@optunity.cross_validated(x=X_biz.values, y=y_biz.values, num_folds=5)\n",
    "def gradient_boosting_cv_validation_biz(x_train, y_train, x_test, y_test, learning_rate, depth, min_leaf,\n",
    "                                       n_trees, subsample):\n",
    "    gradient_boost_pipe = Pipeline([\n",
    "    ('scaler', StandardScaler()),\n",
    "    ('forest', GradientBoostingClassifier(loss='deviance', learning_rate=learning_rate,\n",
    "                                          subsample=subsample, max_depth=depth,\n",
    "                                          max_features='sqrt',n_estimators=int(n_trees),\n",
    "                                          min_samples_split=int(0.005 * X_large_cap.shape[0]),\n",
    "                                          min_samples_leaf=min_leaf,\n",
    "                                          random_state=42))\n",
    "    ])\n",
    "    model = gradient_boost_pipe.fit(x_train, y_train)\n",
    "    decision_values = model.predict(x_test)\n",
    "    model_precision = precision_score(y_true=y_test, y_pred=decision_values)\n",
    "    model_informedness = informedness_score(y=y_test, y_pred=decision_values)\n",
    "    return model_informedness"
   ]
  },
  {
   "cell_type": "code",
   "execution_count": null,
   "metadata": {},
   "outputs": [],
   "source": [
    "info2_gb_biz"
   ]
  },
  {
   "cell_type": "code",
   "execution_count": 76,
   "metadata": {},
   "outputs": [],
   "source": [
    "optimal_gradient_boost_biz, info_gb_biz, info2_gb_biz = optunity.maximize(gradient_boosting_cv_validation_biz, \n",
    "                                                                          num_evals = 300, \n",
    "                                                                          solver_name='particle swarm', \n",
    "                                                                          learning_rate=[0.01, 0.5], \n",
    "                                                                          depth=[4, 8], \n",
    "                                                                          min_leaf=[0.005, 0.02],\n",
    "                                                                         n_trees=[30, 70],\n",
    "                                                                         subsample=[0.5, 0.9])"
   ]
  },
  {
   "cell_type": "code",
   "execution_count": 77,
   "metadata": {},
   "outputs": [],
   "source": [
    "@optunity.cross_validated(x=X_bank.values, y=y_bank.values, num_folds=5)\n",
    "def gradient_boosting_cv_validation_bank(x_train, y_train, x_test, y_test, learning_rate, depth, min_leaf,\n",
    "                                        n_trees, subsample):\n",
    "    gradient_boost_pipe = Pipeline([\n",
    "    ('scaler', StandardScaler()),\n",
    "    ('forest', GradientBoostingClassifier(loss='deviance', learning_rate=learning_rate,\n",
    "                                          subsample=subsample, max_depth=depth,\n",
    "                                          max_features='sqrt',n_estimators=int(n_trees),\n",
    "                                          min_samples_split=int(0.005 * X_large_cap.shape[0]),\n",
    "                                          min_samples_leaf=min_leaf,\n",
    "                                          random_state=42))\n",
    "    ])\n",
    "    model = gradient_boost_pipe.fit(x_train, y_train)\n",
    "    decision_values = model.predict(x_test)\n",
    "    model_precision = precision_score(y_true=y_test, y_pred=decision_values)\n",
    "    model_informedness = informedness_score(y=y_test, y_pred=decision_values)\n",
    "    return model_informedness"
   ]
  },
  {
   "cell_type": "code",
   "execution_count": null,
   "metadata": {},
   "outputs": [],
   "source": [
    "optimal_gradient_boost_bank"
   ]
  },
  {
   "cell_type": "code",
   "execution_count": 78,
   "metadata": {},
   "outputs": [],
   "source": [
    "optimal_gradient_boost_bank, info_gb_bank, info2_gb_bank = optunity.maximize(gradient_boosting_cv_validation_bank, \n",
    "                                                                          num_evals = 300, \n",
    "                                                                          solver_name='particle swarm', \n",
    "                                                                          learning_rate=[0.01, 0.5], \n",
    "                                                                          depth=[4, 8], \n",
    "                                                                          min_leaf=[0.0025, 0.01],\n",
    "                                                                            n_trees=[30, 70],\n",
    "                                                                         subsample=[0.5, 0.9])"
   ]
  },
  {
   "cell_type": "code",
   "execution_count": 79,
   "metadata": {},
   "outputs": [],
   "source": [
    "@optunity.cross_validated(x=X_pharma.values, y=y_pharma.values, num_folds=5)\n",
    "def gradient_boosting_cv_validation_pharma(x_train, y_train, x_test, y_test, learning_rate, depth, min_leaf,\n",
    "                                          n_trees):\n",
    "    gradient_boost_pipe = Pipeline([\n",
    "    ('scaler', StandardScaler()),\n",
    "    ('forest', GradientBoostingClassifier(loss='deviance', learning_rate=learning_rate,\n",
    "                                          subsample=1, max_depth=depth,\n",
    "                                          max_features='sqrt',n_estimators=int(n_trees),\n",
    "                                          min_samples_split=int(0.005 * X_large_cap.shape[0]),\n",
    "                                          min_samples_leaf=min_leaf,\n",
    "                                          random_state=42))\n",
    "    ])\n",
    "    model = gradient_boost_pipe.fit(x_train, y_train)\n",
    "    decision_values = model.predict(x_test)\n",
    "    model_precision = precision_score(y_true=y_test, y_pred=decision_values)\n",
    "    model_informedness = informedness_score(y=y_test, y_pred=decision_values)\n",
    "    return model_informedness"
   ]
  },
  {
   "cell_type": "code",
   "execution_count": null,
   "metadata": {},
   "outputs": [],
   "source": [
    "gb_gridsearch_fit_pharma.best_score_"
   ]
  },
  {
   "cell_type": "code",
   "execution_count": 80,
   "metadata": {},
   "outputs": [],
   "source": [
    "optimal_gradient_boost_pharma, info_gb_pharma, info2_gb_pharma = optunity.maximize(gradient_boosting_cv_validation_pharma, \n",
    "                                                                          num_evals = 300, \n",
    "                                                                          solver_name='particle swarm', \n",
    "                                                                          learning_rate=[0.01, 0.2], \n",
    "                                                                          depth=[4, 10], \n",
    "                                                                          min_leaf=[0.005, 0.02],\n",
    "                                                                                  n_trees=[30, 70])"
   ]
  },
  {
   "cell_type": "code",
   "execution_count": null,
   "metadata": {},
   "outputs": [],
   "source": [
    "optimal_gradient_boost_cap"
   ]
  },
  {
   "cell_type": "code",
   "execution_count": 251,
   "metadata": {},
   "outputs": [
    {
     "data": {
      "text/plain": [
       "{'learning_rate': 0.0689387860489129,\n",
       " 'depth': 7.439397443371404,\n",
       " 'min_leaf': 0.02374862462945151,\n",
       " 'n_trees': 55.25963541666667,\n",
       " 'subsample': 0.688398492919186}"
      ]
     },
     "execution_count": 251,
     "metadata": {},
     "output_type": "execute_result"
    }
   ],
   "source": [
    "optimal_gradient_boost_cap"
   ]
  },
  {
   "cell_type": "code",
   "execution_count": 406,
   "metadata": {},
   "outputs": [],
   "source": [
    "%%capture\n",
    "optimal_gradient_pipe_cap = Pipeline([\n",
    "    ('scaler', StandardScaler()),\n",
    "    ('forest', GradientBoostingClassifier(loss='deviance',\n",
    "                                          learning_rate=optimal_gradient_boost_cap['learning_rate'],\n",
    "                                          subsample=optimal_gradient_boost_cap['subsample'],\n",
    "                                          n_estimators=int(optimal_gradient_boost_cap['n_trees']), \n",
    "                                          max_depth=optimal_gradient_boost_cap['depth'],\n",
    "                                          min_samples_leaf=optimal_gradient_boost_cap['min_leaf'],\n",
    "                                          min_samples_split=int(0.005 * X_large_cap.shape[0]),\n",
    "                                          random_state=42))\n",
    "    ])\n",
    "\n",
    "optimal_gradient_fit_cap = optimal_gradient_pipe_cap.fit(X_large_cap, y_large_cap)"
   ]
  },
  {
   "cell_type": "code",
   "execution_count": 407,
   "metadata": {},
   "outputs": [],
   "source": [
    "%%capture\n",
    "optimal_gradient_cv_inform_cap = cross_val_score(optimal_gradient_pipe_cap, X=X_large_cap, y=y_large_cap, cv=5,\n",
    "                                           scoring=informedness)\n",
    "optimal_gradient_cv_precision_cap = cross_val_score(optimal_gradient_pipe_cap, X=X_large_cap, y=y_large_cap, cv=5,\n",
    "                                           scoring=make_scorer(precision_score))\n",
    "optimal_gradient_cv_recall_cap = cross_val_score(optimal_gradient_pipe_cap, X=X_large_cap, y=y_large_cap, cv=5,\n",
    "                                           scoring=make_scorer(recall_score))\n",
    "optimal_gradient_cv_accuracy_cap = cross_val_score(optimal_gradient_pipe_cap, X=X_large_cap, y=y_large_cap, cv=5,\n",
    "                                           scoring=make_scorer(accuracy_score))\n",
    "gb_pred_cap = optimal_gradient_fit_cap.predict(X_test_large_cap)"
   ]
  },
  {
   "cell_type": "code",
   "execution_count": 408,
   "metadata": {},
   "outputs": [
    {
     "data": {
      "text/plain": [
       "0.1435668344084282"
      ]
     },
     "execution_count": 408,
     "metadata": {},
     "output_type": "execute_result"
    },
    {
     "data": {
      "text/plain": [
       "0.5774524533400446"
      ]
     },
     "execution_count": 408,
     "metadata": {},
     "output_type": "execute_result"
    },
    {
     "data": {
      "text/plain": [
       "0.5988561595303168"
      ]
     },
     "execution_count": 408,
     "metadata": {},
     "output_type": "execute_result"
    },
    {
     "data": {
      "text/plain": [
       "0.5721789507018845"
      ]
     },
     "execution_count": 408,
     "metadata": {},
     "output_type": "execute_result"
    }
   ],
   "source": [
    "np.mean(optimal_gradient_cv_inform_cap)\n",
    "np.mean(optimal_gradient_cv_precision_cap)\n",
    "np.mean(optimal_gradient_cv_recall_cap)\n",
    "np.mean(optimal_gradient_cv_accuracy_cap)"
   ]
  },
  {
   "cell_type": "code",
   "execution_count": 409,
   "metadata": {},
   "outputs": [
    {
     "data": {
      "text/plain": [
       "0.08658626363473715"
      ]
     },
     "execution_count": 409,
     "metadata": {},
     "output_type": "execute_result"
    },
    {
     "data": {
      "text/plain": [
       "0.5023474178403756"
      ]
     },
     "execution_count": 409,
     "metadata": {},
     "output_type": "execute_result"
    },
    {
     "data": {
      "text/plain": [
       "0.4326145552560647"
      ]
     },
     "execution_count": 409,
     "metadata": {},
     "output_type": "execute_result"
    },
    {
     "data": {
      "text/plain": [
       "0.5550872968091511"
      ]
     },
     "execution_count": 409,
     "metadata": {},
     "output_type": "execute_result"
    },
    {
     "data": {
      "text/plain": [
       "array([[321, 421],\n",
       "       [318, 601]])"
      ]
     },
     "execution_count": 409,
     "metadata": {},
     "output_type": "execute_result"
    }
   ],
   "source": [
    "informedness_score(y_pred=gb_pred_cap, y=y_test_large_cap)\n",
    "precision_score(y_pred=gb_pred_cap, y_true=y_test_large_cap)\n",
    "recall_score(y_pred=gb_pred_cap, y_true=y_test_large_cap)\n",
    "accuracy_score(y_pred=gb_pred_cap, y_true=y_test_large_cap)\n",
    "confusion_matrix(y_pred=gb_pred_cap, y_true=y_test_large_cap,\n",
    "                labels=[1, -1])"
   ]
  },
  {
   "cell_type": "code",
   "execution_count": null,
   "metadata": {},
   "outputs": [],
   "source": []
  },
  {
   "cell_type": "code",
   "execution_count": 410,
   "metadata": {},
   "outputs": [],
   "source": [
    "optimal_gradient_pipe_biz = Pipeline([\n",
    "    ('scaler', StandardScaler()),\n",
    "    ('forest', GradientBoostingClassifier(loss='deviance',\n",
    "                                          learning_rate=optimal_gradient_boost_biz['learning_rate'],\n",
    "                                          subsample=optimal_gradient_boost_biz['subsample'],\n",
    "                                          n_estimators=int(optimal_gradient_boost_biz['n_trees']), \n",
    "                                          max_depth=optimal_gradient_boost_biz['depth'],\n",
    "                                          min_samples_leaf=optimal_gradient_boost_biz['min_leaf'],\n",
    "                                          min_samples_split=int(0.005 * X_large_cap.shape[0]),\n",
    "                                          random_state=42))\n",
    "    ])\n",
    "\n",
    "optimal_gradient_fit_biz = optimal_gradient_pipe_biz.fit(X_biz, y_biz)"
   ]
  },
  {
   "cell_type": "code",
   "execution_count": 411,
   "metadata": {},
   "outputs": [],
   "source": [
    "%%capture\n",
    "optimal_gradient_cv_inform_biz = cross_val_score(optimal_gradient_pipe_biz, X=X_biz, y=y_biz, cv=5,\n",
    "                                           scoring=informedness)\n",
    "optimal_gradient_cv_precision_biz = cross_val_score(optimal_gradient_pipe_biz, X=X_biz, y=y_biz, cv=5,\n",
    "                                           scoring=make_scorer(precision_score))\n",
    "optimal_gradient_cv_recall_biz = cross_val_score(optimal_gradient_pipe_biz, X=X_biz, y=y_biz, cv=5,\n",
    "                                           scoring=make_scorer(recall_score))\n",
    "optimal_gradient_cv_accuracy_biz = cross_val_score(optimal_gradient_pipe_biz, X=X_biz, y=y_biz, cv=5,\n",
    "                                           scoring=make_scorer(accuracy_score))\n",
    "gb_pred_biz = optimal_gradient_fit_biz.predict(X_test_biz)"
   ]
  },
  {
   "cell_type": "code",
   "execution_count": 412,
   "metadata": {},
   "outputs": [
    {
     "data": {
      "text/plain": [
       "0.02827383421442039"
      ]
     },
     "execution_count": 412,
     "metadata": {},
     "output_type": "execute_result"
    },
    {
     "data": {
      "text/plain": [
       "0.4767488471341202"
      ]
     },
     "execution_count": 412,
     "metadata": {},
     "output_type": "execute_result"
    },
    {
     "data": {
      "text/plain": [
       "0.44514587212911233"
      ]
     },
     "execution_count": 412,
     "metadata": {},
     "output_type": "execute_result"
    },
    {
     "data": {
      "text/plain": [
       "0.5194820512483351"
      ]
     },
     "execution_count": 412,
     "metadata": {},
     "output_type": "execute_result"
    }
   ],
   "source": [
    "np.mean(optimal_gradient_cv_inform_biz)\n",
    "np.mean(optimal_gradient_cv_precision_biz)\n",
    "np.mean(optimal_gradient_cv_recall_biz)\n",
    "np.mean(optimal_gradient_cv_accuracy_biz)"
   ]
  },
  {
   "cell_type": "code",
   "execution_count": 413,
   "metadata": {},
   "outputs": [
    {
     "data": {
      "text/plain": [
       "-0.01928420321429697"
      ]
     },
     "execution_count": 413,
     "metadata": {},
     "output_type": "execute_result"
    },
    {
     "data": {
      "text/plain": [
       "0.5321888412017167"
      ]
     },
     "execution_count": 413,
     "metadata": {},
     "output_type": "execute_result"
    },
    {
     "data": {
      "text/plain": [
       "0.3171355498721228"
      ]
     },
     "execution_count": 413,
     "metadata": {},
     "output_type": "execute_result"
    },
    {
     "data": {
      "text/plain": [
       "0.47412587412587415"
      ]
     },
     "execution_count": 413,
     "metadata": {},
     "output_type": "execute_result"
    },
    {
     "data": {
      "text/plain": [
       "array([[124, 267],\n",
       "       [109, 215]])"
      ]
     },
     "execution_count": 413,
     "metadata": {},
     "output_type": "execute_result"
    }
   ],
   "source": [
    "informedness_score(y_pred=gb_pred_biz, y=y_test_biz)\n",
    "precision_score(y_pred=gb_pred_biz, y_true=y_test_biz)\n",
    "recall_score(y_pred=gb_pred_biz, y_true=y_test_biz)\n",
    "accuracy_score(y_pred=gb_pred_biz, y_true=y_test_biz)\n",
    "confusion_matrix(y_pred=gb_pred_biz, y_true=y_test_biz,\n",
    "                labels=[1, -1])"
   ]
  },
  {
   "cell_type": "code",
   "execution_count": 414,
   "metadata": {},
   "outputs": [
    {
     "name": "stderr",
     "output_type": "stream",
     "text": [
      "/Users/daniel/anaconda3/lib/python3.7/site-packages/sklearn/preprocessing/data.py:625: DataConversionWarning: Data with input dtype int64, float64 were all converted to float64 by StandardScaler.\n",
      "  return self.partial_fit(X, y)\n",
      "/Users/daniel/anaconda3/lib/python3.7/site-packages/sklearn/base.py:465: DataConversionWarning: Data with input dtype int64, float64 were all converted to float64 by StandardScaler.\n",
      "  return self.fit(X, y, **fit_params).transform(X)\n"
     ]
    }
   ],
   "source": [
    "optimal_gradient_pipe_bank = Pipeline([\n",
    "    ('scaler', StandardScaler()),\n",
    "    ('forest', GradientBoostingClassifier(loss='deviance',\n",
    "                                          learning_rate=optimal_gradient_boost_bank['learning_rate'],\n",
    "                                          subsample=optimal_gradient_boost_bank['subsample'],\n",
    "                                          n_estimators=int(optimal_gradient_boost_bank['n_trees']), \n",
    "                                          max_depth=optimal_gradient_boost_bank['depth'],\n",
    "                                          min_samples_leaf=optimal_gradient_boost_bank['min_leaf'],\n",
    "                                          min_samples_split=int(0.005 * X_large_cap.shape[0]),\n",
    "                                          random_state=42))\n",
    "    ])\n",
    "\n",
    "optimal_gradient_fit_bank = optimal_gradient_pipe_bank.fit(X_bank, y_bank)"
   ]
  },
  {
   "cell_type": "code",
   "execution_count": 415,
   "metadata": {},
   "outputs": [],
   "source": [
    "%%capture\n",
    "optimal_gradient_cv_inform_bank = cross_val_score(optimal_gradient_pipe_bank, X=X_bank, y=y_bank, cv=5,\n",
    "                                           scoring=informedness)\n",
    "optimal_gradient_cv_precision_bank = cross_val_score(optimal_gradient_pipe_bank, X=X_bank, y=y_bank, cv=5,\n",
    "                                           scoring=make_scorer(precision_score))\n",
    "optimal_gradient_cv_recall_bank = cross_val_score(optimal_gradient_pipe_bank, X=X_bank, y=y_bank, cv=5,\n",
    "                                           scoring=make_scorer(recall_score))\n",
    "optimal_gradient_cv_accuracy_bank = cross_val_score(optimal_gradient_pipe_bank, X=X_bank, y=y_bank, cv=5,\n",
    "                                           scoring=make_scorer(accuracy_score))\n",
    "gb_pred_bank = optimal_gradient_fit_bank.predict(X_test_bank)"
   ]
  },
  {
   "cell_type": "code",
   "execution_count": 416,
   "metadata": {},
   "outputs": [
    {
     "data": {
      "text/plain": [
       "0.2335272448068438"
      ]
     },
     "execution_count": 416,
     "metadata": {},
     "output_type": "execute_result"
    },
    {
     "data": {
      "text/plain": [
       "0.6725152105660388"
      ]
     },
     "execution_count": 416,
     "metadata": {},
     "output_type": "execute_result"
    },
    {
     "data": {
      "text/plain": [
       "0.7432846514191238"
      ]
     },
     "execution_count": 416,
     "metadata": {},
     "output_type": "execute_result"
    },
    {
     "data": {
      "text/plain": [
       "0.6377289402431932"
      ]
     },
     "execution_count": 416,
     "metadata": {},
     "output_type": "execute_result"
    }
   ],
   "source": [
    "np.mean(optimal_gradient_cv_inform_bank)\n",
    "np.mean(optimal_gradient_cv_precision_bank)\n",
    "np.mean(optimal_gradient_cv_recall_bank)\n",
    "np.mean(optimal_gradient_cv_accuracy_bank)"
   ]
  },
  {
   "cell_type": "code",
   "execution_count": 417,
   "metadata": {},
   "outputs": [
    {
     "data": {
      "text/plain": [
       "0.11447704081632654"
      ]
     },
     "execution_count": 417,
     "metadata": {},
     "output_type": "execute_result"
    },
    {
     "data": {
      "text/plain": [
       "0.3026315789473684"
      ]
     },
     "execution_count": 417,
     "metadata": {},
     "output_type": "execute_result"
    },
    {
     "data": {
      "text/plain": [
       "0.46938775510204084"
      ]
     },
     "execution_count": 417,
     "metadata": {},
     "output_type": "execute_result"
    },
    {
     "data": {
      "text/plain": [
       "0.6016806722689075"
      ]
     },
     "execution_count": 417,
     "metadata": {},
     "output_type": "execute_result"
    },
    {
     "data": {
      "text/plain": [
       "array([[ 69,  78],\n",
       "       [159, 289]])"
      ]
     },
     "execution_count": 417,
     "metadata": {},
     "output_type": "execute_result"
    }
   ],
   "source": [
    "informedness_score(y_pred=gb_pred_bank, y=y_test_bank)\n",
    "precision_score(y_pred=gb_pred_bank, y_true=y_test_bank)\n",
    "recall_score(y_pred=gb_pred_bank, y_true=y_test_bank)\n",
    "accuracy_score(y_pred=gb_pred_bank, y_true=y_test_bank)\n",
    "confusion_matrix(y_pred=gb_pred_bank, y_true=y_test_bank,\n",
    "                labels=[1, -1])"
   ]
  },
  {
   "cell_type": "code",
   "execution_count": 418,
   "metadata": {},
   "outputs": [],
   "source": [
    "optimal_gradient_pipe_pharma = Pipeline([\n",
    "    ('scaler', StandardScaler()),\n",
    "    ('forest', GradientBoostingClassifier(loss='deviance',\n",
    "                                          learning_rate=optimal_gradient_boost_pharma['learning_rate'],\n",
    "                                          subsample=1,\n",
    "                                          n_estimators=int(optimal_gradient_boost_pharma['n_trees']), \n",
    "                                          max_depth=optimal_gradient_boost_pharma['depth'],\n",
    "                                          min_samples_leaf=optimal_gradient_boost_pharma['min_leaf'],\n",
    "                                          min_samples_split=int(0.005 * X_large_cap.shape[0]),\n",
    "                                          random_state=42))\n",
    "    ])\n",
    "\n",
    "optimal_gradient_fit_pharma = optimal_gradient_pipe_pharma.fit(X_pharma, y_pharma)"
   ]
  },
  {
   "cell_type": "code",
   "execution_count": 419,
   "metadata": {},
   "outputs": [],
   "source": [
    "%%capture\n",
    "optimal_gradient_cv_inform_pharma = cross_val_score(optimal_gradient_pipe_pharma, X=X_pharma, y=y_pharma, cv=5,\n",
    "                                           scoring=informedness)\n",
    "optimal_gradient_cv_precision_pharma = cross_val_score(optimal_gradient_pipe_pharma, X=X_pharma, y=y_pharma, cv=5,\n",
    "                                           scoring=make_scorer(precision_score))\n",
    "optimal_gradient_cv_recall_pharma = cross_val_score(optimal_gradient_pipe_pharma, X=X_pharma, y=y_pharma, cv=5,\n",
    "                                           scoring=make_scorer(recall_score))\n",
    "optimal_gradient_cv_accuracy_pharma = cross_val_score(optimal_gradient_pipe_pharma, X=X_pharma, y=y_pharma, cv=5,\n",
    "                                           scoring=make_scorer(accuracy_score))\n",
    "gb_pred_pharma = optimal_gradient_fit_pharma.predict(X_test_pharma)"
   ]
  },
  {
   "cell_type": "code",
   "execution_count": 420,
   "metadata": {},
   "outputs": [
    {
     "data": {
      "text/plain": [
       "0.09508640765669821"
      ]
     },
     "execution_count": 420,
     "metadata": {},
     "output_type": "execute_result"
    },
    {
     "data": {
      "text/plain": [
       "0.5030420713507742"
      ]
     },
     "execution_count": 420,
     "metadata": {},
     "output_type": "execute_result"
    },
    {
     "data": {
      "text/plain": [
       "0.449012027491409"
      ]
     },
     "execution_count": 420,
     "metadata": {},
     "output_type": "execute_result"
    },
    {
     "data": {
      "text/plain": [
       "0.5585857482646474"
      ]
     },
     "execution_count": 420,
     "metadata": {},
     "output_type": "execute_result"
    }
   ],
   "source": [
    "np.mean(optimal_gradient_cv_inform_pharma)\n",
    "np.mean(optimal_gradient_cv_precision_pharma)\n",
    "np.mean(optimal_gradient_cv_recall_pharma)\n",
    "np.mean(optimal_gradient_cv_accuracy_pharma)"
   ]
  },
  {
   "cell_type": "code",
   "execution_count": 421,
   "metadata": {},
   "outputs": [
    {
     "data": {
      "text/plain": [
       "0.01158093186102882"
      ]
     },
     "execution_count": 421,
     "metadata": {},
     "output_type": "execute_result"
    },
    {
     "data": {
      "text/plain": [
       "0.3804347826086957"
      ]
     },
     "execution_count": 421,
     "metadata": {},
     "output_type": "execute_result"
    },
    {
     "data": {
      "text/plain": [
       "0.3723404255319149"
      ]
     },
     "execution_count": 421,
     "metadata": {},
     "output_type": "execute_result"
    },
    {
     "data": {
      "text/plain": [
       "0.5396825396825397"
      ]
     },
     "execution_count": 421,
     "metadata": {},
     "output_type": "execute_result"
    },
    {
     "data": {
      "text/plain": [
       "array([[ 70, 118],\n",
       "       [114, 202]])"
      ]
     },
     "execution_count": 421,
     "metadata": {},
     "output_type": "execute_result"
    }
   ],
   "source": [
    "informedness_score(y_pred=gb_pred_pharma, y=y_test_pharma)\n",
    "precision_score(y_pred=gb_pred_pharma, y_true=y_test_pharma)\n",
    "recall_score(y_pred=gb_pred_pharma, y_true=y_test_pharma)\n",
    "accuracy_score(y_pred=gb_pred_pharma, y_true=y_test_pharma)\n",
    "confusion_matrix(y_pred=gb_pred_pharma, y_true=y_test_pharma,\n",
    "                labels=[1, -1])"
   ]
  },
  {
   "cell_type": "code",
   "execution_count": null,
   "metadata": {},
   "outputs": [],
   "source": [
    "optimal_fit_gb_cap = optimal_gradient_pipe_cap.fit(X_large_cap, y_large_cap)\n",
    "optimal_fit_gb_cap_pred = optimal_fit_gb_cap.predict(X_test_large_cap)"
   ]
  },
  {
   "cell_type": "code",
   "execution_count": null,
   "metadata": {},
   "outputs": [],
   "source": [
    "confusion_matrix(y_true=y_test_large_cap, y_pred = optimal_fit_gb_cap_pred)"
   ]
  },
  {
   "cell_type": "code",
   "execution_count": null,
   "metadata": {},
   "outputs": [],
   "source": []
  },
  {
   "cell_type": "markdown",
   "metadata": {},
   "source": [
    "# We grid search for a linear SVM classifier"
   ]
  },
  {
   "cell_type": "code",
   "execution_count": 81,
   "metadata": {},
   "outputs": [],
   "source": [
    "from sklearn.metrics import accuracy_score, f1_score, precision_score\n",
    "from sklearn.metrics import recall_score, matthews_corrcoef\n",
    "from sklearn.metrics import mean_squared_error\n",
    "from sklearn.metrics import precision_recall_fscore_support\n",
    "from sklearn.metrics import balanced_accuracy_score\n",
    "import matplotlib.pyplot as plt\n",
    "from sklearn.metrics import confusion_matrix\n",
    "from sklearn.metrics import make_scorer\n",
    "from sklearn.model_selection import GridSearchCV\n",
    "from sklearn.svm import LinearSVC, SVC"
   ]
  },
  {
   "cell_type": "code",
   "execution_count": 82,
   "metadata": {},
   "outputs": [],
   "source": [
    "matthew_corr = make_scorer(matthews_corrcoef)\n",
    "mse = make_scorer(mean_squared_error)\n",
    "balanced_accuracy = make_scorer(balanced_accuracy_score)"
   ]
  },
  {
   "cell_type": "code",
   "execution_count": 83,
   "metadata": {},
   "outputs": [],
   "source": [
    "svm_linear_pipe = Pipeline([\n",
    "    ('scaler', StandardScaler()),\n",
    "    ('svm_clf', LinearSVC(fit_intercept=False, dual=True,\n",
    "                         loss='hinge', penalty='l2',\n",
    "                          random_state=42))\n",
    "])"
   ]
  },
  {
   "cell_type": "code",
   "execution_count": 84,
   "metadata": {},
   "outputs": [],
   "source": [
    "penalty_vals = np.logspace(-7, 3, 11)\n",
    "svm_linear_param_grid = [\n",
    "    {'svm_clf__C': penalty_vals\n",
    "    }\n",
    "]"
   ]
  },
  {
   "cell_type": "code",
   "execution_count": 85,
   "metadata": {},
   "outputs": [],
   "source": [
    "scores = {\n",
    "    'balanced_accuracy': balanced_accuracy,\n",
    "    'f1':make_scorer(f1_score), \n",
    "    'accuracy':make_scorer(accuracy_score), \n",
    "    'precision':make_scorer(precision_score), \n",
    "    'recall':make_scorer(recall_score),\n",
    "    'informedness': informedness,\n",
    "    'markedness': markedness\n",
    "}\n",
    "svm_linear_cv_search_cap = GridSearchCV(svm_linear_pipe, \n",
    "                                    svm_linear_param_grid, \n",
    "                                    cv=5, scoring=scores,\n",
    "                                    return_train_score=True,\n",
    "                                    refit='informedness'\n",
    "                                       )\n",
    "svm_linear_cv_search_biz = GridSearchCV(svm_linear_pipe, \n",
    "                                    svm_linear_param_grid, \n",
    "                                    cv=5, scoring=scores,\n",
    "                                    return_train_score=True,\n",
    "                                    refit='informedness'\n",
    "                                    )\n",
    "svm_linear_cv_search_bank = GridSearchCV(svm_linear_pipe, \n",
    "                                    svm_linear_param_grid, \n",
    "                                    cv=5, scoring=scores,\n",
    "                                    return_train_score=True,\n",
    "                                    refit='informedness'\n",
    "                                    )\n",
    "svm_linear_cv_search_pharma = GridSearchCV(svm_linear_pipe, \n",
    "                                    svm_linear_param_grid, \n",
    "                                    cv=5, scoring=scores,\n",
    "                                    return_train_score=True,\n",
    "                                    refit='informedness'\n",
    "                                    )"
   ]
  },
  {
   "cell_type": "code",
   "execution_count": null,
   "metadata": {
    "scrolled": false
   },
   "outputs": [],
   "source": [
    "%%capture\n",
    "svm_linear_large_cap_fit = svm_linear_cv_search_cap.fit(X_large_cap, \n",
    "                                                        y_large_cap)\n",
    "print('done large_cap')\n",
    "svm_linear_biz_fit = svm_linear_cv_search_biz.fit(X_biz, y_biz)\n",
    "print('done biz')\n",
    "svm_linear_bank_fit = svm_linear_cv_search_bank.fit(X_bank, y_bank)\n",
    "print('done bank')\n",
    "svm_linear_pharma_fit = svm_linear_cv_search_pharma.fit(X_pharma, \n",
    "                                                        y_pharma)\n",
    "print('done pharma')"
   ]
  },
  {
   "cell_type": "code",
   "execution_count": 86,
   "metadata": {},
   "outputs": [],
   "source": [
    "constraints = {\n",
    "    'C': 0\n",
    "}\n",
    "\n",
    "@optunity.cross_validated(x=X_large_cap.values, y=y_large_cap.values, num_folds=5)\n",
    "def svm_linear_cv_validation_cap(x_train, y_train, x_test, y_test, C):\n",
    "    svm_linear_pipe = Pipeline([\n",
    "    ('scaler', StandardScaler()),\n",
    "    ('svc_linear', LinearSVC(C=C, random_state=42, \n",
    "                          fit_intercept=False, dual=True,\n",
    "                          loss='hinge', penalty='l2',\n",
    "                                     ))\n",
    "    ])\n",
    "    model = svm_linear_pipe.fit(x_train, y_train)\n",
    "    decision_values = model.predict(x_test)\n",
    "    model_precision = precision_score(y_true=y_test, y_pred=decision_values)\n",
    "    model_informedness = informedness_score(y=y_test, y_pred=decision_values)\n",
    "    return model_informedness\n",
    "\n",
    "svm_linear_cv_validation_cap = optunity.wrap_constraints(svm_linear_cv_validation_cap, default=0, lb_o=constraints)"
   ]
  },
  {
   "cell_type": "code",
   "execution_count": 87,
   "metadata": {},
   "outputs": [],
   "source": [
    "%%capture\n",
    "svm_linear_optimal_cap, info_linear_cap, test55 = optunity.maximize(svm_linear_cv_validation_cap, \n",
    "                                                               num_evals = 100, \n",
    "                                                               solver_name='particle swarm',\n",
    "                                                               C=[0.05, 0.2])\n",
    "\n",
    "print('done')"
   ]
  },
  {
   "cell_type": "code",
   "execution_count": 88,
   "metadata": {},
   "outputs": [],
   "source": [
    "constraints = {\n",
    "    'C': 0\n",
    "}\n",
    "\n",
    "@optunity.cross_validated(x=X_biz.values, y=y_biz.values, num_folds=5)\n",
    "def svm_linear_cv_validation_biz(x_train, y_train, x_test, y_test, C):\n",
    "    svm_linear_pipe = Pipeline([\n",
    "    ('scaler', StandardScaler()),\n",
    "    ('svc_linear', LinearSVC(C=C, random_state=42, \n",
    "                          fit_intercept=False, dual=True,\n",
    "                          loss='hinge', penalty='l2',\n",
    "                                     ))\n",
    "    ])\n",
    "    model = svm_linear_pipe.fit(x_train, y_train)\n",
    "    decision_values = model.predict(x_test)\n",
    "    model_precision = precision_score(y_true=y_test, y_pred=decision_values)\n",
    "    model_informedness = informedness_score(y=y_test, y_pred=decision_values)\n",
    "    return model_informedness\n",
    "\n",
    "svm_linear_cv_validation_biz = optunity.wrap_constraints(svm_linear_cv_validation_biz, default=0, lb_o=constraints)"
   ]
  },
  {
   "cell_type": "code",
   "execution_count": 89,
   "metadata": {},
   "outputs": [],
   "source": [
    "%%capture\n",
    "svm_linear_optimal_biz, info_linear_biz, test_svm_lin_biz = optunity.maximize(svm_linear_cv_validation_biz, \n",
    "                                                               num_evals = 100, \n",
    "                                                               solver_name='particle swarm',\n",
    "                                                               C=[0.05, 0.2])\n",
    "\n",
    "print('done')"
   ]
  },
  {
   "cell_type": "code",
   "execution_count": 90,
   "metadata": {},
   "outputs": [],
   "source": [
    "constraints = {\n",
    "    'C': 0\n",
    "}\n",
    "\n",
    "@optunity.cross_validated(x=X_bank.values, y=y_bank.values, num_folds=5)\n",
    "def svm_linear_cv_validation_bank(x_train, y_train, x_test, y_test, C):\n",
    "    svm_linear_pipe = Pipeline([\n",
    "    ('scaler', StandardScaler()),\n",
    "    ('svc_linear', LinearSVC(C=C, random_state=42, \n",
    "                          fit_intercept=False, dual=True,\n",
    "                          loss='hinge', penalty='l2',\n",
    "                                     ))\n",
    "    ])\n",
    "    model = svm_linear_pipe.fit(x_train, y_train)\n",
    "    decision_values = model.predict(x_test)\n",
    "    model_precision = precision_score(y_true=y_test, y_pred=decision_values)\n",
    "    model_informedness = informedness_score(y=y_test, y_pred=decision_values)\n",
    "    return model_informedness\n",
    "\n",
    "svm_linear_cv_validation_bank = optunity.wrap_constraints(svm_linear_cv_validation_bank, default=0, lb_o=constraints)"
   ]
  },
  {
   "cell_type": "code",
   "execution_count": 91,
   "metadata": {},
   "outputs": [],
   "source": [
    "%%capture\n",
    "svm_linear_optimal_bank, info_linear_bank, test_svm_lin_bank = optunity.maximize(svm_linear_cv_validation_bank, \n",
    "                                                               num_evals = 100, \n",
    "                                                               solver_name='particle swarm',\n",
    "                                                               C=[0.05, 0.2])\n",
    "\n",
    "print('done')"
   ]
  },
  {
   "cell_type": "code",
   "execution_count": 92,
   "metadata": {},
   "outputs": [],
   "source": [
    "constraints = {\n",
    "    'C': 0\n",
    "}\n",
    "\n",
    "@optunity.cross_validated(x=X_pharma.values, y=y_pharma.values, num_folds=5)\n",
    "def svm_linear_cv_validation_pharma(x_train, y_train, x_test, y_test, C):\n",
    "    svm_linear_pipe = Pipeline([\n",
    "    ('scaler', StandardScaler()),\n",
    "    ('svc_linear', LinearSVC(C=C, random_state=42, \n",
    "                          fit_intercept=False, dual=True,\n",
    "                          loss='hinge', penalty='l2',\n",
    "                                     ))\n",
    "    ])\n",
    "    model = svm_linear_pipe.fit(x_train, y_train)\n",
    "    decision_values = model.predict(x_test)\n",
    "    model_precision = precision_score(y_true=y_test, y_pred=decision_values)\n",
    "    model_informedness = informedness_score(y=y_test, y_pred=decision_values)\n",
    "    return model_informedness\n",
    "\n",
    "svm_linear_cv_validation_pharma = optunity.wrap_constraints(svm_linear_cv_validation_pharma, default=0, lb_o=constraints)"
   ]
  },
  {
   "cell_type": "code",
   "execution_count": 93,
   "metadata": {},
   "outputs": [],
   "source": [
    "%%capture\n",
    "svm_linear_optimal_pharma, info_linear_pharma, test_svm_lin_pharma = optunity.maximize(svm_linear_cv_validation_pharma, \n",
    "                                                               num_evals = 100, \n",
    "                                                               solver_name='particle swarm',\n",
    "                                                               C=[0.05, 0.2])\n",
    "\n",
    "print('done')"
   ]
  },
  {
   "cell_type": "code",
   "execution_count": null,
   "metadata": {},
   "outputs": [],
   "source": []
  },
  {
   "cell_type": "code",
   "execution_count": 275,
   "metadata": {
    "scrolled": true
   },
   "outputs": [
    {
     "data": {
      "text/plain": [
       "{'C': 0.19540967635896173}"
      ]
     },
     "execution_count": 275,
     "metadata": {},
     "output_type": "execute_result"
    }
   ],
   "source": [
    "svm_linear_optimal_cap"
   ]
  },
  {
   "cell_type": "code",
   "execution_count": 422,
   "metadata": {},
   "outputs": [],
   "source": [
    "%%capture\n",
    "svm_linear_optimal_pipe_cap = Pipeline([\n",
    "    ('scaler', StandardScaler()),\n",
    "    ('svc_linear', LinearSVC(C=svm_linear_optimal_cap['C'], random_state=42, \n",
    "                          fit_intercept=False, dual=True,\n",
    "                          loss='hinge', penalty='l2',\n",
    "                                     ))\n",
    "    ])\n",
    "\n",
    "svm_linear_optimal_fit_cap = svm_linear_optimal_pipe_cap.fit(X_large_cap,y_large_cap)\n",
    "\n",
    "svm_linear_optimal_pipe_cap_informedness = cross_val_score(svm_linear_optimal_pipe_cap, \n",
    "                                                           X=X_large_cap, y=y_large_cap, scoring=informedness,\n",
    "                                                          cv=5)\n",
    "svm_linear_optimal_pipe_cap_precision = cross_val_score(svm_linear_optimal_pipe_cap, \n",
    "                                                           X=X_large_cap, y=y_large_cap, \n",
    "                                                     scoring=make_scorer(precision_score), cv=5)\n",
    "svm_linear_optimal_pipe_cap_recall = cross_val_score(svm_linear_optimal_pipe_cap, \n",
    "                                                           X=X_large_cap, y=y_large_cap, \n",
    "                                                     scoring=make_scorer(recall_score), cv=5)\n",
    "svm_linear_optimal_pipe_cap_accuracy = cross_val_score(svm_linear_optimal_pipe_cap, \n",
    "                                                           X=X_large_cap, y=y_large_cap, \n",
    "                                                     scoring=make_scorer(accuracy_score), cv=5)"
   ]
  },
  {
   "cell_type": "code",
   "execution_count": 423,
   "metadata": {},
   "outputs": [
    {
     "data": {
      "text/plain": [
       "0.0983547176285973"
      ]
     },
     "execution_count": 423,
     "metadata": {},
     "output_type": "execute_result"
    },
    {
     "data": {
      "text/plain": [
       "0.5556941851461922"
      ]
     },
     "execution_count": 423,
     "metadata": {},
     "output_type": "execute_result"
    },
    {
     "data": {
      "text/plain": [
       "0.6096123089381515"
      ]
     },
     "execution_count": 423,
     "metadata": {},
     "output_type": "execute_result"
    },
    {
     "data": {
      "text/plain": [
       "0.5500614512201453"
      ]
     },
     "execution_count": 423,
     "metadata": {},
     "output_type": "execute_result"
    }
   ],
   "source": [
    "np.mean(svm_linear_optimal_pipe_cap_informedness)\n",
    "np.mean(svm_linear_optimal_pipe_cap_precision)\n",
    "np.mean(svm_linear_optimal_pipe_cap_recall)\n",
    "np.mean(svm_linear_optimal_pipe_cap_accuracy)"
   ]
  },
  {
   "cell_type": "code",
   "execution_count": 274,
   "metadata": {},
   "outputs": [
    {
     "data": {
      "text/plain": [
       "{'C': 0.120060546875}"
      ]
     },
     "execution_count": 274,
     "metadata": {},
     "output_type": "execute_result"
    }
   ],
   "source": [
    "svm_linear_optimal_biz"
   ]
  },
  {
   "cell_type": "code",
   "execution_count": 424,
   "metadata": {},
   "outputs": [],
   "source": [
    "%%capture\n",
    "svm_linear_optimal_pipe_biz = Pipeline([\n",
    "    ('scaler', StandardScaler()),\n",
    "    ('svc_linear', LinearSVC(C=svm_linear_optimal_biz['C'], random_state=42, \n",
    "                          fit_intercept=False, dual=True,\n",
    "                          loss='hinge', penalty='l2',\n",
    "                                     ))\n",
    "    ])\n",
    "\n",
    "svm_linear_optimal_fit_biz = svm_linear_optimal_pipe_biz.fit(X_biz,y_biz)\n",
    "\n",
    "svm_linear_optimal_pipe_biz_informedness = cross_val_score(svm_linear_optimal_pipe_biz, \n",
    "                                                           X=X_biz, y=y_biz, scoring=informedness,\n",
    "                                                          cv=5)\n",
    "svm_linear_optimal_pipe_biz_precision = cross_val_score(svm_linear_optimal_pipe_biz, \n",
    "                                                           X=X_biz, y=y_biz, \n",
    "                                                     scoring=make_scorer(precision_score), cv=5)\n",
    "svm_linear_optimal_pipe_biz_recall = cross_val_score(svm_linear_optimal_pipe_biz, \n",
    "                                                           X=X_biz, y=y_biz, \n",
    "                                                     scoring=make_scorer(recall_score), cv=5)\n",
    "svm_linear_optimal_pipe_biz_accuracy = cross_val_score(svm_linear_optimal_pipe_biz, \n",
    "                                                           X=X_biz, y=y_biz, \n",
    "                                                     scoring=make_scorer(accuracy_score), cv=5)"
   ]
  },
  {
   "cell_type": "code",
   "execution_count": 425,
   "metadata": {},
   "outputs": [
    {
     "data": {
      "text/plain": [
       "0.07385668602830826"
      ]
     },
     "execution_count": 425,
     "metadata": {},
     "output_type": "execute_result"
    },
    {
     "data": {
      "text/plain": [
       "0.49170353839689296"
      ]
     },
     "execution_count": 425,
     "metadata": {},
     "output_type": "execute_result"
    },
    {
     "data": {
      "text/plain": [
       "0.6219677219118559"
      ]
     },
     "execution_count": 425,
     "metadata": {},
     "output_type": "execute_result"
    },
    {
     "data": {
      "text/plain": [
       "0.5302670005247931"
      ]
     },
     "execution_count": 425,
     "metadata": {},
     "output_type": "execute_result"
    }
   ],
   "source": [
    "np.mean(svm_linear_optimal_pipe_biz_informedness)\n",
    "np.mean(svm_linear_optimal_pipe_biz_precision)\n",
    "np.mean(svm_linear_optimal_pipe_biz_recall)\n",
    "np.mean(svm_linear_optimal_pipe_biz_accuracy)"
   ]
  },
  {
   "cell_type": "code",
   "execution_count": 273,
   "metadata": {},
   "outputs": [
    {
     "data": {
      "text/plain": [
       "{'C': 0.052279575120323545}"
      ]
     },
     "execution_count": 273,
     "metadata": {},
     "output_type": "execute_result"
    }
   ],
   "source": [
    "svm_linear_optimal_bank"
   ]
  },
  {
   "cell_type": "code",
   "execution_count": 426,
   "metadata": {},
   "outputs": [],
   "source": [
    "%%capture\n",
    "svm_linear_optimal_pipe_bank = Pipeline([\n",
    "    ('scaler', StandardScaler()),\n",
    "    ('svc_linear', LinearSVC(C=svm_linear_optimal_bank['C'], random_state=42, \n",
    "                          fit_intercept=False, dual=True,\n",
    "                          loss='hinge', penalty='l2',\n",
    "                                     ))\n",
    "    ])\n",
    "\n",
    "svm_linear_optimal_fit_bank = svm_linear_optimal_pipe_bank.fit(X_bank,y_bank)\n",
    "\n",
    "svm_linear_optimal_pipe_bank_informedness = cross_val_score(svm_linear_optimal_pipe_bank, \n",
    "                                                           X=X_bank, y=y_bank, scoring=informedness,\n",
    "                                                          cv=5)\n",
    "svm_linear_optimal_pipe_bank_precision = cross_val_score(svm_linear_optimal_pipe_bank, \n",
    "                                                           X=X_bank, y=y_bank, \n",
    "                                                     scoring=make_scorer(precision_score), cv=5)\n",
    "svm_linear_optimal_pipe_bank_recall = cross_val_score(svm_linear_optimal_pipe_bank, \n",
    "                                                           X=X_bank, y=y_bank, \n",
    "                                                     scoring=make_scorer(recall_score), cv=5)\n",
    "svm_linear_optimal_pipe_bank_accuracy = cross_val_score(svm_linear_optimal_pipe_bank, \n",
    "                                                           X=X_bank, y=y_bank, \n",
    "                                                     scoring=make_scorer(accuracy_score), cv=5)"
   ]
  },
  {
   "cell_type": "code",
   "execution_count": 427,
   "metadata": {},
   "outputs": [
    {
     "data": {
      "text/plain": [
       "0.1655868001208243"
      ]
     },
     "execution_count": 427,
     "metadata": {},
     "output_type": "execute_result"
    },
    {
     "data": {
      "text/plain": [
       "0.6438681925613801"
      ]
     },
     "execution_count": 427,
     "metadata": {},
     "output_type": "execute_result"
    },
    {
     "data": {
      "text/plain": [
       "0.7484871865527694"
      ]
     },
     "execution_count": 427,
     "metadata": {},
     "output_type": "execute_result"
    },
    {
     "data": {
      "text/plain": [
       "0.6102394660604455"
      ]
     },
     "execution_count": 427,
     "metadata": {},
     "output_type": "execute_result"
    }
   ],
   "source": [
    "np.mean(svm_linear_optimal_pipe_bank_informedness)\n",
    "np.mean(svm_linear_optimal_pipe_bank_precision)\n",
    "np.mean(svm_linear_optimal_pipe_bank_recall)\n",
    "np.mean(svm_linear_optimal_pipe_bank_accuracy)"
   ]
  },
  {
   "cell_type": "code",
   "execution_count": 282,
   "metadata": {},
   "outputs": [
    {
     "data": {
      "text/plain": [
       "{'C': 0.05454732892782128}"
      ]
     },
     "execution_count": 282,
     "metadata": {},
     "output_type": "execute_result"
    }
   ],
   "source": [
    "svm_linear_optimal_pharma"
   ]
  },
  {
   "cell_type": "code",
   "execution_count": 428,
   "metadata": {},
   "outputs": [],
   "source": [
    "%%capture\n",
    "svm_linear_optimal_pipe_pharma = Pipeline([\n",
    "    ('scaler', StandardScaler()),\n",
    "    ('svc_linear', LinearSVC(C=svm_linear_optimal_pharma['C'], random_state=42, \n",
    "                          fit_intercept=False, dual=True,\n",
    "                          loss='hinge', penalty='l2',\n",
    "                                     ))\n",
    "    ])\n",
    "\n",
    "svm_linear_optimal_fit_pharma = svm_linear_optimal_pipe_pharma.fit(X_pharma,y_pharma)\n",
    "\n",
    "svm_linear_optimal_pipe_pharma_informedness = cross_val_score(svm_linear_optimal_pipe_pharma, \n",
    "                                                           X=X_pharma, y=y_pharma, scoring=informedness,\n",
    "                                                          cv=5)\n",
    "svm_linear_optimal_pipe_pharma_precision = cross_val_score(svm_linear_optimal_pipe_pharma, \n",
    "                                                           X=X_pharma, y=y_pharma, \n",
    "                                                     scoring=make_scorer(precision_score), cv=5)\n",
    "svm_linear_optimal_pipe_pharma_recall = cross_val_score(svm_linear_optimal_pipe_pharma, \n",
    "                                                           X=X_pharma, y=y_pharma, \n",
    "                                                     scoring=make_scorer(recall_score), cv=5)\n",
    "svm_linear_optimal_pipe_pharma_accuracy = cross_val_score(svm_linear_optimal_pipe_pharma, \n",
    "                                                           X=X_pharma, y=y_pharma, \n",
    "                                                     scoring=make_scorer(accuracy_score), cv=5)\n"
   ]
  },
  {
   "cell_type": "code",
   "execution_count": 429,
   "metadata": {},
   "outputs": [
    {
     "data": {
      "text/plain": [
       "0.07143264888813157"
      ]
     },
     "execution_count": 429,
     "metadata": {},
     "output_type": "execute_result"
    },
    {
     "data": {
      "text/plain": [
       "0.48552608311228995"
      ]
     },
     "execution_count": 429,
     "metadata": {},
     "output_type": "execute_result"
    },
    {
     "data": {
      "text/plain": [
       "0.4699312714776632"
      ]
     },
     "execution_count": 429,
     "metadata": {},
     "output_type": "execute_result"
    },
    {
     "data": {
      "text/plain": [
       "0.5429768129013468"
      ]
     },
     "execution_count": 429,
     "metadata": {},
     "output_type": "execute_result"
    }
   ],
   "source": [
    "np.mean(svm_linear_optimal_pipe_pharma_informedness)\n",
    "np.mean(svm_linear_optimal_pipe_pharma_precision)\n",
    "np.mean(svm_linear_optimal_pipe_pharma_recall)\n",
    "np.mean(svm_linear_optimal_pipe_pharma_accuracy)"
   ]
  },
  {
   "cell_type": "code",
   "execution_count": null,
   "metadata": {},
   "outputs": [],
   "source": []
  },
  {
   "cell_type": "code",
   "execution_count": null,
   "metadata": {},
   "outputs": [],
   "source": [
    "2224/(2161 + 2224)"
   ]
  },
  {
   "cell_type": "code",
   "execution_count": null,
   "metadata": {},
   "outputs": [],
   "source": [
    "1051 / (1051 + 898)"
   ]
  },
  {
   "cell_type": "code",
   "execution_count": null,
   "metadata": {},
   "outputs": [],
   "source": [
    "954/(683 + 954)"
   ]
  },
  {
   "cell_type": "code",
   "execution_count": null,
   "metadata": {},
   "outputs": [],
   "source": [
    "602 / (481+602)"
   ]
  },
  {
   "cell_type": "code",
   "execution_count": null,
   "metadata": {},
   "outputs": [],
   "source": [
    "confusion_matrix(y_true=y_test_large_cap, y_pred=svm_linear_optimal_fit_cap.predict(X_test_large_cap),\n",
    "                labels=[1,-1])"
   ]
  },
  {
   "cell_type": "code",
   "execution_count": null,
   "metadata": {},
   "outputs": [],
   "source": []
  },
  {
   "cell_type": "code",
   "execution_count": 43,
   "metadata": {},
   "outputs": [],
   "source": [
    "from scipy import optimize"
   ]
  },
  {
   "cell_type": "markdown",
   "metadata": {},
   "source": [
    "# We try SVM with differen kernels"
   ]
  },
  {
   "cell_type": "code",
   "execution_count": 44,
   "metadata": {},
   "outputs": [],
   "source": [
    "from sklearn.svm import SVC"
   ]
  },
  {
   "cell_type": "code",
   "execution_count": 45,
   "metadata": {},
   "outputs": [],
   "source": [
    "from sklearn.model_selection import cross_val_score"
   ]
  },
  {
   "cell_type": "code",
   "execution_count": null,
   "metadata": {},
   "outputs": [],
   "source": [
    "from sklearn.utils.class_weight import compute_class_weight\n",
    "balanced_class_weights = compute_class_weight(class_weight='balanced', classes=np.unique(y_test_pharma), y=y_test_pharma)"
   ]
  },
  {
   "cell_type": "code",
   "execution_count": 46,
   "metadata": {},
   "outputs": [],
   "source": [
    "svm_rbf_pipe = Pipeline([\n",
    "    ('scaler', StandardScaler()),\n",
    "    ('svm_rbf', SVC(kernel='rbf'))\n",
    "])"
   ]
  },
  {
   "cell_type": "code",
   "execution_count": 48,
   "metadata": {},
   "outputs": [],
   "source": [
    "# BECOMES MORE MEMORY INTENSIVE FOR HIGH PENALTY VALUES\n",
    "gamma_vals = np.logspace(-3, 1, 5)\n",
    "penalty_vals = np.logspace(-2,4, 7)\n",
    "svm_rbf_param_grid = [\n",
    "    {'svm_rbf__C': penalty_vals,\n",
    "     'svm_rbf__gamma': gamma_vals\n",
    "    }\n",
    "]"
   ]
  },
  {
   "cell_type": "code",
   "execution_count": 49,
   "metadata": {},
   "outputs": [],
   "source": [
    "scores = {\n",
    "    'balanced_accuracy': balanced_accuracy,\n",
    "    'accuracy':make_scorer(accuracy_score), \n",
    "    'precision':make_scorer(precision_score), \n",
    "    'recall':make_scorer(recall_score),\n",
    "    'informedness': informedness,\n",
    "}\n",
    "cv_svm_rbf_cap_search = GridSearchCV(svm_rbf_pipe, \n",
    "                                 svm_rbf_param_grid, cv=5,\n",
    "                                 scoring=scores, n_jobs=-1,\n",
    "                                 refit='informedness')\n",
    "cv_svm_rbf_biz_search = GridSearchCV(svm_rbf_pipe, \n",
    "                                 svm_rbf_param_grid, cv=5,\n",
    "                                 scoring=scores, n_jobs=-1,\n",
    "                                 refit='informedness')\n",
    "cv_svm_rbf_bank_search = GridSearchCV(svm_rbf_pipe, \n",
    "                                 svm_rbf_param_grid, cv=5,\n",
    "                                 scoring=scores, n_jobs=-1,\n",
    "                                 refit='informedness')\n",
    "cv_svm_rbf_pharma_search = GridSearchCV(svm_rbf_pipe, \n",
    "                                 svm_rbf_param_grid, cv=5,\n",
    "                                 scoring=scores, n_jobs=-1,\n",
    "                                 refit='informedness')"
   ]
  },
  {
   "cell_type": "code",
   "execution_count": 50,
   "metadata": {},
   "outputs": [
    {
     "name": "stderr",
     "output_type": "stream",
     "text": [
      "/Users/daniel/anaconda3/lib/python3.7/site-packages/sklearn/preprocessing/data.py:625: DataConversionWarning: Data with input dtype int64, float64 were all converted to float64 by StandardScaler.\n",
      "  return self.partial_fit(X, y)\n",
      "/Users/daniel/anaconda3/lib/python3.7/site-packages/sklearn/base.py:465: DataConversionWarning: Data with input dtype int64, float64 were all converted to float64 by StandardScaler.\n",
      "  return self.fit(X, y, **fit_params).transform(X)\n"
     ]
    },
    {
     "data": {
      "text/plain": [
       "GridSearchCV(cv=5, error_score='raise-deprecating',\n",
       "       estimator=Pipeline(memory=None,\n",
       "     steps=[('scaler', StandardScaler(copy=True, with_mean=True, with_std=True)), ('svm_rbf', SVC(C=1.0, cache_size=200, class_weight=None, coef0=0.0,\n",
       "  decision_function_shape='ovr', degree=3, gamma='auto_deprecated',\n",
       "  kernel='rbf', max_iter=-1, probability=False, random_state=None,\n",
       "  shrinking=True, tol=0.001, verbose=False))]),\n",
       "       fit_params=None, iid='warn', n_jobs=-1,\n",
       "       param_grid=[{'svm_rbf__C': array([1.e-02, 1.e-01, 1.e+00, 1.e+01, 1.e+02, 1.e+03, 1.e+04]), 'svm_rbf__gamma': array([1.e-03, 1.e-02, 1.e-01, 1.e+00, 1.e+01])}],\n",
       "       pre_dispatch='2*n_jobs', refit='informedness',\n",
       "       return_train_score='warn',\n",
       "       scoring={'balanced_accuracy': make_scorer(balanced_accuracy_score), 'accuracy': make_scorer(accuracy_score), 'precision': make_scorer(precision_score), 'recall': make_scorer(recall_score), 'informedness': make_scorer(informedness)},\n",
       "       verbose=0)"
      ]
     },
     "execution_count": 50,
     "metadata": {},
     "output_type": "execute_result"
    }
   ],
   "source": [
    "cv_svm_rbf_cap_search.fit(X_large_cap, y_large_cap)"
   ]
  },
  {
   "cell_type": "code",
   "execution_count": 51,
   "metadata": {},
   "outputs": [
    {
     "name": "stderr",
     "output_type": "stream",
     "text": [
      "/Users/daniel/anaconda3/lib/python3.7/site-packages/sklearn/model_selection/_search.py:841: DeprecationWarning: The default of the `iid` parameter will change from True to False in version 0.22 and will be removed in 0.24. This will change numeric results when test-set sizes are unequal.\n",
      "  DeprecationWarning)\n"
     ]
    },
    {
     "data": {
      "text/plain": [
       "GridSearchCV(cv=5, error_score='raise-deprecating',\n",
       "       estimator=Pipeline(memory=None,\n",
       "     steps=[('scaler', StandardScaler(copy=True, with_mean=True, with_std=True)), ('svm_rbf', SVC(C=1.0, cache_size=200, class_weight=None, coef0=0.0,\n",
       "  decision_function_shape='ovr', degree=3, gamma='auto_deprecated',\n",
       "  kernel='rbf', max_iter=-1, probability=False, random_state=None,\n",
       "  shrinking=True, tol=0.001, verbose=False))]),\n",
       "       fit_params=None, iid='warn', n_jobs=-1,\n",
       "       param_grid=[{'svm_rbf__C': array([1.e-02, 1.e-01, 1.e+00, 1.e+01, 1.e+02, 1.e+03, 1.e+04]), 'svm_rbf__gamma': array([1.e-03, 1.e-02, 1.e-01, 1.e+00, 1.e+01])}],\n",
       "       pre_dispatch='2*n_jobs', refit='informedness',\n",
       "       return_train_score='warn',\n",
       "       scoring={'balanced_accuracy': make_scorer(balanced_accuracy_score), 'accuracy': make_scorer(accuracy_score), 'precision': make_scorer(precision_score), 'recall': make_scorer(recall_score), 'informedness': make_scorer(informedness)},\n",
       "       verbose=0)"
      ]
     },
     "execution_count": 51,
     "metadata": {},
     "output_type": "execute_result"
    }
   ],
   "source": [
    "cv_svm_rbf_biz_search.fit(X_biz, y_biz)"
   ]
  },
  {
   "cell_type": "code",
   "execution_count": 52,
   "metadata": {},
   "outputs": [
    {
     "name": "stderr",
     "output_type": "stream",
     "text": [
      "/Users/daniel/anaconda3/lib/python3.7/site-packages/sklearn/model_selection/_search.py:841: DeprecationWarning: The default of the `iid` parameter will change from True to False in version 0.22 and will be removed in 0.24. This will change numeric results when test-set sizes are unequal.\n",
      "  DeprecationWarning)\n",
      "/Users/daniel/anaconda3/lib/python3.7/site-packages/sklearn/preprocessing/data.py:625: DataConversionWarning: Data with input dtype int64, float64 were all converted to float64 by StandardScaler.\n",
      "  return self.partial_fit(X, y)\n",
      "/Users/daniel/anaconda3/lib/python3.7/site-packages/sklearn/base.py:465: DataConversionWarning: Data with input dtype int64, float64 were all converted to float64 by StandardScaler.\n",
      "  return self.fit(X, y, **fit_params).transform(X)\n"
     ]
    },
    {
     "data": {
      "text/plain": [
       "GridSearchCV(cv=5, error_score='raise-deprecating',\n",
       "       estimator=Pipeline(memory=None,\n",
       "     steps=[('scaler', StandardScaler(copy=True, with_mean=True, with_std=True)), ('svm_rbf', SVC(C=1.0, cache_size=200, class_weight=None, coef0=0.0,\n",
       "  decision_function_shape='ovr', degree=3, gamma='auto_deprecated',\n",
       "  kernel='rbf', max_iter=-1, probability=False, random_state=None,\n",
       "  shrinking=True, tol=0.001, verbose=False))]),\n",
       "       fit_params=None, iid='warn', n_jobs=-1,\n",
       "       param_grid=[{'svm_rbf__C': array([1.e-02, 1.e-01, 1.e+00, 1.e+01, 1.e+02, 1.e+03, 1.e+04]), 'svm_rbf__gamma': array([1.e-03, 1.e-02, 1.e-01, 1.e+00, 1.e+01])}],\n",
       "       pre_dispatch='2*n_jobs', refit='informedness',\n",
       "       return_train_score='warn',\n",
       "       scoring={'balanced_accuracy': make_scorer(balanced_accuracy_score), 'accuracy': make_scorer(accuracy_score), 'precision': make_scorer(precision_score), 'recall': make_scorer(recall_score), 'informedness': make_scorer(informedness)},\n",
       "       verbose=0)"
      ]
     },
     "execution_count": 52,
     "metadata": {},
     "output_type": "execute_result"
    }
   ],
   "source": [
    "cv_svm_rbf_bank_search.fit(X_bank, y_bank)"
   ]
  },
  {
   "cell_type": "code",
   "execution_count": 53,
   "metadata": {
    "scrolled": true
   },
   "outputs": [
    {
     "name": "stderr",
     "output_type": "stream",
     "text": [
      "/Users/daniel/anaconda3/lib/python3.7/site-packages/sklearn/model_selection/_search.py:841: DeprecationWarning: The default of the `iid` parameter will change from True to False in version 0.22 and will be removed in 0.24. This will change numeric results when test-set sizes are unequal.\n",
      "  DeprecationWarning)\n"
     ]
    },
    {
     "data": {
      "text/plain": [
       "GridSearchCV(cv=5, error_score='raise-deprecating',\n",
       "       estimator=Pipeline(memory=None,\n",
       "     steps=[('scaler', StandardScaler(copy=True, with_mean=True, with_std=True)), ('svm_rbf', SVC(C=1.0, cache_size=200, class_weight=None, coef0=0.0,\n",
       "  decision_function_shape='ovr', degree=3, gamma='auto_deprecated',\n",
       "  kernel='rbf', max_iter=-1, probability=False, random_state=None,\n",
       "  shrinking=True, tol=0.001, verbose=False))]),\n",
       "       fit_params=None, iid='warn', n_jobs=-1,\n",
       "       param_grid=[{'svm_rbf__C': array([1.e-02, 1.e-01, 1.e+00, 1.e+01, 1.e+02, 1.e+03, 1.e+04]), 'svm_rbf__gamma': array([1.e-03, 1.e-02, 1.e-01, 1.e+00, 1.e+01])}],\n",
       "       pre_dispatch='2*n_jobs', refit='informedness',\n",
       "       return_train_score='warn',\n",
       "       scoring={'balanced_accuracy': make_scorer(balanced_accuracy_score), 'accuracy': make_scorer(accuracy_score), 'precision': make_scorer(precision_score), 'recall': make_scorer(recall_score), 'informedness': make_scorer(informedness)},\n",
       "       verbose=0)"
      ]
     },
     "execution_count": 53,
     "metadata": {},
     "output_type": "execute_result"
    }
   ],
   "source": [
    "cv_svm_rbf_pharma_search.fit(X_pharma, y_pharma)"
   ]
  },
  {
   "cell_type": "code",
   "execution_count": 54,
   "metadata": {},
   "outputs": [
    {
     "data": {
      "text/plain": [
       "{'svm_rbf__C': 1000.0, 'svm_rbf__gamma': 0.01}"
      ]
     },
     "execution_count": 54,
     "metadata": {},
     "output_type": "execute_result"
    },
    {
     "data": {
      "text/plain": [
       "{'svm_rbf__C': 10.0, 'svm_rbf__gamma': 0.1}"
      ]
     },
     "execution_count": 54,
     "metadata": {},
     "output_type": "execute_result"
    },
    {
     "data": {
      "text/plain": [
       "{'svm_rbf__C': 10.0, 'svm_rbf__gamma': 1.0}"
      ]
     },
     "execution_count": 54,
     "metadata": {},
     "output_type": "execute_result"
    },
    {
     "data": {
      "text/plain": [
       "{'svm_rbf__C': 1.0, 'svm_rbf__gamma': 1.0}"
      ]
     },
     "execution_count": 54,
     "metadata": {},
     "output_type": "execute_result"
    }
   ],
   "source": [
    "cv_svm_rbf_cap_search.best_params_\n",
    "cv_svm_rbf_biz_search.best_params_\n",
    "cv_svm_rbf_bank_search.best_params_\n",
    "cv_svm_rbf_pharma_search.best_params_"
   ]
  },
  {
   "cell_type": "code",
   "execution_count": 57,
   "metadata": {},
   "outputs": [],
   "source": [
    "solver_svm_linear_cap = optunity.solvers.ParticleSwarm(num_particles=5, num_generations=10, \n",
    "                                                 C=[1000/2, 1000*5], \n",
    "                                                    gamma=[0.01/2, 0.01*5])\n",
    "\n",
    "solver_svm_linear_biz = optunity.solvers.ParticleSwarm(num_particles=5, num_generations=10, \n",
    "                                                 C=[10/2, 10*5], \n",
    "                                                    gamma=[0.1/2, 0.1*5])\n",
    "\n",
    "\n",
    "solver_svm_linear_bank = optunity.solvers.ParticleSwarm(num_particles=5, num_generations=10, \n",
    "                                                 C=[10/2, 10*5], \n",
    "                                                    gamma=[1/2, 1*5])\n",
    "\n",
    "solver_svm_linear_pharma = optunity.solvers.ParticleSwarm(num_particles=5, num_generations=10, \n",
    "                                                 C=[1/2, 1*5], \n",
    "                                                    gamma=[1/2, 1*5])\n"
   ]
  },
  {
   "cell_type": "code",
   "execution_count": 58,
   "metadata": {},
   "outputs": [
    {
     "name": "stdout",
     "output_type": "stream",
     "text": [
      "done\n",
      "CPU times: user 20min 41s, sys: 11.9 s, total: 20min 53s\n",
      "Wall time: 29min 51s\n"
     ]
    }
   ],
   "source": [
    "%%time\n",
    "constraints = {\n",
    "    'C': 0, 'gamma':0\n",
    "}\n",
    "\n",
    "@optunity.cross_validated(x=X_large_cap.values, y=y_large_cap.values, num_folds=5)\n",
    "def svm_rbf_cv_validation_cap(x_train, y_train, x_test, y_test, C, gamma):\n",
    "    svm_rbf_pipe = Pipeline([\n",
    "    ('scaler', StandardScaler()),\n",
    "    ('svc_rbf', SVC(kernel='rbf', C=C, gamma=gamma,\n",
    "                                     random_state=42\n",
    "                                     ))\n",
    "    ])\n",
    "    model = svm_rbf_pipe.fit(x_train, y_train)\n",
    "    decision_values = model.predict(x_test)\n",
    "    model_informedness = informedness_score(y=y_test, y_pred=decision_values)\n",
    "    return model_informedness\n",
    "\n",
    "svm_rbf_cv_validation_cap = optunity.wrap_constraints(svm_rbf_cv_validation_cap, default=0, lb_o=constraints)\n",
    "\n",
    "optimal_rbf_fit_cap, optimal_rbf_fit_cap_info = solver_svm_linear_cap.maximize(svm_rbf_cv_validation_cap)\n",
    "\n",
    "print('done')\n"
   ]
  },
  {
   "cell_type": "code",
   "execution_count": 59,
   "metadata": {},
   "outputs": [
    {
     "name": "stdout",
     "output_type": "stream",
     "text": [
      "done\n",
      "CPU times: user 1min 5s, sys: 531 ms, total: 1min 6s\n",
      "Wall time: 1min 16s\n"
     ]
    }
   ],
   "source": [
    "%%time\n",
    "constraints = {\n",
    "    'C': 0, 'gamma':0\n",
    "}\n",
    "\n",
    "@optunity.cross_validated(x=X_biz.values, y=y_biz.values, num_folds=5)\n",
    "def svm_rbf_cv_validation_biz(x_train, y_train, x_test, y_test, C, gamma):\n",
    "    svm_rbf_pipe = Pipeline([\n",
    "    ('scaler', StandardScaler()),\n",
    "    ('svc_rbf', SVC(kernel='rbf', C=C, gamma=gamma,\n",
    "                                     random_state=42\n",
    "                                     ))\n",
    "    ])\n",
    "    model = svm_rbf_pipe.fit(x_train, y_train)\n",
    "    decision_values = model.predict(x_test)\n",
    "    model_informedness = informedness_score(y=y_test, y_pred=decision_values)\n",
    "    return model_informedness\n",
    "\n",
    "svm_rbf_cv_validation_biz = optunity.wrap_constraints(svm_rbf_cv_validation_biz, default=0, lb_o=constraints)\n",
    "\n",
    "optimal_rbf_fit_biz, optimal_rbf_fit_biz_info = solver_svm_linear_biz.maximize(svm_rbf_cv_validation_biz)\n",
    "\n",
    "print('done')\n"
   ]
  },
  {
   "cell_type": "code",
   "execution_count": 60,
   "metadata": {},
   "outputs": [
    {
     "name": "stdout",
     "output_type": "stream",
     "text": [
      "done\n",
      "CPU times: user 48 s, sys: 281 ms, total: 48.3 s\n",
      "Wall time: 53.5 s\n"
     ]
    }
   ],
   "source": [
    "%%time\n",
    "constraints = {\n",
    "    'C': 0, 'gamma':0\n",
    "}\n",
    "\n",
    "@optunity.cross_validated(x=X_bank.values, y=y_bank.values, num_folds=5)\n",
    "def svm_rbf_cv_validation_bank(x_train, y_train, x_test, y_test, C, gamma):\n",
    "    svm_rbf_pipe = Pipeline([\n",
    "    ('scaler', StandardScaler()),\n",
    "    ('svc_rbf', SVC(kernel='rbf', C=C, gamma=gamma,\n",
    "                                     random_state=42\n",
    "                                     ))\n",
    "    ])\n",
    "    model = svm_rbf_pipe.fit(x_train, y_train)\n",
    "    decision_values = model.predict(x_test)\n",
    "    model_informedness = informedness_score(y=y_test, y_pred=decision_values)\n",
    "    return model_informedness\n",
    "\n",
    "svm_rbf_cv_validation_bank = optunity.wrap_constraints(svm_rbf_cv_validation_bank, default=0, lb_o=constraints)\n",
    "\n",
    "optimal_rbf_fit_bank, optimal_rbf_fit_bank_info = solver_svm_linear_bank.maximize(svm_rbf_cv_validation_bank)\n",
    "\n",
    "print('done')\n",
    "\n",
    "\n"
   ]
  },
  {
   "cell_type": "code",
   "execution_count": 61,
   "metadata": {},
   "outputs": [
    {
     "name": "stdout",
     "output_type": "stream",
     "text": [
      "done\n",
      "CPU times: user 17.6 s, sys: 144 ms, total: 17.7 s\n",
      "Wall time: 21 s\n"
     ]
    }
   ],
   "source": [
    "%%time\n",
    "constraints = {\n",
    "    'C': 0, 'gamma':0\n",
    "}\n",
    "\n",
    "@optunity.cross_validated(x=X_pharma.values, y=y_pharma.values, num_folds=5)\n",
    "def svm_rbf_cv_validation_pharma(x_train, y_train, x_test, y_test, C, gamma):\n",
    "    svm_rbf_pipe = Pipeline([\n",
    "    ('scaler', StandardScaler()),\n",
    "    ('svc_rbf', SVC(kernel='rbf', C=C, gamma=gamma,\n",
    "                                     random_state=42\n",
    "                                     ))\n",
    "    ])\n",
    "    model = svm_rbf_pipe.fit(x_train, y_train)\n",
    "    decision_values = model.predict(x_test)\n",
    "    model_informedness = informedness_score(y=y_test, y_pred=decision_values)\n",
    "    return model_informedness\n",
    "\n",
    "svm_rbf_cv_validation_pharma = optunity.wrap_constraints(svm_rbf_cv_validation_pharma, default=0, lb_o=constraints)\n",
    "\n",
    "optimal_rbf_fit_pharma, optimal_rbf_fit_pharma_info = solver_svm_linear_pharma.maximize(svm_rbf_cv_validation_pharma)\n",
    "\n",
    "print('done')\n",
    "\n"
   ]
  },
  {
   "cell_type": "code",
   "execution_count": null,
   "metadata": {},
   "outputs": [],
   "source": [
    "optimal_rbf_fit_cap"
   ]
  },
  {
   "cell_type": "code",
   "execution_count": 130,
   "metadata": {},
   "outputs": [
    {
     "name": "stderr",
     "output_type": "stream",
     "text": [
      "/Users/daniel/anaconda3/lib/python3.7/site-packages/sklearn/preprocessing/data.py:625: DataConversionWarning: Data with input dtype int64, float64 were all converted to float64 by StandardScaler.\n",
      "  return self.partial_fit(X, y)\n",
      "/Users/daniel/anaconda3/lib/python3.7/site-packages/sklearn/base.py:465: DataConversionWarning: Data with input dtype int64, float64 were all converted to float64 by StandardScaler.\n",
      "  return self.fit(X, y, **fit_params).transform(X)\n",
      "/Users/daniel/anaconda3/lib/python3.7/site-packages/sklearn/pipeline.py:331: DataConversionWarning: Data with input dtype int64, float64 were all converted to float64 by StandardScaler.\n",
      "  Xt = transform.transform(Xt)\n"
     ]
    }
   ],
   "source": [
    "svm_rbf_large_cap_pso_predictions = Pipeline([\n",
    "    ('scaler', StandardScaler()),\n",
    "    ('svc_rbf', SVC(kernel='rbf', C=optimal_rbf_fit_cap['C'], gamma=optimal_rbf_fit_cap['gamma'],\n",
    "                                     random_state=42\n",
    "                                     ))\n",
    "    ])\n",
    "svm_pso_fit_cap = svm_rbf_large_cap_pso_predictions.fit(X_large_cap, y_large_cap)\n",
    "svm_pso_fit_cap_pred = svm_pso_fit_cap.predict(X_test_large_cap)"
   ]
  },
  {
   "cell_type": "code",
   "execution_count": null,
   "metadata": {},
   "outputs": [],
   "source": [
    "informedness_score(y=y_test_large_cap, y_pred=svm_pso_fit_cap_pred)\n",
    "confusion_matrix(y_true=y_test_large_cap, y_pred=svm_pso_fit_cap_pred, labels=[1, -1])"
   ]
  },
  {
   "cell_type": "code",
   "execution_count": 430,
   "metadata": {},
   "outputs": [],
   "source": [
    "%%capture\n",
    "svm_pso_fit_cap_mean_cv_informedness = cross_val_score(svm_pso_fit_cap, \n",
    "                                                       X_large_cap, y_large_cap, cv=5, scoring=informedness\n",
    "                                                      )\n",
    "svm_pso_fit_cap_mean_cv_precision = cross_val_score(svm_pso_fit_cap, \n",
    "                                                       X_large_cap, y_large_cap, cv=5, \n",
    "                                                       scoring=make_scorer(precision_score))\n",
    "svm_pso_fit_cap_mean_cv_recall = cross_val_score(svm_pso_fit_cap, \n",
    "                                                       X_large_cap, y_large_cap, cv=5, \n",
    "                                                 scoring=make_scorer(recall_score)\n",
    "                                                      )\n",
    "svm_pso_fit_cap_mean_cv_accuracy = cross_val_score(svm_pso_fit_cap, \n",
    "                                                       X_large_cap, y_large_cap, cv=5, \n",
    "                                                       scoring=make_scorer(accuracy_score))\n",
    "svm_pso_fit_cap_mean_cv_informedness = np.mean(svm_pso_fit_cap_mean_cv_informedness)\n",
    "svm_pso_fit_cap_mean_cv_precision = np.mean(svm_pso_fit_cap_mean_cv_precision)\n",
    "svm_pso_fit_cap_mean_cv_recall = np.mean(svm_pso_fit_cap_mean_cv_recall)\n",
    "svm_pso_fit_cap_mean_cv_accuracy = np.mean(svm_pso_fit_cap_mean_cv_accuracy)"
   ]
  },
  {
   "cell_type": "code",
   "execution_count": 431,
   "metadata": {},
   "outputs": [
    {
     "data": {
      "text/plain": [
       "0.13218723017591638"
      ]
     },
     "execution_count": 431,
     "metadata": {},
     "output_type": "execute_result"
    },
    {
     "data": {
      "text/plain": [
       "0.563163633346796"
      ]
     },
     "execution_count": 431,
     "metadata": {},
     "output_type": "execute_result"
    },
    {
     "data": {
      "text/plain": [
       "0.6712642980058711"
      ]
     },
     "execution_count": 431,
     "metadata": {},
     "output_type": "execute_result"
    },
    {
     "data": {
      "text/plain": [
       "0.5676171674734147"
      ]
     },
     "execution_count": 431,
     "metadata": {},
     "output_type": "execute_result"
    }
   ],
   "source": [
    "svm_pso_fit_cap_mean_cv_informedness\n",
    "svm_pso_fit_cap_mean_cv_precision\n",
    "svm_pso_fit_cap_mean_cv_recall\n",
    "svm_pso_fit_cap_mean_cv_accuracy"
   ]
  },
  {
   "cell_type": "code",
   "execution_count": 432,
   "metadata": {},
   "outputs": [],
   "source": [
    "svm_rbf_large_biz_pso_predictions = Pipeline([\n",
    "    ('scaler', StandardScaler()),\n",
    "    ('svc_rbf', SVC(kernel='rbf', C=optimal_rbf_fit_biz['C'], gamma=optimal_rbf_fit_biz['gamma'],\n",
    "                                     random_state=42\n",
    "                                     ))\n",
    "    ])\n",
    "svm_pso_fit_biz = svm_rbf_large_biz_pso_predictions.fit(X_biz, y_biz)\n",
    "svm_pso_fit_biz_pred = svm_pso_fit_biz.predict(X_test_biz)"
   ]
  },
  {
   "cell_type": "code",
   "execution_count": 433,
   "metadata": {
    "scrolled": true
   },
   "outputs": [
    {
     "data": {
      "text/plain": [
       "0.01766600359950743"
      ]
     },
     "execution_count": 433,
     "metadata": {},
     "output_type": "execute_result"
    },
    {
     "data": {
      "text/plain": [
       "array([[130, 261],\n",
       "       [102, 222]])"
      ]
     },
     "execution_count": 433,
     "metadata": {},
     "output_type": "execute_result"
    }
   ],
   "source": [
    "informedness_score(y=y_test_biz, y_pred=svm_pso_fit_biz_pred)\n",
    "confusion_matrix(y_true=y_test_biz, y_pred=svm_pso_fit_biz_pred, labels=[1, -1])"
   ]
  },
  {
   "cell_type": "code",
   "execution_count": 434,
   "metadata": {},
   "outputs": [],
   "source": [
    "%%capture\n",
    "svm_pso_fit_biz_mean_cv_informedness = cross_val_score(svm_pso_fit_biz, \n",
    "                                                       X_biz, y_biz, cv=5, scoring=informedness)\n",
    "svm_pso_fit_biz_mean_cv_precision = cross_val_score(svm_pso_fit_biz, \n",
    "                                                       X_biz, y_biz, cv=5, \n",
    "                                                       scoring=make_scorer(precision_score))\n",
    "svm_pso_fit_biz_mean_cv_recall = cross_val_score(svm_pso_fit_biz, \n",
    "                                                       X_biz, y_biz, cv=5, scoring=make_scorer(recall_score))\n",
    "svm_pso_fit_biz_mean_cv_accuracy = cross_val_score(svm_pso_fit_biz, \n",
    "                                                       X_biz, y_biz, cv=5, \n",
    "                                                       scoring=make_scorer(accuracy_score))\n",
    "svm_pso_fit_biz_mean_cv_informedness = np.mean(svm_pso_fit_biz_mean_cv_informedness)\n",
    "svm_pso_fit_biz_mean_cv_precision = np.mean(svm_pso_fit_biz_mean_cv_precision)\n",
    "svm_pso_fit_biz_mean_cv_recall = np.mean(svm_pso_fit_biz_mean_cv_recall)\n",
    "svm_pso_fit_biz_mean_cv_accuracy = np.mean(svm_pso_fit_biz_mean_cv_accuracy)"
   ]
  },
  {
   "cell_type": "code",
   "execution_count": 435,
   "metadata": {},
   "outputs": [
    {
     "data": {
      "text/plain": [
       "0.003355451918029706"
      ]
     },
     "execution_count": 435,
     "metadata": {},
     "output_type": "execute_result"
    },
    {
     "data": {
      "text/plain": [
       "0.461972248645136"
      ]
     },
     "execution_count": 435,
     "metadata": {},
     "output_type": "execute_result"
    },
    {
     "data": {
      "text/plain": [
       "0.4506765983860956"
      ]
     },
     "execution_count": 435,
     "metadata": {},
     "output_type": "execute_result"
    },
    {
     "data": {
      "text/plain": [
       "0.505633186617151"
      ]
     },
     "execution_count": 435,
     "metadata": {},
     "output_type": "execute_result"
    }
   ],
   "source": [
    "svm_pso_fit_biz_mean_cv_informedness\n",
    "svm_pso_fit_biz_mean_cv_precision\n",
    "svm_pso_fit_biz_mean_cv_recall\n",
    "svm_pso_fit_biz_mean_cv_accuracy"
   ]
  },
  {
   "cell_type": "code",
   "execution_count": 436,
   "metadata": {},
   "outputs": [
    {
     "name": "stderr",
     "output_type": "stream",
     "text": [
      "/Users/daniel/anaconda3/lib/python3.7/site-packages/sklearn/preprocessing/data.py:625: DataConversionWarning: Data with input dtype int64, float64 were all converted to float64 by StandardScaler.\n",
      "  return self.partial_fit(X, y)\n",
      "/Users/daniel/anaconda3/lib/python3.7/site-packages/sklearn/base.py:465: DataConversionWarning: Data with input dtype int64, float64 were all converted to float64 by StandardScaler.\n",
      "  return self.fit(X, y, **fit_params).transform(X)\n",
      "/Users/daniel/anaconda3/lib/python3.7/site-packages/sklearn/pipeline.py:331: DataConversionWarning: Data with input dtype int64, float64 were all converted to float64 by StandardScaler.\n",
      "  Xt = transform.transform(Xt)\n"
     ]
    }
   ],
   "source": [
    "svm_rbf_large_bank_pso_predictions = Pipeline([\n",
    "    ('scaler', StandardScaler()),\n",
    "    ('svc_rbf', SVC(kernel='rbf', C=optimal_rbf_fit_bank['C'], gamma=optimal_rbf_fit_bank['gamma'],\n",
    "                                     random_state=42\n",
    "                                     ))\n",
    "    ])\n",
    "svm_pso_fit_bank = svm_rbf_large_bank_pso_predictions.fit(X_bank, y_bank)\n",
    "svm_pso_fit_bank_pred = svm_pso_fit_bank.predict(X_test_bank)"
   ]
  },
  {
   "cell_type": "code",
   "execution_count": 437,
   "metadata": {},
   "outputs": [
    {
     "data": {
      "text/plain": [
       "0.13052721088435376"
      ]
     },
     "execution_count": 437,
     "metadata": {},
     "output_type": "execute_result"
    },
    {
     "data": {
      "text/plain": [
       "array([[ 73,  74],\n",
       "       [164, 284]])"
      ]
     },
     "execution_count": 437,
     "metadata": {},
     "output_type": "execute_result"
    }
   ],
   "source": [
    "informedness_score(y=y_test_bank, y_pred=svm_pso_fit_bank_pred)\n",
    "confusion_matrix(y_true=y_test_bank, y_pred=svm_pso_fit_bank_pred, labels=[1, -1])"
   ]
  },
  {
   "cell_type": "code",
   "execution_count": 438,
   "metadata": {},
   "outputs": [],
   "source": [
    "%%capture\n",
    "svm_pso_fit_bank_mean_cv_informedness = cross_val_score(svm_pso_fit_bank, \n",
    "                                                       X_bank, y_bank, cv=5, scoring=informedness)\n",
    "svm_pso_fit_bank_mean_cv_precision = cross_val_score(svm_pso_fit_bank, \n",
    "                                                       X_bank, y_bank, cv=5, \n",
    "                                                       scoring=make_scorer(precision_score))\n",
    "svm_pso_fit_bank_mean_cv_recall = cross_val_score(svm_pso_fit_bank, \n",
    "                                                       X_bank, y_bank, cv=5, \n",
    "                                                       scoring=make_scorer(recall_score))\n",
    "svm_pso_fit_bank_mean_cv_accuracy = cross_val_score(svm_pso_fit_bank, \n",
    "                                                       X_bank, y_bank, cv=5, \n",
    "                                                       scoring=make_scorer(accuracy_score))\n",
    "svm_pso_fit_bank_mean_cv_informedness = np.mean(svm_pso_fit_bank_mean_cv_informedness)\n",
    "svm_pso_fit_bank_mean_cv_precision = np.mean(svm_pso_fit_bank_mean_cv_precision)\n",
    "svm_pso_fit_bank_mean_cv_recall = np.mean(svm_pso_fit_bank_mean_cv_recall)\n",
    "svm_pso_fit_bank_mean_cv_accuracy = np.mean(svm_pso_fit_bank_mean_cv_accuracy)"
   ]
  },
  {
   "cell_type": "code",
   "execution_count": 439,
   "metadata": {},
   "outputs": [
    {
     "data": {
      "text/plain": [
       "0.14562681873903288"
      ]
     },
     "execution_count": 439,
     "metadata": {},
     "output_type": "execute_result"
    },
    {
     "data": {
      "text/plain": [
       "0.6387972829163365"
      ]
     },
     "execution_count": 439,
     "metadata": {},
     "output_type": "execute_result"
    },
    {
     "data": {
      "text/plain": [
       "0.7285808762744558"
      ]
     },
     "execution_count": 439,
     "metadata": {},
     "output_type": "execute_result"
    },
    {
     "data": {
      "text/plain": [
       "0.5986260039051114"
      ]
     },
     "execution_count": 439,
     "metadata": {},
     "output_type": "execute_result"
    }
   ],
   "source": [
    "svm_pso_fit_bank_mean_cv_informedness\n",
    "svm_pso_fit_bank_mean_cv_precision\n",
    "svm_pso_fit_bank_mean_cv_recall\n",
    "svm_pso_fit_bank_mean_cv_accuracy"
   ]
  },
  {
   "cell_type": "code",
   "execution_count": 440,
   "metadata": {},
   "outputs": [],
   "source": [
    "svm_rbf_large_pharma_pso_predictions = Pipeline([\n",
    "    ('scaler', StandardScaler()),\n",
    "    ('svc_rbf', SVC(kernel='rbf', C=optimal_rbf_fit_pharma['C'], gamma=optimal_rbf_fit_pharma['gamma'],\n",
    "                                     random_state=42\n",
    "                                     ))\n",
    "    ])\n",
    "svm_pso_fit_pharma = svm_rbf_large_pharma_pso_predictions.fit(X_pharma, y_pharma)\n",
    "svm_pso_fit_pharma_pred = svm_pso_fit_pharma.predict(X_test_pharma)"
   ]
  },
  {
   "cell_type": "code",
   "execution_count": 441,
   "metadata": {},
   "outputs": [
    {
     "data": {
      "text/plain": [
       "0.011984917856180971"
      ]
     },
     "execution_count": 441,
     "metadata": {},
     "output_type": "execute_result"
    },
    {
     "data": {
      "text/plain": [
       "array([[ 32, 156],\n",
       "       [ 50, 266]])"
      ]
     },
     "execution_count": 441,
     "metadata": {},
     "output_type": "execute_result"
    }
   ],
   "source": [
    "informedness_score(y=y_test_pharma, y_pred=svm_pso_fit_pharma_pred)\n",
    "confusion_matrix(y_true=y_test_pharma, y_pred=svm_pso_fit_pharma_pred, labels=[1, -1])"
   ]
  },
  {
   "cell_type": "code",
   "execution_count": 442,
   "metadata": {},
   "outputs": [],
   "source": [
    "%%capture\n",
    "svm_pso_fit_pharma_mean_cv_informedness = cross_val_score(svm_pso_fit_pharma, \n",
    "                                                       X_pharma, y_pharma, cv=5, scoring=informedness)\n",
    "svm_pso_fit_pharma_mean_cv_precision = cross_val_score(svm_pso_fit_pharma, \n",
    "                                                       X_pharma, y_pharma, cv=5, \n",
    "                                                       scoring=make_scorer(precision_score))\n",
    "svm_pso_fit_pharma_mean_cv_recall = cross_val_score(svm_pso_fit_pharma, \n",
    "                                                       X_pharma, y_pharma, cv=5, \n",
    "                                                       scoring=make_scorer(recall_score))\n",
    "svm_pso_fit_pharma_mean_cv_accuracy = cross_val_score(svm_pso_fit_pharma, \n",
    "                                                       X_pharma, y_pharma, cv=5, \n",
    "                                                       scoring=make_scorer(accuracy_score))\n",
    "svm_pso_fit_pharma_mean_cv_informedness = np.mean(svm_pso_fit_pharma_mean_cv_informedness)\n",
    "svm_pso_fit_pharma_mean_cv_precision = np.mean(svm_pso_fit_pharma_mean_cv_precision)\n",
    "svm_pso_fit_pharma_mean_cv_recall = np.mean(svm_pso_fit_pharma_mean_cv_recall)\n",
    "svm_pso_fit_pharma_mean_cv_accuracy = np.mean(svm_pso_fit_pharma_mean_cv_accuracy)"
   ]
  },
  {
   "cell_type": "code",
   "execution_count": 443,
   "metadata": {
    "scrolled": true
   },
   "outputs": [
    {
     "data": {
      "text/plain": [
       "0.07811745619266705"
      ]
     },
     "execution_count": 443,
     "metadata": {},
     "output_type": "execute_result"
    },
    {
     "data": {
      "text/plain": [
       "0.5257549407114623"
      ]
     },
     "execution_count": 443,
     "metadata": {},
     "output_type": "execute_result"
    },
    {
     "data": {
      "text/plain": [
       "0.2807345360824742"
      ]
     },
     "execution_count": 443,
     "metadata": {},
     "output_type": "execute_result"
    },
    {
     "data": {
      "text/plain": [
       "0.5678832925429552"
      ]
     },
     "execution_count": 443,
     "metadata": {},
     "output_type": "execute_result"
    }
   ],
   "source": [
    "svm_pso_fit_pharma_mean_cv_informedness\n",
    "svm_pso_fit_pharma_mean_cv_precision\n",
    "svm_pso_fit_pharma_mean_cv_recall\n",
    "svm_pso_fit_pharma_mean_cv_accuracy"
   ]
  },
  {
   "cell_type": "markdown",
   "metadata": {},
   "source": [
    "# Voting Classifier"
   ]
  },
  {
   "cell_type": "code",
   "execution_count": 55,
   "metadata": {},
   "outputs": [],
   "source": [
    "from sklearn.ensemble import VotingClassifier"
   ]
  },
  {
   "cell_type": "code",
   "execution_count": null,
   "metadata": {},
   "outputs": [],
   "source": [
    "VotingClassifier?"
   ]
  },
  {
   "cell_type": "code",
   "execution_count": 444,
   "metadata": {},
   "outputs": [],
   "source": [
    "optimal_forest_pipe_cap = Pipeline([\n",
    "    ('scaler', StandardScaler()),\n",
    "    ('forest', RandomForestClassifier(bootstrap=True, oob_score=True,\n",
    "                                     n_jobs=-1, random_state=42,\n",
    "                                     n_estimators=int(optimal_forest_cap_params['n_trees']), \n",
    "                                      max_depth=int(optimal_forest_cap_params['depth']), \n",
    "                                     min_samples_leaf=int(optimal_forest_cap_params['min_leaf']),\n",
    "                                     min_samples_split=int(optimal_forest_cap_params['min_split'])))\n",
    "])"
   ]
  },
  {
   "cell_type": "code",
   "execution_count": 151,
   "metadata": {},
   "outputs": [],
   "source": [
    "%%capture\n",
    "optimal_forest_fit_cap = optimal_forest_pipe_cap.fit(X_large_cap, y_large_cap)\n",
    "optimal_forest_fit_pred_cap = optimal_forest_fit_cap.predict(X_test_large_cap)"
   ]
  },
  {
   "cell_type": "code",
   "execution_count": 152,
   "metadata": {},
   "outputs": [
    {
     "data": {
      "text/plain": [
       "array([[324, 418],\n",
       "       [283, 636]])"
      ]
     },
     "execution_count": 152,
     "metadata": {},
     "output_type": "execute_result"
    },
    {
     "data": {
      "text/plain": [
       "0.5337726523887973"
      ]
     },
     "execution_count": 152,
     "metadata": {},
     "output_type": "execute_result"
    }
   ],
   "source": [
    "confusion_matrix(y_true=y_test_large_cap, y_pred=optimal_forest_fit_pred_cap, labels=[1,-1])\n",
    "precision_score(y_true=y_test_large_cap, y_pred=optimal_forest_fit_pred_cap, labels=[1,-1])"
   ]
  },
  {
   "cell_type": "code",
   "execution_count": 260,
   "metadata": {},
   "outputs": [],
   "source": [
    "optimal_gradient_pipe_cap = Pipeline([\n",
    "    ('scaler', StandardScaler()),\n",
    "    ('forest', GradientBoostingClassifier(loss='deviance',\n",
    "                                          learning_rate=optimal_gradient_boost_cap['learning_rate'],\n",
    "                                          subsample=optimal_gradient_boost_cap['subsample'],\n",
    "                                          n_estimators=int(optimal_gradient_boost_cap['n_trees']), \n",
    "                                          max_depth=optimal_gradient_boost_cap['depth'],\n",
    "                                          min_samples_leaf=optimal_gradient_boost_cap['min_leaf'],\n",
    "                                          min_samples_split=int(0.005 * X_large_cap.shape[0]),\n",
    "                                          random_state=42))\n",
    "    ])"
   ]
  },
  {
   "cell_type": "code",
   "execution_count": 261,
   "metadata": {},
   "outputs": [],
   "source": [
    "%%capture\n",
    "optimal_gb_fit_cap = optimal_gradient_pipe_cap.fit(X_large_cap, y_large_cap)\n",
    "optimal_gb_fit_pred_cap = optimal_gb_fit_cap.predict(X_test_large_cap)"
   ]
  },
  {
   "cell_type": "code",
   "execution_count": 262,
   "metadata": {},
   "outputs": [
    {
     "data": {
      "text/plain": [
       "array([[321, 421],\n",
       "       [318, 601]])"
      ]
     },
     "execution_count": 262,
     "metadata": {},
     "output_type": "execute_result"
    },
    {
     "data": {
      "text/plain": [
       "0.5023474178403756"
      ]
     },
     "execution_count": 262,
     "metadata": {},
     "output_type": "execute_result"
    }
   ],
   "source": [
    "confusion_matrix(y_true=y_test_large_cap, y_pred=optimal_gb_fit_pred_cap, labels=[1,-1])\n",
    "precision_score(y_true=y_test_large_cap, y_pred=optimal_gb_fit_pred_cap, labels=[1,-1])"
   ]
  },
  {
   "cell_type": "code",
   "execution_count": 156,
   "metadata": {},
   "outputs": [
    {
     "data": {
      "text/plain": [
       "Pipeline(memory=None,\n",
       "     steps=[('scaler', StandardScaler(copy=True, with_mean=True, with_std=True)), ('svc_linear', LinearSVC(C=0.4437675781249999, class_weight=None, dual=True,\n",
       "     fit_intercept=False, intercept_scaling=1, loss='hinge', max_iter=1000,\n",
       "     multi_class='ovr', penalty='l2', random_state=42, tol=0.0001,\n",
       "     verbose=0))])"
      ]
     },
     "execution_count": 156,
     "metadata": {},
     "output_type": "execute_result"
    }
   ],
   "source": [
    "svm_linear_optimal_pipe_cap"
   ]
  },
  {
   "cell_type": "code",
   "execution_count": 157,
   "metadata": {},
   "outputs": [],
   "source": [
    "svm_rbf_large_cap_pso_predictions = Pipeline([\n",
    "    ('scaler', StandardScaler()),\n",
    "    ('svc_rbf', SVC(kernel='rbf', C=optimal_rbf_fit_cap['C'], gamma=optimal_rbf_fit_cap['gamma'],\n",
    "                                     random_state=42\n",
    "                                     ))\n",
    "    ])"
   ]
  },
  {
   "cell_type": "code",
   "execution_count": 158,
   "metadata": {},
   "outputs": [],
   "source": [
    "%%capture\n",
    "optimal_svm_rbf_fit_cap = svm_rbf_large_cap_pso_predictions.fit(X_large_cap, y_large_cap)\n",
    "optimal_svm_rbf_fit_pred_cap = optimal_svm_rbf_fit_cap.predict(X_test_large_cap)"
   ]
  },
  {
   "cell_type": "code",
   "execution_count": 159,
   "metadata": {},
   "outputs": [
    {
     "data": {
      "text/plain": [
       "array([[433, 309],\n",
       "       [464, 455]])"
      ]
     },
     "execution_count": 159,
     "metadata": {},
     "output_type": "execute_result"
    },
    {
     "data": {
      "text/plain": [
       "0.48272017837235226"
      ]
     },
     "execution_count": 159,
     "metadata": {},
     "output_type": "execute_result"
    }
   ],
   "source": [
    "confusion_matrix(y_true=y_test_large_cap, y_pred=optimal_svm_rbf_fit_pred_cap, labels=[1,-1])\n",
    "precision_score(y_true=y_test_large_cap, y_pred=optimal_svm_rbf_fit_pred_cap, labels=[1,-1])"
   ]
  },
  {
   "cell_type": "code",
   "execution_count": null,
   "metadata": {},
   "outputs": [],
   "source": [
    "vote_cap = VotingClassifier([('svm_rbf', svm_rbf_large_cap_pso_predictions),\n",
    "                 ('gb', optimal_gradient_pipe_cap), ('rf', optimal_forest_pipe_cap)])"
   ]
  },
  {
   "cell_type": "code",
   "execution_count": null,
   "metadata": {},
   "outputs": [],
   "source": [
    "%%capture\n",
    "vote_fit_cap = vote_cap.fit(X_large_cap, y_large_cap)\n",
    "vote_fit_cap_predictions = vote_fit_cap.predict(X_test_large_cap)"
   ]
  },
  {
   "cell_type": "code",
   "execution_count": null,
   "metadata": {},
   "outputs": [],
   "source": [
    "confusion_matrix(y_true=y_test_large_cap, y_pred=vote_fit_cap_predictions, labels=[1,-1])\n",
    "precision_score(y_true=y_test_large_cap, y_pred=vote_fit_cap_predictions, labels=[1,-1])"
   ]
  },
  {
   "cell_type": "code",
   "execution_count": null,
   "metadata": {},
   "outputs": [],
   "source": [
    "vote_fit_cap."
   ]
  },
  {
   "cell_type": "code",
   "execution_count": 445,
   "metadata": {},
   "outputs": [],
   "source": [
    "%%capture\n",
    "optimal_forest_fit_pred_cap = optimal_forest_fit_cap.predict(X_test_large_cap)"
   ]
  },
  {
   "cell_type": "code",
   "execution_count": 446,
   "metadata": {},
   "outputs": [],
   "source": [
    "optimal_forest_fit_pred_cap_series = pd.Series(optimal_forest_fit_pred_cap)\n",
    "optimal_forest_fit_pred_cap_series.index = y_test_large_cap.index\n",
    "forest_stocks_cap = all_data_large_cap.ticker[y_test_large_cap.index]\n",
    "price_change_percent_cap = all_data_large_cap['price_change%'][y_test_large_cap.index]\n",
    "forest_predictions_tables_cap = pd.concat([forest_stocks_cap, y_test_large_cap, \n",
    "                                       optimal_forest_fit_pred_cap_series, price_change_percent_cap], axis=1)"
   ]
  },
  {
   "cell_type": "code",
   "execution_count": 447,
   "metadata": {},
   "outputs": [
    {
     "data": {
      "text/plain": [
       "0.1708978813079895"
      ]
     },
     "execution_count": 447,
     "metadata": {},
     "output_type": "execute_result"
    },
    {
     "data": {
      "text/plain": [
       "0.09532785954115405"
      ]
     },
     "execution_count": 447,
     "metadata": {},
     "output_type": "execute_result"
    }
   ],
   "source": [
    "np.mean(forest_predictions_tables_cap[forest_predictions_tables_cap[0] == 1.0]['price_change%'])\n",
    "np.mean(all_data_large_cap['price_change%'][y_test_large_cap.index])"
   ]
  },
  {
   "cell_type": "code",
   "execution_count": null,
   "metadata": {},
   "outputs": [],
   "source": []
  },
  {
   "cell_type": "code",
   "execution_count": 448,
   "metadata": {},
   "outputs": [],
   "source": [
    "%%capture\n",
    "\n",
    "optimal_forest_fit_pred_biz = optimal_forest_biz.predict(X_test_biz)"
   ]
  },
  {
   "cell_type": "code",
   "execution_count": 449,
   "metadata": {},
   "outputs": [],
   "source": [
    "optimal_forest_fit_pred_biz_series = pd.Series(optimal_forest_fit_pred_biz)\n",
    "optimal_forest_fit_pred_biz_series.index = y_test_biz.index\n",
    "forest_stocks_biz = all_data_biz.ticker[y_test_biz.index]\n",
    "price_change_percent_biz = all_data_biz['price_change%'][y_test_biz.index]\n",
    "forest_predictions_tables_biz = pd.concat([forest_stocks_biz, y_test_biz, \n",
    "                                       optimal_forest_fit_pred_biz_series, price_change_percent_biz], axis=1)"
   ]
  },
  {
   "cell_type": "code",
   "execution_count": 450,
   "metadata": {},
   "outputs": [
    {
     "data": {
      "text/plain": [
       "0.13864061257040855"
      ]
     },
     "execution_count": 450,
     "metadata": {},
     "output_type": "execute_result"
    },
    {
     "data": {
      "text/plain": [
       "0.22961784128330412"
      ]
     },
     "execution_count": 450,
     "metadata": {},
     "output_type": "execute_result"
    }
   ],
   "source": [
    "np.mean(forest_predictions_tables_biz[forest_predictions_tables_biz[0] == 1.0]['price_change%'])\n",
    "np.mean(all_data_biz['price_change%'][y_test_biz.index])"
   ]
  },
  {
   "cell_type": "code",
   "execution_count": null,
   "metadata": {},
   "outputs": [],
   "source": []
  },
  {
   "cell_type": "code",
   "execution_count": 451,
   "metadata": {},
   "outputs": [],
   "source": [
    "%%capture\n",
    "\n",
    "optimal_forest_fit_pred_bank = optimal_forest_bank.predict(X_test_bank)"
   ]
  },
  {
   "cell_type": "code",
   "execution_count": 452,
   "metadata": {},
   "outputs": [],
   "source": [
    "optimal_forest_fit_pred_bank_series = pd.Series(optimal_forest_fit_pred_bank)\n",
    "optimal_forest_fit_pred_bank_series.index = y_test_bank.index\n",
    "forest_stocks_bank = all_data_bank.ticker[y_test_bank.index]\n",
    "price_change_percent_bank = all_data_bank['price_change%'][y_test_bank.index]\n",
    "forest_predictions_tables_bank = pd.concat([forest_stocks_bank, y_test_bank, \n",
    "                                       optimal_forest_fit_pred_bank_series, price_change_percent_bank], axis=1)"
   ]
  },
  {
   "cell_type": "code",
   "execution_count": 453,
   "metadata": {},
   "outputs": [
    {
     "data": {
      "text/plain": [
       "-0.0015149940554214719"
      ]
     },
     "execution_count": 453,
     "metadata": {},
     "output_type": "execute_result"
    },
    {
     "data": {
      "text/plain": [
       "-0.01477205918332016"
      ]
     },
     "execution_count": 453,
     "metadata": {},
     "output_type": "execute_result"
    }
   ],
   "source": [
    "np.mean(forest_predictions_tables_bank[forest_predictions_tables_bank[0] == 1.0]['price_change%'])\n",
    "np.mean(all_data_bank['price_change%'][y_test_bank.index])"
   ]
  },
  {
   "cell_type": "code",
   "execution_count": null,
   "metadata": {},
   "outputs": [],
   "source": []
  },
  {
   "cell_type": "code",
   "execution_count": 454,
   "metadata": {},
   "outputs": [],
   "source": [
    "%%capture\n",
    "\n",
    "optimal_forest_fit_pred_pharma = optimal_forest_pharma.predict(X_test_pharma)"
   ]
  },
  {
   "cell_type": "code",
   "execution_count": 455,
   "metadata": {},
   "outputs": [],
   "source": [
    "optimal_forest_fit_pred_pharma_series = pd.Series(optimal_forest_fit_pred_pharma)\n",
    "optimal_forest_fit_pred_pharma_series.index = y_test_pharma.index\n",
    "forest_stocks_pharma = all_data_pharma.ticker[y_test_pharma.index]\n",
    "price_change_percent_pharma = all_data_pharma['price_change%'][y_test_pharma.index]\n",
    "forest_predictions_tables_pharma = pd.concat([forest_stocks_pharma, y_test_pharma, \n",
    "                                       optimal_forest_fit_pred_pharma_series, price_change_percent_pharma], \n",
    "                                             axis=1)"
   ]
  },
  {
   "cell_type": "code",
   "execution_count": 456,
   "metadata": {},
   "outputs": [
    {
     "data": {
      "text/plain": [
       "0.2031047372754275"
      ]
     },
     "execution_count": 456,
     "metadata": {},
     "output_type": "execute_result"
    },
    {
     "data": {
      "text/plain": [
       "0.10687630560082889"
      ]
     },
     "execution_count": 456,
     "metadata": {},
     "output_type": "execute_result"
    }
   ],
   "source": [
    "np.mean(forest_predictions_tables_pharma[forest_predictions_tables_pharma[0] == 1.0]['price_change%'])\n",
    "np.mean(all_data_pharma['price_change%'][y_test_pharma.index])"
   ]
  },
  {
   "cell_type": "code",
   "execution_count": null,
   "metadata": {},
   "outputs": [],
   "source": []
  },
  {
   "cell_type": "code",
   "execution_count": 457,
   "metadata": {},
   "outputs": [],
   "source": [
    "optimal_gb_fit_pred_cap_series = pd.Series(gb_pred_cap)\n",
    "optimal_gb_fit_pred_cap_series.index = y_test_large_cap.index\n",
    "gb_stocks_cap = all_data_large_cap.ticker[y_test_large_cap.index]\n",
    "price_change_percent_cap = all_data_large_cap['price_change%'][y_test_large_cap.index]\n",
    "gb_predictions_tables_cap = pd.concat([gb_stocks_cap, y_test_large_cap, \n",
    "                                       optimal_gb_fit_pred_cap_series, price_change_percent_cap], axis=1)"
   ]
  },
  {
   "cell_type": "code",
   "execution_count": 458,
   "metadata": {},
   "outputs": [
    {
     "data": {
      "text/plain": [
       "0.1397106470585063"
      ]
     },
     "execution_count": 458,
     "metadata": {},
     "output_type": "execute_result"
    },
    {
     "data": {
      "text/plain": [
       "0.09532785954115405"
      ]
     },
     "execution_count": 458,
     "metadata": {},
     "output_type": "execute_result"
    }
   ],
   "source": [
    "np.mean(gb_predictions_tables_cap[gb_predictions_tables_cap[0] == 1.0]['price_change%'])\n",
    "np.mean(all_data_large_cap['price_change%'][y_test_large_cap.index])"
   ]
  },
  {
   "cell_type": "code",
   "execution_count": null,
   "metadata": {},
   "outputs": [],
   "source": []
  },
  {
   "cell_type": "code",
   "execution_count": 459,
   "metadata": {},
   "outputs": [],
   "source": [
    "optimal_gb_fit_pred_biz_series = pd.Series(gb_pred_biz)\n",
    "optimal_gb_fit_pred_biz_series.index = y_test_biz.index\n",
    "gb_stocks_biz = all_data_biz.ticker[y_test_biz.index]\n",
    "price_change_percent_biz = all_data_biz['price_change%'][y_test_biz.index]\n",
    "gb_predictions_tables_biz = pd.concat([gb_stocks_biz, y_test_biz, \n",
    "                                       optimal_gb_fit_pred_biz_series, price_change_percent_biz], axis=1)"
   ]
  },
  {
   "cell_type": "code",
   "execution_count": 460,
   "metadata": {
    "scrolled": true
   },
   "outputs": [
    {
     "data": {
      "text/plain": [
       "0.21174853929524376"
      ]
     },
     "execution_count": 460,
     "metadata": {},
     "output_type": "execute_result"
    },
    {
     "data": {
      "text/plain": [
       "0.22961784128330412"
      ]
     },
     "execution_count": 460,
     "metadata": {},
     "output_type": "execute_result"
    }
   ],
   "source": [
    "np.mean(gb_predictions_tables_biz[gb_predictions_tables_biz[0] == 1.0]['price_change%'])\n",
    "np.mean(all_data_biz['price_change%'][y_test_biz.index])"
   ]
  },
  {
   "cell_type": "code",
   "execution_count": null,
   "metadata": {},
   "outputs": [],
   "source": []
  },
  {
   "cell_type": "code",
   "execution_count": 461,
   "metadata": {},
   "outputs": [],
   "source": [
    "optimal_gb_fit_pred_bank_series = pd.Series(gb_pred_bank)\n",
    "optimal_gb_fit_pred_bank_series.index = y_test_bank.index\n",
    "gb_stocks_bank = all_data_bank.ticker[y_test_bank.index]\n",
    "price_change_percent_bank = all_data_bank['price_change%'][y_test_bank.index]\n",
    "gb_predictions_tables_bank = pd.concat([gb_stocks_bank, y_test_bank, \n",
    "                                       optimal_gb_fit_pred_bank_series, price_change_percent_bank], axis=1)"
   ]
  },
  {
   "cell_type": "code",
   "execution_count": 462,
   "metadata": {},
   "outputs": [
    {
     "data": {
      "text/plain": [
       "0.00859918574427903"
      ]
     },
     "execution_count": 462,
     "metadata": {},
     "output_type": "execute_result"
    }
   ],
   "source": [
    "np.mean(gb_predictions_tables_bank[gb_predictions_tables_bank[0] == 1.0]['price_change%'])"
   ]
  },
  {
   "cell_type": "code",
   "execution_count": 181,
   "metadata": {},
   "outputs": [
    {
     "data": {
      "text/plain": [
       "-0.01477205918332016"
      ]
     },
     "execution_count": 181,
     "metadata": {},
     "output_type": "execute_result"
    }
   ],
   "source": [
    "np.mean(all_data_bank['price_change%'][y_test_bank.index])"
   ]
  },
  {
   "cell_type": "code",
   "execution_count": null,
   "metadata": {},
   "outputs": [],
   "source": []
  },
  {
   "cell_type": "code",
   "execution_count": 463,
   "metadata": {},
   "outputs": [],
   "source": [
    "optimal_gb_fit_pred_pharma_series = pd.Series(gb_pred_pharma)\n",
    "optimal_gb_fit_pred_pharma_series.index = y_test_pharma.index\n",
    "gb_stocks_pharma = all_data_pharma.ticker[y_test_pharma.index]\n",
    "price_change_percent_pharma = all_data_pharma['price_change%'][y_test_pharma.index]\n",
    "gb_predictions_tables_pharma = pd.concat([gb_stocks_pharma, y_test_pharma, \n",
    "                                       optimal_gb_fit_pred_pharma_series, price_change_percent_pharma], axis=1)"
   ]
  },
  {
   "cell_type": "code",
   "execution_count": 464,
   "metadata": {},
   "outputs": [
    {
     "data": {
      "text/plain": [
       "0.16318821373942946"
      ]
     },
     "execution_count": 464,
     "metadata": {},
     "output_type": "execute_result"
    },
    {
     "data": {
      "text/plain": [
       "0.10687630560082889"
      ]
     },
     "execution_count": 464,
     "metadata": {},
     "output_type": "execute_result"
    }
   ],
   "source": [
    "np.mean(gb_predictions_tables_pharma[gb_predictions_tables_pharma[0] == 1.0]['price_change%'])\n",
    "np.mean(all_data_pharma['price_change%'][y_test_pharma.index])"
   ]
  },
  {
   "cell_type": "code",
   "execution_count": null,
   "metadata": {},
   "outputs": [],
   "source": []
  },
  {
   "cell_type": "code",
   "execution_count": 465,
   "metadata": {},
   "outputs": [],
   "source": [
    "%%capture\n",
    "optimal_linear_svm_cap = svm_linear_optimal_pipe_cap\n",
    "optimal_linear_svm_cap_fit = optimal_linear_svm_cap.fit(X_large_cap, y_large_cap)\n",
    "optimal_linear_svm_cap_pred = optimal_linear_svm_cap_fit.predict(X_test_large_cap)"
   ]
  },
  {
   "cell_type": "code",
   "execution_count": 466,
   "metadata": {},
   "outputs": [
    {
     "data": {
      "text/plain": [
       "0.1425778139414511"
      ]
     },
     "execution_count": 466,
     "metadata": {},
     "output_type": "execute_result"
    },
    {
     "data": {
      "text/plain": [
       "0.09532785954115405"
      ]
     },
     "execution_count": 466,
     "metadata": {},
     "output_type": "execute_result"
    }
   ],
   "source": [
    "optimal_linear_svm_fit_pred_cap_series = pd.Series(optimal_linear_svm_cap_pred)\n",
    "optimal_linear_svm_fit_pred_cap_series.index = y_test_large_cap.index\n",
    "linear_svm_stocks_cap = all_data_large_cap.ticker[y_test_large_cap.index]\n",
    "price_change_percent_cap = all_data_large_cap['price_change%'][y_test_large_cap.index]\n",
    "linear_svm_predictions_tables_cap = pd.concat([linear_svm_stocks_cap, y_test_large_cap, \n",
    "                                       optimal_linear_svm_fit_pred_cap_series, price_change_percent_cap], axis=1)\n",
    "\n",
    "np.mean(linear_svm_predictions_tables_cap[linear_svm_predictions_tables_cap[0] == 1.0]['price_change%'])\n",
    "np.mean(all_data_large_cap['price_change%'][y_test_large_cap.index])"
   ]
  },
  {
   "cell_type": "code",
   "execution_count": null,
   "metadata": {},
   "outputs": [],
   "source": []
  },
  {
   "cell_type": "code",
   "execution_count": 467,
   "metadata": {},
   "outputs": [],
   "source": [
    "%%capture\n",
    "optimal_linear_svm_biz = svm_linear_optimal_pipe_biz\n",
    "optimal_linear_svm_biz_fit = optimal_linear_svm_biz.fit(X_biz, y_biz)\n",
    "optimal_linear_svm_biz_pred = optimal_linear_svm_biz_fit.predict(X_test_biz)"
   ]
  },
  {
   "cell_type": "code",
   "execution_count": 468,
   "metadata": {},
   "outputs": [
    {
     "data": {
      "text/plain": [
       "0.22733745755894447"
      ]
     },
     "execution_count": 468,
     "metadata": {},
     "output_type": "execute_result"
    },
    {
     "data": {
      "text/plain": [
       "0.22961784128330412"
      ]
     },
     "execution_count": 468,
     "metadata": {},
     "output_type": "execute_result"
    }
   ],
   "source": [
    "optimal_linear_svm_fit_pred_biz_series = pd.Series(optimal_linear_svm_biz_pred)\n",
    "optimal_linear_svm_fit_pred_biz_series.index = y_test_biz.index\n",
    "linear_svm_stocks_biz = all_data_biz.ticker[y_test_biz.index]\n",
    "price_change_percent_biz = all_data_biz['price_change%'][y_test_biz.index]\n",
    "linear_svm_predictions_tables_biz = pd.concat([linear_svm_stocks_biz, y_test_biz, \n",
    "                                       optimal_linear_svm_fit_pred_biz_series, price_change_percent_biz], axis=1)\n",
    "\n",
    "np.mean(linear_svm_predictions_tables_biz[linear_svm_predictions_tables_biz[0] == 1.0]['price_change%'])\n",
    "np.mean(all_data_biz['price_change%'][y_test_biz.index])"
   ]
  },
  {
   "cell_type": "code",
   "execution_count": null,
   "metadata": {},
   "outputs": [],
   "source": []
  },
  {
   "cell_type": "code",
   "execution_count": 469,
   "metadata": {},
   "outputs": [],
   "source": [
    "%%capture\n",
    "optimal_linear_svm_bank = svm_linear_optimal_pipe_bank\n",
    "optimal_linear_svm_bank_fit = optimal_linear_svm_bank.fit(X_bank, y_bank)\n",
    "optimal_linear_svm_bank_pred = optimal_linear_svm_bank_fit.predict(X_test_bank)"
   ]
  },
  {
   "cell_type": "code",
   "execution_count": 470,
   "metadata": {},
   "outputs": [
    {
     "data": {
      "text/plain": [
       "0.008496683626457037"
      ]
     },
     "execution_count": 470,
     "metadata": {},
     "output_type": "execute_result"
    },
    {
     "data": {
      "text/plain": [
       "-0.01477205918332016"
      ]
     },
     "execution_count": 470,
     "metadata": {},
     "output_type": "execute_result"
    }
   ],
   "source": [
    "optimal_linear_svm_fit_pred_bank_series = pd.Series(optimal_linear_svm_bank_pred)\n",
    "optimal_linear_svm_fit_pred_bank_series.index = y_test_bank.index\n",
    "linear_svm_stocks_bank = all_data_bank.ticker[y_test_bank.index]\n",
    "price_change_percent_bank = all_data_bank['price_change%'][y_test_bank.index]\n",
    "linear_svm_predictions_tables_bank = pd.concat([linear_svm_stocks_bank, y_test_bank, \n",
    "                                       optimal_linear_svm_fit_pred_bank_series, price_change_percent_bank], axis=1)\n",
    "\n",
    "np.mean(linear_svm_predictions_tables_bank[linear_svm_predictions_tables_bank[0] == 1.0]['price_change%'])\n",
    "np.mean(all_data_bank['price_change%'][y_test_bank.index])"
   ]
  },
  {
   "cell_type": "code",
   "execution_count": null,
   "metadata": {},
   "outputs": [],
   "source": []
  },
  {
   "cell_type": "code",
   "execution_count": 471,
   "metadata": {},
   "outputs": [],
   "source": [
    "%%capture\n",
    "optimal_linear_svm_pharma = svm_linear_optimal_pipe_pharma\n",
    "optimal_linear_svm_pharma_fit = optimal_linear_svm_pharma.fit(X_pharma, y_pharma)\n",
    "optimal_linear_svm_pharma_pred = optimal_linear_svm_pharma_fit.predict(X_test_pharma)"
   ]
  },
  {
   "cell_type": "code",
   "execution_count": 472,
   "metadata": {},
   "outputs": [
    {
     "data": {
      "text/plain": [
       "0.18707448186853665"
      ]
     },
     "execution_count": 472,
     "metadata": {},
     "output_type": "execute_result"
    },
    {
     "name": "stderr",
     "output_type": "stream",
     "text": [
      "/Users/daniel/anaconda3/lib/python3.7/site-packages/pandas/core/series.py:942: FutureWarning: \n",
      "Passing list-likes to .loc or [] with any missing label will raise\n",
      "KeyError in the future, you can use .reindex() as an alternative.\n",
      "\n",
      "See the documentation here:\n",
      "https://pandas.pydata.org/pandas-docs/stable/indexing.html#deprecate-loc-reindex-listlike\n",
      "  return self.loc[key]\n"
     ]
    },
    {
     "data": {
      "text/plain": [
       "0.13870520724107713"
      ]
     },
     "execution_count": 472,
     "metadata": {},
     "output_type": "execute_result"
    }
   ],
   "source": [
    "optimal_linear_svm_fit_pred_pharma_series = pd.Series(optimal_linear_svm_pharma_pred)\n",
    "optimal_linear_svm_fit_pred_pharma_series.index = y_test_pharma.index\n",
    "linear_svm_stocks_pharma = all_data_pharma.ticker[y_test_pharma.index]\n",
    "price_change_percent_pharma = all_data_pharma['price_change%'][y_test_pharma.index]\n",
    "linear_svm_predictions_tables_pharma = pd.concat([linear_svm_stocks_pharma, y_test_pharma, \n",
    "                                       optimal_linear_svm_fit_pred_pharma_series, price_change_percent_pharma], axis=1)\n",
    "\n",
    "np.mean(linear_svm_predictions_tables_pharma[linear_svm_predictions_tables_pharma[0] == 1.0]['price_change%'])\n",
    "np.mean(all_data_pharma['price_change%'][y_test_large_cap.index])"
   ]
  },
  {
   "cell_type": "code",
   "execution_count": null,
   "metadata": {},
   "outputs": [],
   "source": []
  },
  {
   "cell_type": "code",
   "execution_count": 473,
   "metadata": {},
   "outputs": [
    {
     "data": {
      "text/plain": [
       "0.12346932466742211"
      ]
     },
     "execution_count": 473,
     "metadata": {},
     "output_type": "execute_result"
    },
    {
     "data": {
      "text/plain": [
       "0.09532785954115405"
      ]
     },
     "execution_count": 473,
     "metadata": {},
     "output_type": "execute_result"
    }
   ],
   "source": [
    "optimal_rbf_svm_fit_pred_cap_series = pd.Series(svm_pso_fit_cap_pred)\n",
    "optimal_rbf_svm_fit_pred_cap_series.index = y_test_large_cap.index\n",
    "rbf_svm_stocks_cap = all_data_large_cap.ticker[y_test_large_cap.index]\n",
    "price_change_percent_cap = all_data_large_cap['price_change%'][y_test_large_cap.index]\n",
    "rbf_svm_predictions_tables_cap = pd.concat([rbf_svm_stocks_cap, y_test_large_cap, \n",
    "                                       optimal_rbf_svm_fit_pred_cap_series, price_change_percent_cap], axis=1)\n",
    "\n",
    "np.mean(rbf_svm_predictions_tables_cap[rbf_svm_predictions_tables_cap[0] == 1.0]['price_change%'])\n",
    "np.mean(all_data_large_cap['price_change%'][y_test_large_cap.index])"
   ]
  },
  {
   "cell_type": "code",
   "execution_count": 474,
   "metadata": {},
   "outputs": [
    {
     "data": {
      "text/plain": [
       "0.22453463384424055"
      ]
     },
     "execution_count": 474,
     "metadata": {},
     "output_type": "execute_result"
    },
    {
     "data": {
      "text/plain": [
       "0.22961784128330412"
      ]
     },
     "execution_count": 474,
     "metadata": {},
     "output_type": "execute_result"
    }
   ],
   "source": [
    "optimal_rbf_svm_fit_pred_biz_series = pd.Series(svm_pso_fit_biz_pred)\n",
    "optimal_rbf_svm_fit_pred_biz_series.index = y_test_biz.index\n",
    "rbf_svm_stocks_biz = all_data_biz.ticker[y_test_biz.index]\n",
    "price_change_percent_biz = all_data_biz['price_change%'][y_test_biz.index]\n",
    "rbf_svm_predictions_tables_biz = pd.concat([rbf_svm_stocks_biz, y_test_biz, \n",
    "                                       optimal_rbf_svm_fit_pred_biz_series, price_change_percent_biz], axis=1)\n",
    "\n",
    "np.mean(rbf_svm_predictions_tables_biz[rbf_svm_predictions_tables_biz[0] == 1.0]['price_change%'])\n",
    "np.mean(all_data_biz['price_change%'][y_test_biz.index])"
   ]
  },
  {
   "cell_type": "code",
   "execution_count": null,
   "metadata": {},
   "outputs": [],
   "source": []
  },
  {
   "cell_type": "code",
   "execution_count": 475,
   "metadata": {},
   "outputs": [
    {
     "data": {
      "text/plain": [
       "0.018185087522641342"
      ]
     },
     "execution_count": 475,
     "metadata": {},
     "output_type": "execute_result"
    },
    {
     "data": {
      "text/plain": [
       "-0.01477205918332016"
      ]
     },
     "execution_count": 475,
     "metadata": {},
     "output_type": "execute_result"
    }
   ],
   "source": [
    "optimal_rbf_svm_fit_pred_bank_series = pd.Series(svm_pso_fit_bank_pred)\n",
    "optimal_rbf_svm_fit_pred_bank_series.index = y_test_bank.index\n",
    "rbf_svm_stocks_bank = all_data_bank.ticker[y_test_bank.index]\n",
    "price_change_percent_bank = all_data_bank['price_change%'][y_test_bank.index]\n",
    "rbf_svm_predictions_tables_bank = pd.concat([rbf_svm_stocks_bank, y_test_bank, \n",
    "                                       optimal_rbf_svm_fit_pred_bank_series, price_change_percent_bank], axis=1)\n",
    "\n",
    "np.mean(rbf_svm_predictions_tables_bank[rbf_svm_predictions_tables_bank[0] == 1.0]['price_change%'])\n",
    "np.mean(all_data_bank['price_change%'][y_test_bank.index])"
   ]
  },
  {
   "cell_type": "code",
   "execution_count": null,
   "metadata": {},
   "outputs": [],
   "source": []
  },
  {
   "cell_type": "code",
   "execution_count": 476,
   "metadata": {},
   "outputs": [
    {
     "data": {
      "text/plain": [
       "0.16582514638354262"
      ]
     },
     "execution_count": 476,
     "metadata": {},
     "output_type": "execute_result"
    },
    {
     "data": {
      "text/plain": [
       "0.10687630560082889"
      ]
     },
     "execution_count": 476,
     "metadata": {},
     "output_type": "execute_result"
    }
   ],
   "source": [
    "optimal_rbf_svm_fit_pred_pharma_series = pd.Series(svm_pso_fit_pharma_pred)\n",
    "optimal_rbf_svm_fit_pred_pharma_series.index = y_test_pharma.index\n",
    "rbf_svm_stocks_pharma = all_data_pharma.ticker[y_test_pharma.index]\n",
    "price_change_percent_pharma = all_data_pharma['price_change%'][y_test_pharma.index]\n",
    "rbf_svm_predictions_tables_pharma = pd.concat([rbf_svm_stocks_pharma, y_test_pharma, \n",
    "                                       optimal_rbf_svm_fit_pred_pharma_series, price_change_percent_pharma], axis=1)\n",
    "\n",
    "np.mean(rbf_svm_predictions_tables_pharma[rbf_svm_predictions_tables_pharma[0] == 1.0]['price_change%'])\n",
    "np.mean(all_data_pharma['price_change%'][y_test_pharma.index])"
   ]
  },
  {
   "cell_type": "code",
   "execution_count": null,
   "metadata": {},
   "outputs": [],
   "source": []
  },
  {
   "cell_type": "code",
   "execution_count": null,
   "metadata": {},
   "outputs": [],
   "source": []
  },
  {
   "cell_type": "code",
   "execution_count": 477,
   "metadata": {},
   "outputs": [],
   "source": [
    "%%capture\n",
    "optimal_vote_cap = VotingClassifier([('linear_svm', svm_linear_optimal_pipe_cap),\n",
    "                                     ('svm_rbf', svm_rbf_large_cap_pso_predictions),\n",
    "                  ('gb', optimal_gradient_pipe_cap), ('rf', optimal_forest_pipe_cap)])\n",
    "\n",
    "optimal_vote_fit_cap = optimal_vote_cap.fit(X_large_cap, y_large_cap)\n",
    "optimal_vote_fit_cap_predictions = optimal_vote_fit_cap.predict(X_test_large_cap)"
   ]
  },
  {
   "cell_type": "code",
   "execution_count": 478,
   "metadata": {},
   "outputs": [
    {
     "data": {
      "text/plain": [
       "array([[300, 442],\n",
       "       [275, 644]])"
      ]
     },
     "execution_count": 478,
     "metadata": {},
     "output_type": "execute_result"
    },
    {
     "data": {
      "text/plain": [
       "0.5217391304347826"
      ]
     },
     "execution_count": 478,
     "metadata": {},
     "output_type": "execute_result"
    },
    {
     "data": {
      "text/plain": [
       "0.164891469811814"
      ]
     },
     "execution_count": 478,
     "metadata": {},
     "output_type": "execute_result"
    }
   ],
   "source": [
    "confusion_matrix(y_true=y_test_large_cap, y_pred=optimal_vote_fit_cap_predictions, labels=[1,-1])\n",
    "precision_score(y_true=y_test_large_cap, y_pred=optimal_vote_fit_cap_predictions, labels=[1,-1])\n",
    "\n",
    "optimal_vote_fit_pred_cap_series = pd.Series(optimal_vote_fit_cap_predictions)\n",
    "optimal_vote_fit_pred_cap_series.index = y_test_large_cap.index\n",
    "vote_stocks_cap = all_data_large_cap.ticker[y_test_large_cap.index]\n",
    "price_change_percent_cap = all_data_large_cap['price_change%'][y_test_large_cap.index]\n",
    "vote_predictions_tables_cap = pd.concat([vote_stocks_cap, y_test_large_cap, \n",
    "                                       optimal_vote_fit_pred_cap_series, price_change_percent_cap], axis=1)\n",
    "\n",
    "np.mean(vote_predictions_tables_cap[vote_predictions_tables_cap[0] == 1.0]['price_change%'])"
   ]
  },
  {
   "cell_type": "code",
   "execution_count": 272,
   "metadata": {},
   "outputs": [],
   "source": [
    "%%capture\n",
    "vote_fit_cap_mean_cv_informedness = cross_val_score(optimal_vote_cap, \n",
    "                                                       X_large_cap, y_large_cap, cv=5, scoring=informedness\n",
    "                                                      )\n",
    "vote_fit_cap_mean_cv_precision = cross_val_score(optimal_vote_cap, \n",
    "                                                       X_large_cap, y_large_cap, cv=5, \n",
    "                                                       scoring=make_scorer(precision_score))\n",
    "vote_fit_cap_mean_cv_recall = cross_val_score(optimal_vote_cap, \n",
    "                                                       X_large_cap, y_large_cap, cv=5, \n",
    "                                                 scoring=make_scorer(recall_score)\n",
    "                                                      )\n",
    "vote_fit_cap_mean_cv_accuracy = cross_val_score(optimal_vote_cap, \n",
    "                                                       X_large_cap, y_large_cap, cv=5, \n",
    "                                                       scoring=make_scorer(accuracy_score))\n",
    "vote_fit_cap_mean_cv_informedness = np.mean(vote_fit_cap_mean_cv_informedness)\n",
    "vote_fit_cap_mean_cv_precision = np.mean(vote_fit_cap_mean_cv_precision)\n",
    "vote_fit_cap_mean_cv_recall = np.mean(vote_fit_cap_mean_cv_recall)\n",
    "vote_fit_cap_mean_cv_accuracy = np.mean(vote_fit_cap_mean_cv_accuracy)"
   ]
  },
  {
   "cell_type": "code",
   "execution_count": 237,
   "metadata": {},
   "outputs": [
    {
     "data": {
      "text/plain": [
       "0.15202687461834516"
      ]
     },
     "execution_count": 237,
     "metadata": {},
     "output_type": "execute_result"
    },
    {
     "data": {
      "text/plain": [
       "0.5825170787926934"
      ]
     },
     "execution_count": 237,
     "metadata": {},
     "output_type": "execute_result"
    },
    {
     "data": {
      "text/plain": [
       "0.594342544791983"
      ]
     },
     "execution_count": 237,
     "metadata": {},
     "output_type": "execute_result"
    },
    {
     "data": {
      "text/plain": [
       "0.5762812498750973"
      ]
     },
     "execution_count": 237,
     "metadata": {},
     "output_type": "execute_result"
    }
   ],
   "source": [
    "vote_fit_cap_mean_cv_informedness\n",
    "vote_fit_cap_mean_cv_precision\n",
    "vote_fit_cap_mean_cv_recall\n",
    "vote_fit_cap_mean_cv_accuracy"
   ]
  },
  {
   "cell_type": "code",
   "execution_count": 233,
   "metadata": {},
   "outputs": [
    {
     "data": {
      "text/plain": [
       "0.16292336625230988"
      ]
     },
     "execution_count": 233,
     "metadata": {},
     "output_type": "execute_result"
    },
    {
     "data": {
      "text/plain": [
       "0.5956659711779386"
      ]
     },
     "execution_count": 233,
     "metadata": {},
     "output_type": "execute_result"
    },
    {
     "data": {
      "text/plain": [
       "0.5534213989270169"
      ]
     },
     "execution_count": 233,
     "metadata": {},
     "output_type": "execute_result"
    },
    {
     "data": {
      "text/plain": [
       "0.5810682249679914"
      ]
     },
     "execution_count": 233,
     "metadata": {},
     "output_type": "execute_result"
    }
   ],
   "source": [
    "vote_fit_cap_mean_cv_informedness\n",
    "vote_fit_cap_mean_cv_precision\n",
    "vote_fit_cap_mean_cv_recall\n",
    "vote_fit_cap_mean_cv_accuracy"
   ]
  },
  {
   "cell_type": "code",
   "execution_count": null,
   "metadata": {},
   "outputs": [],
   "source": []
  },
  {
   "cell_type": "code",
   "execution_count": 479,
   "metadata": {},
   "outputs": [],
   "source": [
    "%%capture\n",
    "optimal_vote_biz = VotingClassifier([('linear_svm', svm_linear_optimal_pipe_biz),\n",
    "                                     ('svm_rbf', svm_rbf_large_biz_pso_predictions),\n",
    "                  ('gb', optimal_gradient_pipe_biz), ('rf', optimal_forest_pipe_biz)])\n",
    "\n",
    "optimal_vote_fit_biz = optimal_vote_biz.fit(X_biz, y_biz)\n",
    "optimal_vote_fit_biz_predictions = optimal_vote_fit_biz.predict(X_test_biz)"
   ]
  },
  {
   "cell_type": "code",
   "execution_count": 480,
   "metadata": {},
   "outputs": [
    {
     "data": {
      "text/plain": [
       "array([[ 76, 315],\n",
       "       [ 67, 257]])"
      ]
     },
     "execution_count": 480,
     "metadata": {},
     "output_type": "execute_result"
    },
    {
     "data": {
      "text/plain": [
       "0.5314685314685315"
      ]
     },
     "execution_count": 480,
     "metadata": {},
     "output_type": "execute_result"
    },
    {
     "data": {
      "text/plain": [
       "0.17994416799595958"
      ]
     },
     "execution_count": 480,
     "metadata": {},
     "output_type": "execute_result"
    }
   ],
   "source": [
    "confusion_matrix(y_true=y_test_biz, y_pred=optimal_vote_fit_biz_predictions, labels=[1,-1])\n",
    "precision_score(y_true=y_test_biz, y_pred=optimal_vote_fit_biz_predictions, labels=[1,-1])\n",
    "\n",
    "optimal_vote_fit_pred_biz_series = pd.Series(optimal_vote_fit_biz_predictions)\n",
    "optimal_vote_fit_pred_biz_series.index = y_test_biz.index\n",
    "vote_stocks_biz = all_data_biz.ticker[y_test_biz.index]\n",
    "price_change_percent_biz = all_data_biz['price_change%'][y_test_biz.index]\n",
    "vote_predictions_tables_biz = pd.concat([vote_stocks_biz, y_test_biz, \n",
    "                                       optimal_vote_fit_pred_biz_series, price_change_percent_biz], axis=1)\n",
    "\n",
    "np.mean(vote_predictions_tables_biz[vote_predictions_tables_biz[0] == 1.0]['price_change%'])"
   ]
  },
  {
   "cell_type": "code",
   "execution_count": null,
   "metadata": {},
   "outputs": [],
   "source": []
  },
  {
   "cell_type": "code",
   "execution_count": 481,
   "metadata": {},
   "outputs": [],
   "source": [
    "%%capture\n",
    "optimal_vote_bank = VotingClassifier([('linear_svm', svm_linear_optimal_pipe_bank),\n",
    "                                     ('svm_rbf', svm_rbf_large_bank_pso_predictions),\n",
    "                  ('gb', optimal_gradient_pipe_bank), ('rf', optimal_forest_pipe_bank)])\n",
    "\n",
    "optimal_vote_fit_bank = optimal_vote_bank.fit(X_bank, y_bank)\n",
    "optimal_vote_fit_bank_predictions = optimal_vote_fit_bank.predict(X_test_bank)"
   ]
  },
  {
   "cell_type": "code",
   "execution_count": 482,
   "metadata": {},
   "outputs": [
    {
     "data": {
      "text/plain": [
       "array([[ 53,  94],\n",
       "       [112, 336]])"
      ]
     },
     "execution_count": 482,
     "metadata": {},
     "output_type": "execute_result"
    },
    {
     "data": {
      "text/plain": [
       "0.3212121212121212"
      ]
     },
     "execution_count": 482,
     "metadata": {},
     "output_type": "execute_result"
    },
    {
     "data": {
      "text/plain": [
       "0.023645410144221696"
      ]
     },
     "execution_count": 482,
     "metadata": {},
     "output_type": "execute_result"
    }
   ],
   "source": [
    "confusion_matrix(y_true=y_test_bank, y_pred=optimal_vote_fit_bank_predictions, labels=[1,-1])\n",
    "precision_score(y_true=y_test_bank, y_pred=optimal_vote_fit_bank_predictions, labels=[1,-1])\n",
    "\n",
    "optimal_vote_fit_pred_bank_series = pd.Series(optimal_vote_fit_bank_predictions)\n",
    "optimal_vote_fit_pred_bank_series.index = y_test_bank.index\n",
    "vote_stocks_bank = all_data_bank.ticker[y_test_bank.index]\n",
    "price_change_percent_bank = all_data_bank['price_change%'][y_test_bank.index]\n",
    "vote_predictions_tables_bank = pd.concat([vote_stocks_bank, y_test_bank, \n",
    "                                       optimal_vote_fit_pred_bank_series, price_change_percent_bank], axis=1)\n",
    "\n",
    "np.mean(vote_predictions_tables_bank[vote_predictions_tables_bank[0] == 1.0]['price_change%'])"
   ]
  },
  {
   "cell_type": "code",
   "execution_count": null,
   "metadata": {},
   "outputs": [],
   "source": []
  },
  {
   "cell_type": "code",
   "execution_count": 483,
   "metadata": {},
   "outputs": [],
   "source": [
    "%%capture\n",
    "optimal_vote_pharma = VotingClassifier([('linear_svm', svm_linear_optimal_pipe_pharma),\n",
    "                                     ('svm_rbf', svm_rbf_large_pharma_pso_predictions),\n",
    "                  ('gb', optimal_gradient_pipe_pharma)])\n",
    "\n",
    "optimal_vote_fit_pharma = optimal_vote_pharma.fit(X_pharma, y_pharma)\n",
    "optimal_vote_fit_pharma_predictions = optimal_vote_fit_pharma.predict(X_test_pharma)"
   ]
  },
  {
   "cell_type": "code",
   "execution_count": 484,
   "metadata": {},
   "outputs": [
    {
     "data": {
      "text/plain": [
       "array([[ 54, 134],\n",
       "       [ 69, 247]])"
      ]
     },
     "execution_count": 484,
     "metadata": {},
     "output_type": "execute_result"
    },
    {
     "data": {
      "text/plain": [
       "0.43902439024390244"
      ]
     },
     "execution_count": 484,
     "metadata": {},
     "output_type": "execute_result"
    },
    {
     "data": {
      "text/plain": [
       "0.20149852099429902"
      ]
     },
     "execution_count": 484,
     "metadata": {},
     "output_type": "execute_result"
    }
   ],
   "source": [
    "confusion_matrix(y_true=y_test_pharma, y_pred=optimal_vote_fit_pharma_predictions, labels=[1,-1])\n",
    "precision_score(y_true=y_test_pharma, y_pred=optimal_vote_fit_pharma_predictions, labels=[1,-1])\n",
    "\n",
    "optimal_vote_fit_pred_pharma_series = pd.Series(optimal_vote_fit_pharma_predictions)\n",
    "optimal_vote_fit_pred_pharma_series.index = y_test_pharma.index\n",
    "vote_stocks_pharma = all_data_pharma.ticker[y_test_pharma.index]\n",
    "price_change_percent_pharma = all_data_pharma['price_change%'][y_test_pharma.index]\n",
    "vote_predictions_tables_pharma = pd.concat([vote_stocks_pharma, y_test_pharma, \n",
    "                                       optimal_vote_fit_pred_pharma_series, price_change_percent_pharma], axis=1)\n",
    "\n",
    "np.mean(vote_predictions_tables_pharma[vote_predictions_tables_pharma[0] == 1.0]['price_change%'])"
   ]
  },
  {
   "cell_type": "code",
   "execution_count": null,
   "metadata": {},
   "outputs": [],
   "source": []
  },
  {
   "cell_type": "code",
   "execution_count": null,
   "metadata": {},
   "outputs": [],
   "source": [
    "0.164891469811814, 0.17994416799595958, 0.023645410144221696, 0.20149852099429902"
   ]
  },
  {
   "cell_type": "code",
   "execution_count": 720,
   "metadata": {},
   "outputs": [
    {
     "data": {
      "text/plain": [
       "Text(0.5, 0, 'Set')"
      ]
     },
     "execution_count": 720,
     "metadata": {},
     "output_type": "execute_result"
    },
    {
     "data": {
      "text/plain": [
       "Text(0, 0.5, 'Mean 1-Year Stock Return')"
      ]
     },
     "execution_count": 720,
     "metadata": {},
     "output_type": "execute_result"
    },
    {
     "data": {
      "text/plain": [
       "Text(0.5, 1.0, 'Mean 1-Year Stock Performance of Stocks Predicted Positive')"
      ]
     },
     "execution_count": 720,
     "metadata": {},
     "output_type": "execute_result"
    },
    {
     "data": {
      "image/png": "[encoded data removed]",
      "text/plain": [
       "<Figure size 864x432 with 1 Axes>"
      ]
     },
     "metadata": {
      "needs_background": "light"
     },
     "output_type": "display_data"
    }
   ],
   "source": [
    "df = pd.DataFrame([['Test Set','large-cap',0.09532785954115405],['Test Set','biz',0.22961784128330412],\n",
    "                   ['Test Set','bank', -0.01477205918332016],['Test Set', 'pharma', 0.10687630560082889],\n",
    "                   ['Gradient Boost','large-cap', 0.1397106470585063],\n",
    "                   ['Gradient Boost','biz',0.21174853929524376],['Gradient Boost','bank', 0.00859918574427903],\n",
    "                  ['Gradient Boost', 'pharma', 0.16318821373942946],\n",
    "                  ['Random Forest', 'large-cap', 0.1708978813079895], \n",
    "                   ['Random Forest', 'biz', 0.13864061257040855],\n",
    "                  ['Random Forest', 'bank', -0.0015149940554214719],\n",
    "                  ['Random Forest', 'pharma', 0.2031047372754275],\n",
    "                  ['Linear SVM', 'large-cap', 0.1425778139414511],\n",
    "                  ['Linear SVM', 'biz', 0.22733745755894447],\n",
    "                  ['Linear SVM', 'bank', 0.008496683626457037],\n",
    "                  ['Linear SVM', 'pharma', 0.18707448186853665],\n",
    "                  ['Radial Kernel SVM', 'large-cap', 0.12346932466742211],\n",
    "                  ['Radial Kernel SVM', 'biz', 0.22453463384424055],\n",
    "                  ['Radial Kernel SVM', 'bank', 0.018185087522641342],\n",
    "                  ['Radial Kernel SVM', 'pharma', 0.16582514638354262],\n",
    "                  ['Voting Classifier', 'large-cap', 0.164891469811814],\n",
    "                  ['Voting Classifier', 'biz', 0.17994416799595958],\n",
    "                  ['Voting Classifier', 'bank', 0.023645410144221696],\n",
    "                  ['Voting Classifier', 'pharma', 0.20149852099429902]],\n",
    "                  columns=['Model','Set','val'])\n",
    "\n",
    "ax = df.pivot(\"Set\", \"Model\", \"val\").plot(kind='bar', figsize=(12,6))\n",
    "\n",
    "plt.xlabel('Set')\n",
    "plt.ylabel('Mean 1-Year Stock Return')\n",
    "plt.title('Mean 1-Year Stock Performance of Stocks Predicted Positive')\n",
    "ax.grid(zorder=0)\n",
    "ax.set_axisbelow(True)\n",
    "\n",
    "plt.show()\n",
    "\n",
    "plt.savefig('return_results.pdf')"
   ]
  },
  {
   "cell_type": "markdown",
   "metadata": {},
   "source": [
    "# Constructing Portfolios"
   ]
  },
  {
   "cell_type": "code",
   "execution_count": 308,
   "metadata": {},
   "outputs": [],
   "source": [
    "import pandas_datareader as web\n",
    "from iex import reference"
   ]
  },
  {
   "cell_type": "code",
   "execution_count": 309,
   "metadata": {},
   "outputs": [],
   "source": [
    "iex_tickers = list(reference.symbols()['symbol'])"
   ]
  },
  {
   "cell_type": "code",
   "execution_count": 310,
   "metadata": {},
   "outputs": [],
   "source": [
    "tickers = list()\n",
    "for ticker in all_data_large_cap.ticker[X_test_large_cap.index]:\n",
    "    if ticker not in tickers and ticker in iex_tickers:\n",
    "        tickers.append(ticker)"
   ]
  },
  {
   "cell_type": "code",
   "execution_count": 641,
   "metadata": {},
   "outputs": [],
   "source": [
    "tickers_pharma = list()\n",
    "for ticker_p in all_data_pharma.ticker[X_test_pharma.index]:\n",
    "    if ticker_p not in tickers_pharma and ticker_p in iex_tickers:\n",
    "        tickers_pharma.append(ticker_p)"
   ]
  },
  {
   "cell_type": "code",
   "execution_count": 311,
   "metadata": {},
   "outputs": [],
   "source": [
    "start_date = all_data_large_cap.datekey[X_test_large_cap.index].min()\n",
    "end_date = all_data_large_cap.datekey[X_test_large_cap.index].max()"
   ]
  },
  {
   "cell_type": "code",
   "execution_count": 312,
   "metadata": {},
   "outputs": [],
   "source": [
    "large_cap_port_stocks = all_data_large_cap.loc[pd.Series(X_test_large_cap.index),]"
   ]
  },
  {
   "cell_type": "code",
   "execution_count": 642,
   "metadata": {},
   "outputs": [],
   "source": [
    "pharma_port_stocks = all_data_pharma.loc[pd.Series(X_test_pharma.index),]"
   ]
  },
  {
   "cell_type": "code",
   "execution_count": null,
   "metadata": {},
   "outputs": [],
   "source": [
    "portfolio_stock_data = {tick: web.DataReader(tick, 'iex', \n",
    "                                               large_cap_port_stocks[large_cap_port_stocks.ticker==tick].datekey.min(), \n",
    "                                               large_cap_port_stocks[large_cap_port_stocks.ticker==tick].datekey.max() + dt.timedelta(days=365)) for tick in tickers}"
   ]
  },
  {
   "cell_type": "code",
   "execution_count": null,
   "metadata": {},
   "outputs": [],
   "source": [
    "for tick in portfolio_stock_data:\n",
    "    portfolio_stock_data[tick].index = pd.to_datetime(portfolio_stock_data[tick].index)"
   ]
  },
  {
   "cell_type": "code",
   "execution_count": 307,
   "metadata": {},
   "outputs": [],
   "source": [
    "import bt"
   ]
  },
  {
   "cell_type": "code",
   "execution_count": 657,
   "metadata": {
    "scrolled": true
   },
   "outputs": [
    {
     "data": {
      "text/plain": [
       "Timestamp('2017-12-31 00:00:00')"
      ]
     },
     "execution_count": 657,
     "metadata": {},
     "output_type": "execute_result"
    }
   ],
   "source": [
    "vote_predictions_tables_pharma.datekey.max()"
   ]
  },
  {
   "cell_type": "code",
   "execution_count": 490,
   "metadata": {},
   "outputs": [],
   "source": [
    "vote_predictions_tables_cap['datekey'] = all_data_large_cap.loc[vote_predictions_tables_cap.index].datekey"
   ]
  },
  {
   "cell_type": "code",
   "execution_count": 643,
   "metadata": {},
   "outputs": [],
   "source": [
    "vote_predictions_tables_pharma['datekey'] = all_data_pharma.loc[vote_predictions_tables_pharma.index].datekey"
   ]
  },
  {
   "cell_type": "code",
   "execution_count": 644,
   "metadata": {},
   "outputs": [
    {
     "data": {
      "text/html": [
       "<div>\n",
       "<style scoped>\n",
       "    .dataframe tbody tr th:only-of-type {\n",
       "        vertical-align: middle;\n",
       "    }\n",
       "\n",
       "    .dataframe tbody tr th {\n",
       "        vertical-align: top;\n",
       "    }\n",
       "\n",
       "    .dataframe thead th {\n",
       "        text-align: right;\n",
       "    }\n",
       "</style>\n",
       "<table border=\"1\" class=\"dataframe\">\n",
       "  <thead>\n",
       "    <tr style=\"text-align: right;\">\n",
       "      <th></th>\n",
       "      <th>ticker</th>\n",
       "      <th>price_change</th>\n",
       "      <th>0</th>\n",
       "      <th>price_change%</th>\n",
       "      <th>datekey</th>\n",
       "    </tr>\n",
       "  </thead>\n",
       "  <tbody>\n",
       "    <tr>\n",
       "      <th>1</th>\n",
       "      <td>ZYME</td>\n",
       "      <td>1.0</td>\n",
       "      <td>-1.0</td>\n",
       "      <td>0.933360</td>\n",
       "      <td>2017-12-31</td>\n",
       "    </tr>\n",
       "    <tr>\n",
       "      <th>4</th>\n",
       "      <td>XNCR</td>\n",
       "      <td>1.0</td>\n",
       "      <td>-1.0</td>\n",
       "      <td>0.649635</td>\n",
       "      <td>2017-12-31</td>\n",
       "    </tr>\n",
       "    <tr>\n",
       "      <th>5</th>\n",
       "      <td>XNCR</td>\n",
       "      <td>-1.0</td>\n",
       "      <td>-1.0</td>\n",
       "      <td>-0.167173</td>\n",
       "      <td>2016-12-31</td>\n",
       "    </tr>\n",
       "    <tr>\n",
       "      <th>15</th>\n",
       "      <td>WVE</td>\n",
       "      <td>1.0</td>\n",
       "      <td>-1.0</td>\n",
       "      <td>0.197721</td>\n",
       "      <td>2017-12-31</td>\n",
       "    </tr>\n",
       "    <tr>\n",
       "      <th>16</th>\n",
       "      <td>WVE</td>\n",
       "      <td>1.0</td>\n",
       "      <td>-1.0</td>\n",
       "      <td>0.342256</td>\n",
       "      <td>2016-12-31</td>\n",
       "    </tr>\n",
       "  </tbody>\n",
       "</table>\n",
       "</div>"
      ],
      "text/plain": [
       "   ticker  price_change    0  price_change%    datekey\n",
       "1    ZYME           1.0 -1.0       0.933360 2017-12-31\n",
       "4    XNCR           1.0 -1.0       0.649635 2017-12-31\n",
       "5    XNCR          -1.0 -1.0      -0.167173 2016-12-31\n",
       "15    WVE           1.0 -1.0       0.197721 2017-12-31\n",
       "16    WVE           1.0 -1.0       0.342256 2016-12-31"
      ]
     },
     "execution_count": 644,
     "metadata": {},
     "output_type": "execute_result"
    }
   ],
   "source": [
    "vote_predictions_tables_pharma.head()"
   ]
  },
  {
   "cell_type": "code",
   "execution_count": 488,
   "metadata": {
    "scrolled": true
   },
   "outputs": [
    {
     "name": "stdout",
     "output_type": "stream",
     "text": [
      "BF.B\n",
      "RDS.A\n",
      "BRK.B\n"
     ]
    }
   ],
   "source": [
    "cap_stock_data = pd.DataFrame()\n",
    "for tick in tickers:\n",
    "    try:\n",
    "        cap_stock_data[tick] = bt.get(tick, start='2016-01-02', end='2019-02-03')[tick.lower()]\n",
    "    except:\n",
    "        print(tick)"
   ]
  },
  {
   "cell_type": "code",
   "execution_count": 689,
   "metadata": {},
   "outputs": [
    {
     "name": "stdout",
     "output_type": "stream",
     "text": [
      "TIF\n",
      "TER\n",
      "TECK\n",
      "TDC\n",
      "TD\n",
      "SYMC\n",
      "SWN\n",
      "SWKS\n",
      "SU\n",
      "STZ\n",
      "SSL\n",
      "SPWR\n",
      "SPGI\n",
      "SPG\n",
      "SNV\n",
      "SNPS\n",
      "SNA\n",
      "SLM\n",
      "SLF\n",
      "SKM\n",
      "SJM\n",
      "SIVB\n",
      "SIRI\n",
      "SIG\n",
      "SEE\n",
      "SCI\n",
      "SCCO\n",
      "RJF\n",
      "NTAP\n",
      "NGG\n",
      "MXIM\n",
      "BF.B\n",
      "RDS.A\n",
      "BRK.B\n"
     ]
    }
   ],
   "source": [
    "pharma_stock_data = pd.DataFrame()\n",
    "for tick in tickers_pharma:\n",
    "    try:\n",
    "        pharma_stock_data[tick] = bt.get(tick, start='2016-01-02', end='2018-12-31')[tick.lower()]\n",
    "    except:\n",
    "        print(tick)"
   ]
  },
  {
   "cell_type": "code",
   "execution_count": 610,
   "metadata": {},
   "outputs": [],
   "source": [
    "cap_indicator_mat = pd.DataFrame(np.zeros((len(cap_stock_data.index), len(cap_stock_data.columns))), \n",
    "                                 index=cap_stock_data.index, \n",
    "                                 columns=cap_stock_data.columns)"
   ]
  },
  {
   "cell_type": "code",
   "execution_count": 690,
   "metadata": {},
   "outputs": [],
   "source": [
    "pharma_indicator_mat = pd.DataFrame(np.zeros((len(pharma_stock_data.index), len(pharma_stock_data.columns))), \n",
    "                                 index=pharma_stock_data.index, \n",
    "                                 columns=pharma_stock_data.columns)"
   ]
  },
  {
   "cell_type": "code",
   "execution_count": 647,
   "metadata": {},
   "outputs": [
    {
     "data": {
      "text/plain": [
       "(777, 854)"
      ]
     },
     "execution_count": 647,
     "metadata": {},
     "output_type": "execute_result"
    }
   ],
   "source": [
    "pharma_indicator_mat.shape"
   ]
  },
  {
   "cell_type": "code",
   "execution_count": 613,
   "metadata": {},
   "outputs": [],
   "source": [
    "vote_predictions_tables_cap = vote_predictions_tables_cap[vote_predictions_tables_cap[0] == 1.0]"
   ]
  },
  {
   "cell_type": "code",
   "execution_count": 691,
   "metadata": {},
   "outputs": [],
   "source": [
    "vote_predictions_tables_pharma = vote_predictions_tables_pharma[vote_predictions_tables_pharma[0] == 1.0]"
   ]
  },
  {
   "cell_type": "code",
   "execution_count": 681,
   "metadata": {},
   "outputs": [
    {
     "data": {
      "text/plain": [
       "Timestamp('2016-01-02 00:00:00')"
      ]
     },
     "execution_count": 681,
     "metadata": {},
     "output_type": "execute_result"
    }
   ],
   "source": [
    "vote_predictions_tables_pharma.datekey.min()"
   ]
  },
  {
   "cell_type": "code",
   "execution_count": 564,
   "metadata": {},
   "outputs": [],
   "source": [
    "cap_pred_ticker_list = vote_predictions_tables_cap.ticker.unique()"
   ]
  },
  {
   "cell_type": "code",
   "execution_count": 692,
   "metadata": {},
   "outputs": [],
   "source": [
    "pharma_pred_ticker_list = vote_predictions_tables_pharma.ticker.unique()"
   ]
  },
  {
   "cell_type": "code",
   "execution_count": 671,
   "metadata": {},
   "outputs": [],
   "source": [
    "for ind in vote_predictions_tables_cap.index:\n",
    "    tick = vote_predictions_tables_cap.loc[ind, 'ticker']\n",
    "    if tick in cap_indicator_mat.columns:\n",
    "        date = vote_predictions_tables_cap.datekey[ind]\n",
    "        mask = (cap_indicator_mat.index >= date) & (cap_indicator_mat.index <= date + dt.timedelta(days=365))\n",
    "        cap_indicator_mat.loc[mask, tick] = 1\n",
    "    else: \n",
    "        try:\n",
    "            cap_stock_data = cap_stock_data.drop([tick])\n",
    "        except:\n",
    "            continue"
   ]
  },
  {
   "cell_type": "code",
   "execution_count": 672,
   "metadata": {},
   "outputs": [],
   "source": [
    "cap_stock_data_nona = cap_stock_data.fillna(cap_stock_data.mean())"
   ]
  },
  {
   "cell_type": "code",
   "execution_count": 688,
   "metadata": {},
   "outputs": [
    {
     "data": {
      "text/plain": [
       "False"
      ]
     },
     "execution_count": 688,
     "metadata": {},
     "output_type": "execute_result"
    }
   ],
   "source": [
    "'RDY' in pharma_stock_data.columns"
   ]
  },
  {
   "cell_type": "code",
   "execution_count": 693,
   "metadata": {},
   "outputs": [],
   "source": [
    "for ind in vote_predictions_tables_pharma.index:\n",
    "    tick = vote_predictions_tables_pharma.loc[ind, 'ticker']\n",
    "    if tick in pharma_indicator_mat.columns:\n",
    "        date = vote_predictions_tables_pharma.datekey[ind]\n",
    "        mask = (pharma_indicator_mat.index >= date) & (pharma_indicator_mat.index <= date + dt.timedelta(days=365))\n",
    "        pharma_indicator_mat.loc[mask, tick] = 1\n",
    "    else: \n",
    "        continue"
   ]
  },
  {
   "cell_type": "code",
   "execution_count": 694,
   "metadata": {},
   "outputs": [],
   "source": [
    "pharma_stock_data_nona = pharma_stock_data.fillna(pharma_stock_data.mean())"
   ]
  },
  {
   "cell_type": "code",
   "execution_count": 754,
   "metadata": {},
   "outputs": [
    {
     "name": "stdout",
     "output_type": "stream",
     "text": [
      "large-cap voting classifier portfolio\n",
      "0% [############################# ] 100% | ETA: 00:00:01"
     ]
    }
   ],
   "source": [
    "s_cap = bt.Strategy('large-cap voting classifier portfolio', [bt.algos.SelectWhere(cap_indicator_mat > 0),\n",
    "                               bt.algos.WeighEqually(),\n",
    "                               bt.algos.Rebalance()])\n",
    "\n",
    "# now we create the Backtest\n",
    "t = bt.Backtest(s_cap, cap_stock_data_nona)\n",
    "\n",
    "# and let's run it!\n",
    "res = bt.run(t)"
   ]
  },
  {
   "cell_type": "code",
   "execution_count": 755,
   "metadata": {},
   "outputs": [
    {
     "name": "stdout",
     "output_type": "stream",
     "text": [
      "pharma voting classifier portfolio\n",
      "0% [############################# ] 100% | ETA: 00:00:00"
     ]
    },
    {
     "name": "stderr",
     "output_type": "stream",
     "text": [
      "/Users/daniel/anaconda3/lib/python3.7/site-packages/ffn/core.py:2056: RuntimeWarning: divide by zero encountered in true_divide\n",
      "  res = np.divide(er.mean(), std)\n"
     ]
    }
   ],
   "source": [
    "s_pharma = bt.Strategy('pharma voting classifier portfolio', [bt.algos.SelectWhere(pharma_indicator_mat > 0),\n",
    "                               bt.algos.WeighEqually(),\n",
    "                               bt.algos.Rebalance()])\n",
    "\n",
    "# now we create the Backtest\n",
    "t_pharma = bt.Backtest(s_pharma, pharma_stock_data_nona)\n",
    "\n",
    "# and let's run it!\n",
    "res_pharma = bt.run(t_pharma)"
   ]
  },
  {
   "cell_type": "code",
   "execution_count": null,
   "metadata": {},
   "outputs": [],
   "source": []
  },
  {
   "cell_type": "code",
   "execution_count": 759,
   "metadata": {},
   "outputs": [
    {
     "data": {
      "text/plain": [
       "<matplotlib.axes._subplots.AxesSubplot at 0x1a266506d8>"
      ]
     },
     "execution_count": 759,
     "metadata": {},
     "output_type": "execute_result"
    },
    {
     "data": {
      "image/png": "[encoded data removed]",
      "text/plain": [
       "<Figure size 1080x360 with 1 Axes>"
      ]
     },
     "metadata": {
      "needs_background": "light"
     },
     "output_type": "display_data"
    }
   ],
   "source": [
    "res_pharma.plot()"
   ]
  },
  {
   "cell_type": "code",
   "execution_count": 760,
   "metadata": {},
   "outputs": [],
   "source": [
    "def long_only_ew(tickers, start='2017-01-01', end='2019-02-03', name='long_only_ew'):\n",
    "    s = bt.Strategy(name, [bt.algos.RunOnce(),\n",
    "                           bt.algos.SelectAll(),\n",
    "                           bt.algos.WeighEqually(),\n",
    "                           bt.algos.Rebalance()])\n",
    "    data = bt.get(tickers, start=start)\n",
    "    return bt.Backtest(s, data)\n",
    "\n",
    "benchmark = long_only_ew('spy', name='spy')"
   ]
  },
  {
   "cell_type": "code",
   "execution_count": 761,
   "metadata": {},
   "outputs": [
    {
     "name": "stdout",
     "output_type": "stream",
     "text": [
      "spy\n",
      "0% [############################# ] 100% | ETA: 00:00:00"
     ]
    }
   ],
   "source": [
    "res2 = bt.run(benchmark, t, t_pharma)"
   ]
  },
  {
   "cell_type": "code",
   "execution_count": 764,
   "metadata": {
    "scrolled": true
   },
   "outputs": [
    {
     "data": {
      "text/plain": [
       "<matplotlib.axes._subplots.AxesSubplot at 0x1a2da4d908>"
      ]
     },
     "execution_count": 764,
     "metadata": {},
     "output_type": "execute_result"
    },
    {
     "data": {
      "text/plain": [
       "Text(0, 0.5, '% Return')"
      ]
     },
     "execution_count": 764,
     "metadata": {},
     "output_type": "execute_result"
    },
    {
     "data": {
      "image/png": "[encoded data removed]",
      "text/plain": [
       "<Figure size 1080x360 with 1 Axes>"
      ]
     },
     "metadata": {
      "needs_background": "light"
     },
     "output_type": "display_data"
    }
   ],
   "source": [
    "res2.plot()\n",
    "plt.ylabel('% Return')\n",
    "plt.grid()\n",
    "\n",
    "plt.savefig('benchmark_returns.pdf')"
   ]
  },
  {
   "cell_type": "code",
   "execution_count": 752,
   "metadata": {},
   "outputs": [
    {
     "name": "stdout",
     "output_type": "stream",
     "text": [
      "Stat                 spy         large-cap voting classifier    pharma voting classifier\n",
      "-------------------  ----------  -----------------------------  --------------------------\n",
      "Start                2017-01-03  2017-01-03                     2017-01-03\n",
      "End                  2018-12-31  2018-12-31                     2018-12-31\n",
      "Risk-free rate       0.00%       0.00%                          0.00%\n",
      "\n",
      "Total Return         15.26%      20.48%                         22.14%\n",
      "Daily Sharpe         0.62        0.70                           0.61\n",
      "Daily Sortino        0.91        1.07                           0.95\n",
      "CAGR                 7.40%       9.81%                          10.57%\n",
      "Max Drawdown         -19.35%     -27.63%                        -24.40%\n",
      "Calmar Ratio         0.38        0.36                           0.43\n",
      "\n",
      "MTD                  -8.80%      -13.11%                        -10.81%\n",
      "3m                   -13.53%     -22.01%                        -18.47%\n",
      "6m                   -6.92%      -15.29%                        -11.38%\n",
      "YTD                  -4.57%      -6.14%                         1.11%\n",
      "1Y                   -4.57%      -6.14%                         1.11%\n",
      "3Y (ann.)            7.40%       9.81%                          10.57%\n",
      "5Y (ann.)            -           -                              -\n",
      "10Y (ann.)           -           -                              -\n",
      "Since Incep. (ann.)  7.40%       9.81%                          10.57%\n",
      "\n",
      "Daily Sharpe         0.62        0.70                           0.61\n",
      "Daily Sortino        0.91        1.07                           0.95\n",
      "Daily Mean (ann.)    7.99%       10.51%                         11.99%\n",
      "Daily Vol (ann.)     12.97%      15.04%                         19.63%\n",
      "Daily Skew           -0.60       -0.40                          -0.53\n",
      "Daily Kurt           6.67        4.93                           2.93\n",
      "Best Day             5.05%       5.87%                          5.10%\n",
      "Worst Day            -4.18%      -4.18%                         -6.09%\n",
      "\n",
      "Monthly Sharpe       0.65        0.62                           0.68\n",
      "Monthly Sortino      0.92        0.81                           1.07\n",
      "Monthly Mean (ann.)  7.56%       9.49%                          11.46%\n",
      "Monthly Vol (ann.)   11.59%      15.33%                         16.88%\n",
      "Monthly Skew         -1.52       -2.11                          -0.97\n",
      "Monthly Kurt         2.52        4.89                           1.03\n",
      "Best Month           5.64%       5.75%                          7.76%\n",
      "Worst Month          -8.80%      -13.11%                        -10.81%\n",
      "\n",
      "Yearly Sharpe        -           -                              -\n",
      "Yearly Sortino       -           -                              -\n",
      "Yearly Mean          -4.57%      -6.14%                         1.11%\n",
      "Yearly Vol           -           -                              -\n",
      "Yearly Skew          -           -                              -\n",
      "Yearly Kurt          -           -                              -\n",
      "Best Year            -4.57%      -6.14%                         1.11%\n",
      "Worst Year           -4.57%      -6.14%                         1.11%\n",
      "\n",
      "Avg. Drawdown        -1.17%      -1.65%                         -3.39%\n",
      "Avg. Drawdown Days   13.88       11.94                          19.62\n",
      "Avg. Up Month        1.93%       2.48%                          3.65%\n",
      "Avg. Down Month      -5.52%      -5.30%                         -4.10%\n",
      "Win Year %           0.00%       0.00%                          100.00%\n",
      "Win 12m %            92.31%      92.31%                         92.31%\n"
     ]
    }
   ],
   "source": [
    "res2.display()"
   ]
  },
  {
   "cell_type": "code",
   "execution_count": null,
   "metadata": {},
   "outputs": [],
   "source": []
  },
  {
   "cell_type": "code",
   "execution_count": null,
   "metadata": {},
   "outputs": [],
   "source": []
  },
  {
   "cell_type": "code",
   "execution_count": 306,
   "metadata": {},
   "outputs": [
    {
     "ename": "RecursionError",
     "evalue": "maximum recursion depth exceeded",
     "output_type": "error",
     "traceback": [
      "\u001b[0;31m---------------------------------------------------------------------------\u001b[0m",
      "\u001b[0;31mRecursionError\u001b[0m                            Traceback (most recent call last)",
      "\u001b[0;32m<ipython-input-306-755a8a0c60ab>\u001b[0m in \u001b[0;36m<module>\u001b[0;34m\u001b[0m\n\u001b[1;32m      1\u001b[0m \u001b[0;32mimport\u001b[0m \u001b[0mdill\u001b[0m\u001b[0;34m\u001b[0m\u001b[0;34m\u001b[0m\u001b[0m\n\u001b[0;32m----> 2\u001b[0;31m \u001b[0mdill\u001b[0m\u001b[0;34m.\u001b[0m\u001b[0mdump_session\u001b[0m\u001b[0;34m(\u001b[0m\u001b[0;34m'save_your_stuff_idiot.db'\u001b[0m\u001b[0;34m)\u001b[0m\u001b[0;34m\u001b[0m\u001b[0;34m\u001b[0m\u001b[0m\n\u001b[0m",
      "\u001b[0;32m~/anaconda3/lib/python3.7/site-packages/dill/_dill.py\u001b[0m in \u001b[0;36mdump_session\u001b[0;34m(filename, main, byref)\u001b[0m\n\u001b[1;32m    391\u001b[0m         \u001b[0mpickler\u001b[0m\u001b[0;34m.\u001b[0m\u001b[0m_recurse\u001b[0m \u001b[0;34m=\u001b[0m \u001b[0;32mFalse\u001b[0m \u001b[0;31m# disable pickling recursion for globals\u001b[0m\u001b[0;34m\u001b[0m\u001b[0;34m\u001b[0m\u001b[0m\n\u001b[1;32m    392\u001b[0m         \u001b[0mpickler\u001b[0m\u001b[0;34m.\u001b[0m\u001b[0m_session\u001b[0m \u001b[0;34m=\u001b[0m \u001b[0;32mTrue\u001b[0m  \u001b[0;31m# is best indicator of when pickling a session\u001b[0m\u001b[0;34m\u001b[0m\u001b[0;34m\u001b[0m\u001b[0m\n\u001b[0;32m--> 393\u001b[0;31m         \u001b[0mpickler\u001b[0m\u001b[0;34m.\u001b[0m\u001b[0mdump\u001b[0m\u001b[0;34m(\u001b[0m\u001b[0mmain\u001b[0m\u001b[0;34m)\u001b[0m\u001b[0;34m\u001b[0m\u001b[0;34m\u001b[0m\u001b[0m\n\u001b[0m\u001b[1;32m    394\u001b[0m     \u001b[0;32mfinally\u001b[0m\u001b[0;34m:\u001b[0m\u001b[0;34m\u001b[0m\u001b[0;34m\u001b[0m\u001b[0m\n\u001b[1;32m    395\u001b[0m         \u001b[0;32mif\u001b[0m \u001b[0mf\u001b[0m \u001b[0;32mis\u001b[0m \u001b[0;32mnot\u001b[0m \u001b[0mfilename\u001b[0m\u001b[0;34m:\u001b[0m  \u001b[0;31m# If newly opened file\u001b[0m\u001b[0;34m\u001b[0m\u001b[0;34m\u001b[0m\u001b[0m\n",
      "\u001b[0;32m~/anaconda3/lib/python3.7/pickle.py\u001b[0m in \u001b[0;36mdump\u001b[0;34m(self, obj)\u001b[0m\n\u001b[1;32m    435\u001b[0m         \u001b[0;32mif\u001b[0m \u001b[0mself\u001b[0m\u001b[0;34m.\u001b[0m\u001b[0mproto\u001b[0m \u001b[0;34m>=\u001b[0m \u001b[0;36m4\u001b[0m\u001b[0;34m:\u001b[0m\u001b[0;34m\u001b[0m\u001b[0;34m\u001b[0m\u001b[0m\n\u001b[1;32m    436\u001b[0m             \u001b[0mself\u001b[0m\u001b[0;34m.\u001b[0m\u001b[0mframer\u001b[0m\u001b[0;34m.\u001b[0m\u001b[0mstart_framing\u001b[0m\u001b[0;34m(\u001b[0m\u001b[0;34m)\u001b[0m\u001b[0;34m\u001b[0m\u001b[0;34m\u001b[0m\u001b[0m\n\u001b[0;32m--> 437\u001b[0;31m         \u001b[0mself\u001b[0m\u001b[0;34m.\u001b[0m\u001b[0msave\u001b[0m\u001b[0;34m(\u001b[0m\u001b[0mobj\u001b[0m\u001b[0;34m)\u001b[0m\u001b[0;34m\u001b[0m\u001b[0;34m\u001b[0m\u001b[0m\n\u001b[0m\u001b[1;32m    438\u001b[0m         \u001b[0mself\u001b[0m\u001b[0;34m.\u001b[0m\u001b[0mwrite\u001b[0m\u001b[0;34m(\u001b[0m\u001b[0mSTOP\u001b[0m\u001b[0;34m)\u001b[0m\u001b[0;34m\u001b[0m\u001b[0;34m\u001b[0m\u001b[0m\n\u001b[1;32m    439\u001b[0m         \u001b[0mself\u001b[0m\u001b[0;34m.\u001b[0m\u001b[0mframer\u001b[0m\u001b[0;34m.\u001b[0m\u001b[0mend_framing\u001b[0m\u001b[0;34m(\u001b[0m\u001b[0;34m)\u001b[0m\u001b[0;34m\u001b[0m\u001b[0;34m\u001b[0m\u001b[0m\n",
      "\u001b[0;32m~/anaconda3/lib/python3.7/pickle.py\u001b[0m in \u001b[0;36msave\u001b[0;34m(self, obj, save_persistent_id)\u001b[0m\n\u001b[1;32m    502\u001b[0m         \u001b[0mf\u001b[0m \u001b[0;34m=\u001b[0m \u001b[0mself\u001b[0m\u001b[0;34m.\u001b[0m\u001b[0mdispatch\u001b[0m\u001b[0;34m.\u001b[0m\u001b[0mget\u001b[0m\u001b[0;34m(\u001b[0m\u001b[0mt\u001b[0m\u001b[0;34m)\u001b[0m\u001b[0;34m\u001b[0m\u001b[0;34m\u001b[0m\u001b[0m\n\u001b[1;32m    503\u001b[0m         \u001b[0;32mif\u001b[0m \u001b[0mf\u001b[0m \u001b[0;32mis\u001b[0m \u001b[0;32mnot\u001b[0m \u001b[0;32mNone\u001b[0m\u001b[0;34m:\u001b[0m\u001b[0;34m\u001b[0m\u001b[0;34m\u001b[0m\u001b[0m\n\u001b[0;32m--> 504\u001b[0;31m             \u001b[0mf\u001b[0m\u001b[0;34m(\u001b[0m\u001b[0mself\u001b[0m\u001b[0;34m,\u001b[0m \u001b[0mobj\u001b[0m\u001b[0;34m)\u001b[0m \u001b[0;31m# Call unbound method with explicit self\u001b[0m\u001b[0;34m\u001b[0m\u001b[0;34m\u001b[0m\u001b[0m\n\u001b[0m\u001b[1;32m    505\u001b[0m             \u001b[0;32mreturn\u001b[0m\u001b[0;34m\u001b[0m\u001b[0;34m\u001b[0m\u001b[0m\n\u001b[1;32m    506\u001b[0m \u001b[0;34m\u001b[0m\u001b[0m\n",
      "\u001b[0;32m~/anaconda3/lib/python3.7/site-packages/dill/_dill.py\u001b[0m in \u001b[0;36msave_module\u001b[0;34m(pickler, obj)\u001b[0m\n\u001b[1;32m   1267\u001b[0m                 + [\"__builtins__\", \"__loader__\"]]\n\u001b[1;32m   1268\u001b[0m             pickler.save_reduce(_import_module, (obj.__name__,), obj=obj,\n\u001b[0;32m-> 1269\u001b[0;31m                                 state=_main_dict)\n\u001b[0m\u001b[1;32m   1270\u001b[0m             \u001b[0mlog\u001b[0m\u001b[0;34m.\u001b[0m\u001b[0minfo\u001b[0m\u001b[0;34m(\u001b[0m\u001b[0;34m\"# M1\"\u001b[0m\u001b[0;34m)\u001b[0m\u001b[0;34m\u001b[0m\u001b[0;34m\u001b[0m\u001b[0m\n\u001b[1;32m   1271\u001b[0m         \u001b[0;32melse\u001b[0m\u001b[0;34m:\u001b[0m\u001b[0;34m\u001b[0m\u001b[0;34m\u001b[0m\u001b[0m\n",
      "\u001b[0;32m~/anaconda3/lib/python3.7/pickle.py\u001b[0m in \u001b[0;36msave_reduce\u001b[0;34m(self, func, args, state, listitems, dictitems, obj)\u001b[0m\n\u001b[1;32m    660\u001b[0m \u001b[0;34m\u001b[0m\u001b[0m\n\u001b[1;32m    661\u001b[0m         \u001b[0;32mif\u001b[0m \u001b[0mstate\u001b[0m \u001b[0;32mis\u001b[0m \u001b[0;32mnot\u001b[0m \u001b[0;32mNone\u001b[0m\u001b[0;34m:\u001b[0m\u001b[0;34m\u001b[0m\u001b[0;34m\u001b[0m\u001b[0m\n\u001b[0;32m--> 662\u001b[0;31m             \u001b[0msave\u001b[0m\u001b[0;34m(\u001b[0m\u001b[0mstate\u001b[0m\u001b[0;34m)\u001b[0m\u001b[0;34m\u001b[0m\u001b[0;34m\u001b[0m\u001b[0m\n\u001b[0m\u001b[1;32m    663\u001b[0m             \u001b[0mwrite\u001b[0m\u001b[0;34m(\u001b[0m\u001b[0mBUILD\u001b[0m\u001b[0;34m)\u001b[0m\u001b[0;34m\u001b[0m\u001b[0;34m\u001b[0m\u001b[0m\n\u001b[1;32m    664\u001b[0m \u001b[0;34m\u001b[0m\u001b[0m\n",
      "\u001b[0;32m~/anaconda3/lib/python3.7/pickle.py\u001b[0m in \u001b[0;36msave\u001b[0;34m(self, obj, save_persistent_id)\u001b[0m\n\u001b[1;32m    502\u001b[0m         \u001b[0mf\u001b[0m \u001b[0;34m=\u001b[0m \u001b[0mself\u001b[0m\u001b[0;34m.\u001b[0m\u001b[0mdispatch\u001b[0m\u001b[0;34m.\u001b[0m\u001b[0mget\u001b[0m\u001b[0;34m(\u001b[0m\u001b[0mt\u001b[0m\u001b[0;34m)\u001b[0m\u001b[0;34m\u001b[0m\u001b[0;34m\u001b[0m\u001b[0m\n\u001b[1;32m    503\u001b[0m         \u001b[0;32mif\u001b[0m \u001b[0mf\u001b[0m \u001b[0;32mis\u001b[0m \u001b[0;32mnot\u001b[0m \u001b[0;32mNone\u001b[0m\u001b[0;34m:\u001b[0m\u001b[0;34m\u001b[0m\u001b[0;34m\u001b[0m\u001b[0m\n\u001b[0;32m--> 504\u001b[0;31m             \u001b[0mf\u001b[0m\u001b[0;34m(\u001b[0m\u001b[0mself\u001b[0m\u001b[0;34m,\u001b[0m \u001b[0mobj\u001b[0m\u001b[0;34m)\u001b[0m \u001b[0;31m# Call unbound method with explicit self\u001b[0m\u001b[0;34m\u001b[0m\u001b[0;34m\u001b[0m\u001b[0m\n\u001b[0m\u001b[1;32m    505\u001b[0m             \u001b[0;32mreturn\u001b[0m\u001b[0;34m\u001b[0m\u001b[0;34m\u001b[0m\u001b[0m\n\u001b[1;32m    506\u001b[0m \u001b[0;34m\u001b[0m\u001b[0m\n",
      "\u001b[0;32m~/anaconda3/lib/python3.7/site-packages/dill/_dill.py\u001b[0m in \u001b[0;36msave_module_dict\u001b[0;34m(pickler, obj)\u001b[0m\n\u001b[1;32m    900\u001b[0m             \u001b[0;31m# we only care about session the first pass thru\u001b[0m\u001b[0;34m\u001b[0m\u001b[0;34m\u001b[0m\u001b[0;34m\u001b[0m\u001b[0m\n\u001b[1;32m    901\u001b[0m             \u001b[0mpickler\u001b[0m\u001b[0;34m.\u001b[0m\u001b[0m_session\u001b[0m \u001b[0;34m=\u001b[0m \u001b[0;32mFalse\u001b[0m\u001b[0;34m\u001b[0m\u001b[0;34m\u001b[0m\u001b[0m\n\u001b[0;32m--> 902\u001b[0;31m         \u001b[0mStockPickler\u001b[0m\u001b[0;34m.\u001b[0m\u001b[0msave_dict\u001b[0m\u001b[0;34m(\u001b[0m\u001b[0mpickler\u001b[0m\u001b[0;34m,\u001b[0m \u001b[0mobj\u001b[0m\u001b[0;34m)\u001b[0m\u001b[0;34m\u001b[0m\u001b[0;34m\u001b[0m\u001b[0m\n\u001b[0m\u001b[1;32m    903\u001b[0m         \u001b[0mlog\u001b[0m\u001b[0;34m.\u001b[0m\u001b[0minfo\u001b[0m\u001b[0;34m(\u001b[0m\u001b[0;34m\"# D2\"\u001b[0m\u001b[0;34m)\u001b[0m\u001b[0;34m\u001b[0m\u001b[0;34m\u001b[0m\u001b[0m\n\u001b[1;32m    904\u001b[0m     \u001b[0;32mreturn\u001b[0m\u001b[0;34m\u001b[0m\u001b[0;34m\u001b[0m\u001b[0m\n",
      "\u001b[0;32m~/anaconda3/lib/python3.7/pickle.py\u001b[0m in \u001b[0;36msave_dict\u001b[0;34m(self, obj)\u001b[0m\n\u001b[1;32m    854\u001b[0m \u001b[0;34m\u001b[0m\u001b[0m\n\u001b[1;32m    855\u001b[0m         \u001b[0mself\u001b[0m\u001b[0;34m.\u001b[0m\u001b[0mmemoize\u001b[0m\u001b[0;34m(\u001b[0m\u001b[0mobj\u001b[0m\u001b[0;34m)\u001b[0m\u001b[0;34m\u001b[0m\u001b[0;34m\u001b[0m\u001b[0m\n\u001b[0;32m--> 856\u001b[0;31m         \u001b[0mself\u001b[0m\u001b[0;34m.\u001b[0m\u001b[0m_batch_setitems\u001b[0m\u001b[0;34m(\u001b[0m\u001b[0mobj\u001b[0m\u001b[0;34m.\u001b[0m\u001b[0mitems\u001b[0m\u001b[0;34m(\u001b[0m\u001b[0;34m)\u001b[0m\u001b[0;34m)\u001b[0m\u001b[0;34m\u001b[0m\u001b[0;34m\u001b[0m\u001b[0m\n\u001b[0m\u001b[1;32m    857\u001b[0m \u001b[0;34m\u001b[0m\u001b[0m\n\u001b[1;32m    858\u001b[0m     \u001b[0mdispatch\u001b[0m\u001b[0;34m[\u001b[0m\u001b[0mdict\u001b[0m\u001b[0;34m]\u001b[0m \u001b[0;34m=\u001b[0m \u001b[0msave_dict\u001b[0m\u001b[0;34m\u001b[0m\u001b[0;34m\u001b[0m\u001b[0m\n",
      "\u001b[0;32m~/anaconda3/lib/python3.7/pickle.py\u001b[0m in \u001b[0;36m_batch_setitems\u001b[0;34m(self, items)\u001b[0m\n\u001b[1;32m    880\u001b[0m                 \u001b[0;32mfor\u001b[0m \u001b[0mk\u001b[0m\u001b[0;34m,\u001b[0m \u001b[0mv\u001b[0m \u001b[0;32min\u001b[0m \u001b[0mtmp\u001b[0m\u001b[0;34m:\u001b[0m\u001b[0;34m\u001b[0m\u001b[0;34m\u001b[0m\u001b[0m\n\u001b[1;32m    881\u001b[0m                     \u001b[0msave\u001b[0m\u001b[0;34m(\u001b[0m\u001b[0mk\u001b[0m\u001b[0;34m)\u001b[0m\u001b[0;34m\u001b[0m\u001b[0;34m\u001b[0m\u001b[0m\n\u001b[0;32m--> 882\u001b[0;31m                     \u001b[0msave\u001b[0m\u001b[0;34m(\u001b[0m\u001b[0mv\u001b[0m\u001b[0;34m)\u001b[0m\u001b[0;34m\u001b[0m\u001b[0;34m\u001b[0m\u001b[0m\n\u001b[0m\u001b[1;32m    883\u001b[0m                 \u001b[0mwrite\u001b[0m\u001b[0;34m(\u001b[0m\u001b[0mSETITEMS\u001b[0m\u001b[0;34m)\u001b[0m\u001b[0;34m\u001b[0m\u001b[0;34m\u001b[0m\u001b[0m\n\u001b[1;32m    884\u001b[0m             \u001b[0;32melif\u001b[0m \u001b[0mn\u001b[0m\u001b[0;34m:\u001b[0m\u001b[0;34m\u001b[0m\u001b[0;34m\u001b[0m\u001b[0m\n",
      "\u001b[0;32m~/anaconda3/lib/python3.7/pickle.py\u001b[0m in \u001b[0;36msave\u001b[0;34m(self, obj, save_persistent_id)\u001b[0m\n\u001b[1;32m    502\u001b[0m         \u001b[0mf\u001b[0m \u001b[0;34m=\u001b[0m \u001b[0mself\u001b[0m\u001b[0;34m.\u001b[0m\u001b[0mdispatch\u001b[0m\u001b[0;34m.\u001b[0m\u001b[0mget\u001b[0m\u001b[0;34m(\u001b[0m\u001b[0mt\u001b[0m\u001b[0;34m)\u001b[0m\u001b[0;34m\u001b[0m\u001b[0;34m\u001b[0m\u001b[0m\n\u001b[1;32m    503\u001b[0m         \u001b[0;32mif\u001b[0m \u001b[0mf\u001b[0m \u001b[0;32mis\u001b[0m \u001b[0;32mnot\u001b[0m \u001b[0;32mNone\u001b[0m\u001b[0;34m:\u001b[0m\u001b[0;34m\u001b[0m\u001b[0;34m\u001b[0m\u001b[0m\n\u001b[0;32m--> 504\u001b[0;31m             \u001b[0mf\u001b[0m\u001b[0;34m(\u001b[0m\u001b[0mself\u001b[0m\u001b[0;34m,\u001b[0m \u001b[0mobj\u001b[0m\u001b[0;34m)\u001b[0m \u001b[0;31m# Call unbound method with explicit self\u001b[0m\u001b[0;34m\u001b[0m\u001b[0;34m\u001b[0m\u001b[0m\n\u001b[0m\u001b[1;32m    505\u001b[0m             \u001b[0;32mreturn\u001b[0m\u001b[0;34m\u001b[0m\u001b[0;34m\u001b[0m\u001b[0m\n\u001b[1;32m    506\u001b[0m \u001b[0;34m\u001b[0m\u001b[0m\n",
      "\u001b[0;32m~/anaconda3/lib/python3.7/site-packages/dill/_dill.py\u001b[0m in \u001b[0;36msave_function\u001b[0;34m(pickler, obj)\u001b[0m\n\u001b[1;32m   1384\u001b[0m                                 \u001b[0mglobs\u001b[0m\u001b[0;34m,\u001b[0m \u001b[0mobj\u001b[0m\u001b[0;34m.\u001b[0m\u001b[0m__name__\u001b[0m\u001b[0;34m,\u001b[0m\u001b[0;34m\u001b[0m\u001b[0;34m\u001b[0m\u001b[0m\n\u001b[1;32m   1385\u001b[0m                                 \u001b[0mobj\u001b[0m\u001b[0;34m.\u001b[0m\u001b[0m__defaults__\u001b[0m\u001b[0;34m,\u001b[0m \u001b[0mobj\u001b[0m\u001b[0;34m.\u001b[0m\u001b[0m__closure__\u001b[0m\u001b[0;34m,\u001b[0m\u001b[0;34m\u001b[0m\u001b[0;34m\u001b[0m\u001b[0m\n\u001b[0;32m-> 1386\u001b[0;31m                                 obj.__dict__), obj=obj)\n\u001b[0m\u001b[1;32m   1387\u001b[0m         \u001b[0;32melse\u001b[0m\u001b[0;34m:\u001b[0m\u001b[0;34m\u001b[0m\u001b[0;34m\u001b[0m\u001b[0m\n\u001b[1;32m   1388\u001b[0m             \u001b[0m_super\u001b[0m \u001b[0;34m=\u001b[0m \u001b[0;34m(\u001b[0m\u001b[0;34m'super'\u001b[0m \u001b[0;32min\u001b[0m \u001b[0mgetattr\u001b[0m\u001b[0;34m(\u001b[0m\u001b[0mobj\u001b[0m\u001b[0;34m.\u001b[0m\u001b[0mfunc_code\u001b[0m\u001b[0;34m,\u001b[0m\u001b[0;34m'co_names'\u001b[0m\u001b[0;34m,\u001b[0m\u001b[0;34m(\u001b[0m\u001b[0;34m)\u001b[0m\u001b[0;34m)\u001b[0m\u001b[0;34m)\u001b[0m \u001b[0;32mand\u001b[0m \u001b[0;34m(\u001b[0m\u001b[0m_byref\u001b[0m \u001b[0;32mis\u001b[0m \u001b[0;32mnot\u001b[0m \u001b[0;32mNone\u001b[0m\u001b[0;34m)\u001b[0m \u001b[0;32mand\u001b[0m \u001b[0mgetattr\u001b[0m\u001b[0;34m(\u001b[0m\u001b[0mpickler\u001b[0m\u001b[0;34m,\u001b[0m \u001b[0;34m'_recurse'\u001b[0m\u001b[0;34m,\u001b[0m \u001b[0;32mFalse\u001b[0m\u001b[0;34m)\u001b[0m\u001b[0;34m\u001b[0m\u001b[0;34m\u001b[0m\u001b[0m\n",
      "\u001b[0;32m~/anaconda3/lib/python3.7/pickle.py\u001b[0m in \u001b[0;36msave_reduce\u001b[0;34m(self, func, args, state, listitems, dictitems, obj)\u001b[0m\n\u001b[1;32m    636\u001b[0m         \u001b[0;32melse\u001b[0m\u001b[0;34m:\u001b[0m\u001b[0;34m\u001b[0m\u001b[0;34m\u001b[0m\u001b[0m\n\u001b[1;32m    637\u001b[0m             \u001b[0msave\u001b[0m\u001b[0;34m(\u001b[0m\u001b[0mfunc\u001b[0m\u001b[0;34m)\u001b[0m\u001b[0;34m\u001b[0m\u001b[0;34m\u001b[0m\u001b[0m\n\u001b[0;32m--> 638\u001b[0;31m             \u001b[0msave\u001b[0m\u001b[0;34m(\u001b[0m\u001b[0margs\u001b[0m\u001b[0;34m)\u001b[0m\u001b[0;34m\u001b[0m\u001b[0;34m\u001b[0m\u001b[0m\n\u001b[0m\u001b[1;32m    639\u001b[0m             \u001b[0mwrite\u001b[0m\u001b[0;34m(\u001b[0m\u001b[0mREDUCE\u001b[0m\u001b[0;34m)\u001b[0m\u001b[0;34m\u001b[0m\u001b[0;34m\u001b[0m\u001b[0m\n\u001b[1;32m    640\u001b[0m \u001b[0;34m\u001b[0m\u001b[0m\n",
      "\u001b[0;32m~/anaconda3/lib/python3.7/pickle.py\u001b[0m in \u001b[0;36msave\u001b[0;34m(self, obj, save_persistent_id)\u001b[0m\n\u001b[1;32m    502\u001b[0m         \u001b[0mf\u001b[0m \u001b[0;34m=\u001b[0m \u001b[0mself\u001b[0m\u001b[0;34m.\u001b[0m\u001b[0mdispatch\u001b[0m\u001b[0;34m.\u001b[0m\u001b[0mget\u001b[0m\u001b[0;34m(\u001b[0m\u001b[0mt\u001b[0m\u001b[0;34m)\u001b[0m\u001b[0;34m\u001b[0m\u001b[0;34m\u001b[0m\u001b[0m\n\u001b[1;32m    503\u001b[0m         \u001b[0;32mif\u001b[0m \u001b[0mf\u001b[0m \u001b[0;32mis\u001b[0m \u001b[0;32mnot\u001b[0m \u001b[0;32mNone\u001b[0m\u001b[0;34m:\u001b[0m\u001b[0;34m\u001b[0m\u001b[0;34m\u001b[0m\u001b[0m\n\u001b[0;32m--> 504\u001b[0;31m             \u001b[0mf\u001b[0m\u001b[0;34m(\u001b[0m\u001b[0mself\u001b[0m\u001b[0;34m,\u001b[0m \u001b[0mobj\u001b[0m\u001b[0;34m)\u001b[0m \u001b[0;31m# Call unbound method with explicit self\u001b[0m\u001b[0;34m\u001b[0m\u001b[0;34m\u001b[0m\u001b[0m\n\u001b[0m\u001b[1;32m    505\u001b[0m             \u001b[0;32mreturn\u001b[0m\u001b[0;34m\u001b[0m\u001b[0;34m\u001b[0m\u001b[0m\n\u001b[1;32m    506\u001b[0m \u001b[0;34m\u001b[0m\u001b[0m\n",
      "\u001b[0;32m~/anaconda3/lib/python3.7/pickle.py\u001b[0m in \u001b[0;36msave_tuple\u001b[0;34m(self, obj)\u001b[0m\n\u001b[1;32m    784\u001b[0m         \u001b[0mwrite\u001b[0m\u001b[0;34m(\u001b[0m\u001b[0mMARK\u001b[0m\u001b[0;34m)\u001b[0m\u001b[0;34m\u001b[0m\u001b[0;34m\u001b[0m\u001b[0m\n\u001b[1;32m    785\u001b[0m         \u001b[0;32mfor\u001b[0m \u001b[0melement\u001b[0m \u001b[0;32min\u001b[0m \u001b[0mobj\u001b[0m\u001b[0;34m:\u001b[0m\u001b[0;34m\u001b[0m\u001b[0;34m\u001b[0m\u001b[0m\n\u001b[0;32m--> 786\u001b[0;31m             \u001b[0msave\u001b[0m\u001b[0;34m(\u001b[0m\u001b[0melement\u001b[0m\u001b[0;34m)\u001b[0m\u001b[0;34m\u001b[0m\u001b[0;34m\u001b[0m\u001b[0m\n\u001b[0m\u001b[1;32m    787\u001b[0m \u001b[0;34m\u001b[0m\u001b[0m\n\u001b[1;32m    788\u001b[0m         \u001b[0;32mif\u001b[0m \u001b[0mid\u001b[0m\u001b[0;34m(\u001b[0m\u001b[0mobj\u001b[0m\u001b[0;34m)\u001b[0m \u001b[0;32min\u001b[0m \u001b[0mmemo\u001b[0m\u001b[0;34m:\u001b[0m\u001b[0;34m\u001b[0m\u001b[0;34m\u001b[0m\u001b[0m\n",
      "\u001b[0;32m~/anaconda3/lib/python3.7/pickle.py\u001b[0m in \u001b[0;36msave\u001b[0;34m(self, obj, save_persistent_id)\u001b[0m\n\u001b[1;32m    502\u001b[0m         \u001b[0mf\u001b[0m \u001b[0;34m=\u001b[0m \u001b[0mself\u001b[0m\u001b[0;34m.\u001b[0m\u001b[0mdispatch\u001b[0m\u001b[0;34m.\u001b[0m\u001b[0mget\u001b[0m\u001b[0;34m(\u001b[0m\u001b[0mt\u001b[0m\u001b[0;34m)\u001b[0m\u001b[0;34m\u001b[0m\u001b[0;34m\u001b[0m\u001b[0m\n\u001b[1;32m    503\u001b[0m         \u001b[0;32mif\u001b[0m \u001b[0mf\u001b[0m \u001b[0;32mis\u001b[0m \u001b[0;32mnot\u001b[0m \u001b[0;32mNone\u001b[0m\u001b[0;34m:\u001b[0m\u001b[0;34m\u001b[0m\u001b[0;34m\u001b[0m\u001b[0m\n\u001b[0;32m--> 504\u001b[0;31m             \u001b[0mf\u001b[0m\u001b[0;34m(\u001b[0m\u001b[0mself\u001b[0m\u001b[0;34m,\u001b[0m \u001b[0mobj\u001b[0m\u001b[0;34m)\u001b[0m \u001b[0;31m# Call unbound method with explicit self\u001b[0m\u001b[0;34m\u001b[0m\u001b[0;34m\u001b[0m\u001b[0m\n\u001b[0m\u001b[1;32m    505\u001b[0m             \u001b[0;32mreturn\u001b[0m\u001b[0;34m\u001b[0m\u001b[0;34m\u001b[0m\u001b[0m\n\u001b[1;32m    506\u001b[0m \u001b[0;34m\u001b[0m\u001b[0m\n",
      "\u001b[0;32m~/anaconda3/lib/python3.7/pickle.py\u001b[0m in \u001b[0;36msave_tuple\u001b[0;34m(self, obj)\u001b[0m\n\u001b[1;32m    769\u001b[0m         \u001b[0;32mif\u001b[0m \u001b[0mn\u001b[0m \u001b[0;34m<=\u001b[0m \u001b[0;36m3\u001b[0m \u001b[0;32mand\u001b[0m \u001b[0mself\u001b[0m\u001b[0;34m.\u001b[0m\u001b[0mproto\u001b[0m \u001b[0;34m>=\u001b[0m \u001b[0;36m2\u001b[0m\u001b[0;34m:\u001b[0m\u001b[0;34m\u001b[0m\u001b[0;34m\u001b[0m\u001b[0m\n\u001b[1;32m    770\u001b[0m             \u001b[0;32mfor\u001b[0m \u001b[0melement\u001b[0m \u001b[0;32min\u001b[0m \u001b[0mobj\u001b[0m\u001b[0;34m:\u001b[0m\u001b[0;34m\u001b[0m\u001b[0;34m\u001b[0m\u001b[0m\n\u001b[0;32m--> 771\u001b[0;31m                 \u001b[0msave\u001b[0m\u001b[0;34m(\u001b[0m\u001b[0melement\u001b[0m\u001b[0;34m)\u001b[0m\u001b[0;34m\u001b[0m\u001b[0;34m\u001b[0m\u001b[0m\n\u001b[0m\u001b[1;32m    772\u001b[0m             \u001b[0;31m# Subtle.  Same as in the big comment below.\u001b[0m\u001b[0;34m\u001b[0m\u001b[0;34m\u001b[0m\u001b[0;34m\u001b[0m\u001b[0m\n\u001b[1;32m    773\u001b[0m             \u001b[0;32mif\u001b[0m \u001b[0mid\u001b[0m\u001b[0;34m(\u001b[0m\u001b[0mobj\u001b[0m\u001b[0;34m)\u001b[0m \u001b[0;32min\u001b[0m \u001b[0mmemo\u001b[0m\u001b[0;34m:\u001b[0m\u001b[0;34m\u001b[0m\u001b[0;34m\u001b[0m\u001b[0m\n",
      "\u001b[0;32m~/anaconda3/lib/python3.7/pickle.py\u001b[0m in \u001b[0;36msave\u001b[0;34m(self, obj, save_persistent_id)\u001b[0m\n\u001b[1;32m    502\u001b[0m         \u001b[0mf\u001b[0m \u001b[0;34m=\u001b[0m \u001b[0mself\u001b[0m\u001b[0;34m.\u001b[0m\u001b[0mdispatch\u001b[0m\u001b[0;34m.\u001b[0m\u001b[0mget\u001b[0m\u001b[0;34m(\u001b[0m\u001b[0mt\u001b[0m\u001b[0;34m)\u001b[0m\u001b[0;34m\u001b[0m\u001b[0;34m\u001b[0m\u001b[0m\n\u001b[1;32m    503\u001b[0m         \u001b[0;32mif\u001b[0m \u001b[0mf\u001b[0m \u001b[0;32mis\u001b[0m \u001b[0;32mnot\u001b[0m \u001b[0;32mNone\u001b[0m\u001b[0;34m:\u001b[0m\u001b[0;34m\u001b[0m\u001b[0;34m\u001b[0m\u001b[0m\n\u001b[0;32m--> 504\u001b[0;31m             \u001b[0mf\u001b[0m\u001b[0;34m(\u001b[0m\u001b[0mself\u001b[0m\u001b[0;34m,\u001b[0m \u001b[0mobj\u001b[0m\u001b[0;34m)\u001b[0m \u001b[0;31m# Call unbound method with explicit self\u001b[0m\u001b[0;34m\u001b[0m\u001b[0;34m\u001b[0m\u001b[0m\n\u001b[0m\u001b[1;32m    505\u001b[0m             \u001b[0;32mreturn\u001b[0m\u001b[0;34m\u001b[0m\u001b[0;34m\u001b[0m\u001b[0m\n\u001b[1;32m    506\u001b[0m \u001b[0;34m\u001b[0m\u001b[0m\n",
      "\u001b[0;32m~/anaconda3/lib/python3.7/site-packages/dill/_dill.py\u001b[0m in \u001b[0;36msave_cell\u001b[0;34m(pickler, obj)\u001b[0m\n\u001b[1;32m   1127\u001b[0m     \u001b[0mlog\u001b[0m\u001b[0;34m.\u001b[0m\u001b[0minfo\u001b[0m\u001b[0;34m(\u001b[0m\u001b[0;34m\"Ce: %s\"\u001b[0m \u001b[0;34m%\u001b[0m \u001b[0mobj\u001b[0m\u001b[0;34m)\u001b[0m\u001b[0;34m\u001b[0m\u001b[0;34m\u001b[0m\u001b[0m\n\u001b[1;32m   1128\u001b[0m     \u001b[0mf\u001b[0m \u001b[0;34m=\u001b[0m \u001b[0mobj\u001b[0m\u001b[0;34m.\u001b[0m\u001b[0mcell_contents\u001b[0m\u001b[0;34m\u001b[0m\u001b[0;34m\u001b[0m\u001b[0m\n\u001b[0;32m-> 1129\u001b[0;31m     \u001b[0mpickler\u001b[0m\u001b[0;34m.\u001b[0m\u001b[0msave_reduce\u001b[0m\u001b[0;34m(\u001b[0m\u001b[0m_create_cell\u001b[0m\u001b[0;34m,\u001b[0m \u001b[0;34m(\u001b[0m\u001b[0mf\u001b[0m\u001b[0;34m,\u001b[0m\u001b[0;34m)\u001b[0m\u001b[0;34m,\u001b[0m \u001b[0mobj\u001b[0m\u001b[0;34m=\u001b[0m\u001b[0mobj\u001b[0m\u001b[0;34m)\u001b[0m\u001b[0;34m\u001b[0m\u001b[0;34m\u001b[0m\u001b[0m\n\u001b[0m\u001b[1;32m   1130\u001b[0m     \u001b[0mlog\u001b[0m\u001b[0;34m.\u001b[0m\u001b[0minfo\u001b[0m\u001b[0;34m(\u001b[0m\u001b[0;34m\"# Ce\"\u001b[0m\u001b[0;34m)\u001b[0m\u001b[0;34m\u001b[0m\u001b[0;34m\u001b[0m\u001b[0m\n\u001b[1;32m   1131\u001b[0m     \u001b[0;32mreturn\u001b[0m\u001b[0;34m\u001b[0m\u001b[0;34m\u001b[0m\u001b[0m\n",
      "\u001b[0;32m~/anaconda3/lib/python3.7/pickle.py\u001b[0m in \u001b[0;36msave_reduce\u001b[0;34m(self, func, args, state, listitems, dictitems, obj)\u001b[0m\n\u001b[1;32m    636\u001b[0m         \u001b[0;32melse\u001b[0m\u001b[0;34m:\u001b[0m\u001b[0;34m\u001b[0m\u001b[0;34m\u001b[0m\u001b[0m\n\u001b[1;32m    637\u001b[0m             \u001b[0msave\u001b[0m\u001b[0;34m(\u001b[0m\u001b[0mfunc\u001b[0m\u001b[0;34m)\u001b[0m\u001b[0;34m\u001b[0m\u001b[0;34m\u001b[0m\u001b[0m\n\u001b[0;32m--> 638\u001b[0;31m             \u001b[0msave\u001b[0m\u001b[0;34m(\u001b[0m\u001b[0margs\u001b[0m\u001b[0;34m)\u001b[0m\u001b[0;34m\u001b[0m\u001b[0;34m\u001b[0m\u001b[0m\n\u001b[0m\u001b[1;32m    639\u001b[0m             \u001b[0mwrite\u001b[0m\u001b[0;34m(\u001b[0m\u001b[0mREDUCE\u001b[0m\u001b[0;34m)\u001b[0m\u001b[0;34m\u001b[0m\u001b[0;34m\u001b[0m\u001b[0m\n\u001b[1;32m    640\u001b[0m \u001b[0;34m\u001b[0m\u001b[0m\n",
      "\u001b[0;32m~/anaconda3/lib/python3.7/pickle.py\u001b[0m in \u001b[0;36msave\u001b[0;34m(self, obj, save_persistent_id)\u001b[0m\n\u001b[1;32m    502\u001b[0m         \u001b[0mf\u001b[0m \u001b[0;34m=\u001b[0m \u001b[0mself\u001b[0m\u001b[0;34m.\u001b[0m\u001b[0mdispatch\u001b[0m\u001b[0;34m.\u001b[0m\u001b[0mget\u001b[0m\u001b[0;34m(\u001b[0m\u001b[0mt\u001b[0m\u001b[0;34m)\u001b[0m\u001b[0;34m\u001b[0m\u001b[0;34m\u001b[0m\u001b[0m\n\u001b[1;32m    503\u001b[0m         \u001b[0;32mif\u001b[0m \u001b[0mf\u001b[0m \u001b[0;32mis\u001b[0m \u001b[0;32mnot\u001b[0m \u001b[0;32mNone\u001b[0m\u001b[0;34m:\u001b[0m\u001b[0;34m\u001b[0m\u001b[0;34m\u001b[0m\u001b[0m\n\u001b[0;32m--> 504\u001b[0;31m             \u001b[0mf\u001b[0m\u001b[0;34m(\u001b[0m\u001b[0mself\u001b[0m\u001b[0;34m,\u001b[0m \u001b[0mobj\u001b[0m\u001b[0;34m)\u001b[0m \u001b[0;31m# Call unbound method with explicit self\u001b[0m\u001b[0;34m\u001b[0m\u001b[0;34m\u001b[0m\u001b[0m\n\u001b[0m\u001b[1;32m    505\u001b[0m             \u001b[0;32mreturn\u001b[0m\u001b[0;34m\u001b[0m\u001b[0;34m\u001b[0m\u001b[0m\n\u001b[1;32m    506\u001b[0m \u001b[0;34m\u001b[0m\u001b[0m\n",
      "\u001b[0;32m~/anaconda3/lib/python3.7/pickle.py\u001b[0m in \u001b[0;36msave_tuple\u001b[0;34m(self, obj)\u001b[0m\n\u001b[1;32m    769\u001b[0m         \u001b[0;32mif\u001b[0m \u001b[0mn\u001b[0m \u001b[0;34m<=\u001b[0m \u001b[0;36m3\u001b[0m \u001b[0;32mand\u001b[0m \u001b[0mself\u001b[0m\u001b[0;34m.\u001b[0m\u001b[0mproto\u001b[0m \u001b[0;34m>=\u001b[0m \u001b[0;36m2\u001b[0m\u001b[0;34m:\u001b[0m\u001b[0;34m\u001b[0m\u001b[0;34m\u001b[0m\u001b[0m\n\u001b[1;32m    770\u001b[0m             \u001b[0;32mfor\u001b[0m \u001b[0melement\u001b[0m \u001b[0;32min\u001b[0m \u001b[0mobj\u001b[0m\u001b[0;34m:\u001b[0m\u001b[0;34m\u001b[0m\u001b[0;34m\u001b[0m\u001b[0m\n\u001b[0;32m--> 771\u001b[0;31m                 \u001b[0msave\u001b[0m\u001b[0;34m(\u001b[0m\u001b[0melement\u001b[0m\u001b[0;34m)\u001b[0m\u001b[0;34m\u001b[0m\u001b[0;34m\u001b[0m\u001b[0m\n\u001b[0m\u001b[1;32m    772\u001b[0m             \u001b[0;31m# Subtle.  Same as in the big comment below.\u001b[0m\u001b[0;34m\u001b[0m\u001b[0;34m\u001b[0m\u001b[0;34m\u001b[0m\u001b[0m\n\u001b[1;32m    773\u001b[0m             \u001b[0;32mif\u001b[0m \u001b[0mid\u001b[0m\u001b[0;34m(\u001b[0m\u001b[0mobj\u001b[0m\u001b[0;34m)\u001b[0m \u001b[0;32min\u001b[0m \u001b[0mmemo\u001b[0m\u001b[0;34m:\u001b[0m\u001b[0;34m\u001b[0m\u001b[0;34m\u001b[0m\u001b[0m\n",
      "... last 12 frames repeated, from the frame below ...\n",
      "\u001b[0;32m~/anaconda3/lib/python3.7/pickle.py\u001b[0m in \u001b[0;36msave\u001b[0;34m(self, obj, save_persistent_id)\u001b[0m\n\u001b[1;32m    502\u001b[0m         \u001b[0mf\u001b[0m \u001b[0;34m=\u001b[0m \u001b[0mself\u001b[0m\u001b[0;34m.\u001b[0m\u001b[0mdispatch\u001b[0m\u001b[0;34m.\u001b[0m\u001b[0mget\u001b[0m\u001b[0;34m(\u001b[0m\u001b[0mt\u001b[0m\u001b[0;34m)\u001b[0m\u001b[0;34m\u001b[0m\u001b[0;34m\u001b[0m\u001b[0m\n\u001b[1;32m    503\u001b[0m         \u001b[0;32mif\u001b[0m \u001b[0mf\u001b[0m \u001b[0;32mis\u001b[0m \u001b[0;32mnot\u001b[0m \u001b[0;32mNone\u001b[0m\u001b[0;34m:\u001b[0m\u001b[0;34m\u001b[0m\u001b[0;34m\u001b[0m\u001b[0m\n\u001b[0;32m--> 504\u001b[0;31m             \u001b[0mf\u001b[0m\u001b[0;34m(\u001b[0m\u001b[0mself\u001b[0m\u001b[0;34m,\u001b[0m \u001b[0mobj\u001b[0m\u001b[0;34m)\u001b[0m \u001b[0;31m# Call unbound method with explicit self\u001b[0m\u001b[0;34m\u001b[0m\u001b[0;34m\u001b[0m\u001b[0m\n\u001b[0m\u001b[1;32m    505\u001b[0m             \u001b[0;32mreturn\u001b[0m\u001b[0;34m\u001b[0m\u001b[0;34m\u001b[0m\u001b[0m\n\u001b[1;32m    506\u001b[0m \u001b[0;34m\u001b[0m\u001b[0m\n",
      "\u001b[0;31mRecursionError\u001b[0m: maximum recursion depth exceeded"
     ]
    }
   ],
   "source": [
    "import dill\n",
    "dill.dump_session('save_your_stuff_idiot.db')"
   ]
  },
  {
   "cell_type": "code",
   "execution_count": null,
   "metadata": {},
   "outputs": [],
   "source": []
  }
 ],
 "metadata": {
  "kernelspec": {
   "display_name": "Python 3",
   "language": "python",
   "name": "python3"
  }
 },
 "nbformat": 4,
 "nbformat_minor": 2
}
